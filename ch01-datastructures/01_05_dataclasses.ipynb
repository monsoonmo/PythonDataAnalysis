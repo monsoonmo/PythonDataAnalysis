{
 "cells": [
  {
   "cell_type": "markdown",
   "metadata": {},
   "source": [
    "# 01_05: Data classes"
   ]
  },
  {
   "cell_type": "code",
   "execution_count": null,
   "metadata": {},
   "outputs": [],
   "source": [
    "import math\n",
    "import collections\n",
    "import dataclasses\n",
    "import datetime\n",
    "\n",
    "import numpy as np\n",
    "import pandas as pd\n",
    "import matplotlib.pyplot as pp"
   ]
  },
  {
   "cell_type": "markdown",
   "metadata": {},
   "source": [
    "<table>\n",
    "<tr><th>name</th><th>lastname</th><th>birthday</th></tr>\n",
    "<tr><td>Michele</td><td>Vallisneri</td><td>July 15</td></tr>\n",
    "<tr><td>Albert</td><td>Einstein</td><td>March 14</td></tr>\n",
    "<tr><td>John</td><td>Lennon</td><td>October 9</td></tr>\n",
    "<tr><td>Jocelyn</td><td>Bell Burnell</td><td>July 15</td></tr>\n",
    "</table>"
   ]
  },
  {
   "cell_type": "code",
   "execution_count": null,
   "metadata": {},
   "outputs": [],
   "source": [
    "peopledict = [{\"name\": \"Michele\", \"lastname\": \"Vallisneri\",   \"birthday\": \"July 15\"},\n",
    "              {\"name\": \"Albert\",  \"lastname\": \"Einstein\",     \"birthday\": \"March 14\"},\n",
    "              {\"name\": \"John\",    \"lastname\": \"Lennon\",       \"birthday\": \"October 9\"},\n",
    "              {\"name\": \"Jocelyn\", \"lastname\": \"Bell Burnell\", \"birthday\": \"July 15\"}]"
   ]
  },
  {
   "cell_type": "code",
   "execution_count": null,
   "metadata": {},
   "outputs": [],
   "source": [
    "[person for person in peopledict if person[\"birthday\"] == \"July 15\"]"
   ]
  },
  {
   "cell_type": "code",
   "execution_count": null,
   "metadata": {},
   "outputs": [],
   "source": [
    "Person = collections.namedtuple(\"Person\", [\"name\", \"lastname\", \"birthday\"])"
   ]
  },
  {
   "cell_type": "code",
   "execution_count": null,
   "metadata": {},
   "outputs": [],
   "source": [
    "Person(name='Michele', lastname='Vallisneri', birthday='July 15')"
   ]
  },
  {
   "cell_type": "code",
   "execution_count": null,
   "metadata": {},
   "outputs": [],
   "source": [
    "peopletuples = [Person(\"Michele\", \"Vallisneri\", \"July 15\"),\n",
    "                Person(\"Albert\", \"Einstein\", \"March 14\"),\n",
    "                Person(\"John\", \"Lennon\", \"October 9\"),\n",
    "                Person(\"Jocelyn\", \"Bell Burnell\", \"July 15\")]"
   ]
  },
  {
   "cell_type": "code",
   "execution_count": null,
   "metadata": {},
   "outputs": [],
   "source": [
    "[person for person in peopletuples if person.lastname == \"Lennon\"]"
   ]
  },
  {
   "cell_type": "code",
   "execution_count": null,
   "metadata": {},
   "outputs": [],
   "source": [
    "Person(**peopledict[3])"
   ]
  },
  {
   "cell_type": "code",
   "execution_count": null,
   "metadata": {},
   "outputs": [],
   "source": [
    "peopletuples[3]._asdict()"
   ]
  },
  {
   "cell_type": "code",
   "execution_count": null,
   "metadata": {},
   "outputs": [],
   "source": [
    "@dataclasses.dataclass\n",
    "class Persondata:\n",
    "    name: str\n",
    "    lastname: str\n",
    "    birthday: str = \"unknown\""
   ]
  },
  {
   "cell_type": "code",
   "execution_count": null,
   "metadata": {},
   "outputs": [],
   "source": [
    "peopledata = [Persondata(name=\"Michele\", lastname=\"Vallisneri\", birthday=\"July 15\"),\n",
    "              Persondata(\"Albert\", \"Einstein\", \"March 14\"),\n",
    "              Persondata(\"John\", \"Lennon\", \"October 9\"),\n",
    "              Persondata(\"Jocelyn\", \"Bell Burnell\", \"July 15\")]"
   ]
  },
  {
   "cell_type": "code",
   "execution_count": null,
   "metadata": {},
   "outputs": [],
   "source": [
    "[person for person in peopledata if person.birthday != \"July 15\"]"
   ]
  },
  {
   "cell_type": "code",
   "execution_count": null,
   "metadata": {},
   "outputs": [],
   "source": [
    "@dataclasses.dataclass\n",
    "class Persondata:\n",
    "    name: str\n",
    "    lastname: str\n",
    "    birthday: str = \"unknown\"\n",
    "    \n",
    "    # when writing class methods, \"self\" refers to instances\n",
    "    def fullname(self):\n",
    "        return self.name + \" \" + self.lastname\n",
    "\n",
    "    # the special method __str__ overrides the standard printout\n",
    "    def __str__(self):\n",
    "        return self.lastname + \", \" + self.name + \", born \" + self.birthday"
   ]
  },
  {
   "cell_type": "code",
   "execution_count": null,
   "metadata": {},
   "outputs": [],
   "source": [
    "michele = Persondata('Michele', 'Vallisneri', 'July 15')"
   ]
  },
  {
   "cell_type": "code",
   "execution_count": null,
   "metadata": {},
   "outputs": [],
   "source": [
    "michele.fullname()"
   ]
  },
  {
   "cell_type": "code",
   "execution_count": null,
   "metadata": {},
   "outputs": [],
   "source": [
    "print(michele)"
   ]
  },
  {
   "cell_type": "code",
   "execution_count": null,
   "metadata": {},
   "outputs": [],
   "source": [
    "@dataclasses.dataclass(frozen = True)\n",
    "class Persondata_frozen:\n",
    "    name: str\n",
    "    lastname: str\n",
    "    birthday: str = \"unknown\"\n",
    "\n",
    "\n",
    "@dataclasses.dataclass(order = True)\n",
    "class Persondata_ordered:\n",
    "    name: str\n",
    "    lastname: str\n",
    "    birthday: str = \"unknown\"\n",
    "\n",
    "\n",
    "@dataclasses.dataclass\n",
    "class Persondata_customorder:\n",
    "    name: str\n",
    "    lastname: str\n",
    "    birthday: str = \"unknown\"\n",
    "\n",
    "    # custom \"less than\" comparison\n",
    "    def __lt__(self, other):       \n",
    "        return (self.lastname, self.name, self.birthday) < (other.lastname, other.name, other.birthday)\n",
    "\n",
    "\n",
    "@dataclasses.dataclass\n",
    "class Persondata_computed:\n",
    "    name: str\n",
    "    lastname: str\n",
    "    birthday: str = \"unknown\"\n",
    "    fullname: str = dataclasses.field(init=False) # will compute it below\n",
    "\n",
    "    def __post_init__(self):\n",
    "        self.fullname = self.name + \" \" + self.lastname"
   ]
  },
  {
   "cell_type": "code",
   "execution_count": null,
   "metadata": {},
   "outputs": [],
   "source": [
    "import pydantic"
   ]
  },
  {
   "cell_type": "code",
   "execution_count": null,
   "metadata": {},
   "outputs": [],
   "source": [
    "@pydantic.dataclasses.dataclass\n",
    "class Persondata_pydantic:\n",
    "    name: str\n",
    "    lastname: str\n",
    "    birthday: str = \"unknown\"\n",
    "\n",
    "    @pydantic.field_validator(\"birthday\")\n",
    "    def validate_date(cls, value): # a class method, so first argument is the class \n",
    "        \n",
    "        # will fail if date is not \"MONTHNAME DAYNUMBER\" \n",
    "        datetime.datetime.strptime(value, \"%B %d\")\n",
    "        \n",
    "        return value"
   ]
  },
  {
   "cell_type": "code",
   "execution_count": null,
   "metadata": {},
   "outputs": [],
   "source": [
    "Persondata_pydantic(\"Michele\", 15, \"July 15\")"
   ]
  },
  {
   "cell_type": "code",
   "execution_count": null,
   "metadata": {},
   "outputs": [],
   "source": [
    "Persondata_pydantic('Michele', \"Vallisneri\", \"7/15\")"
   ]
  }
 ],
 "metadata": {
  "kernelspec": {
   "display_name": "Python 3 (ipykernel)",
   "language": "python",
   "name": "python3"
  },
  "language_info": {
   "codemirror_mode": {
    "name": "ipython",
    "version": 3
   },
   "file_extension": ".py",
   "mimetype": "text/x-python",
   "name": "python",
   "nbconvert_exporter": "python",
   "pygments_lexer": "ipython3",
   "version": "3.11.8"
  }
 },
 "nbformat": 4,
 "nbformat_minor": 4
}
