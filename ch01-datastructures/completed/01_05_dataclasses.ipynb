{
 "cells": [
  {
   "cell_type": "markdown",
   "metadata": {},
   "source": [
    "# 01_05: Data classes"
   ]
  },
  {
   "cell_type": "code",
   "execution_count": 1,
   "metadata": {},
   "outputs": [],
   "source": [
    "import math\n",
    "import collections\n",
    "import dataclasses\n",
    "import datetime\n",
    "\n",
    "import numpy as np\n",
    "import pandas as pd\n",
    "import matplotlib.pyplot as pp"
   ]
  },
  {
   "cell_type": "markdown",
   "metadata": {},
   "source": [
    "<table>\n",
    "<tr><th>name</th><th>lastname</th><th>birthday</th></tr>\n",
    "<tr><td>Michele</td><td>Vallisneri</td><td>July 15</td></tr>\n",
    "<tr><td>Albert</td><td>Einstein</td><td>March 14</td></tr>\n",
    "<tr><td>John</td><td>Lennon</td><td>October 9</td></tr>\n",
    "<tr><td>Jocelyn</td><td>Bell Burnell</td><td>July 15</td></tr>\n",
    "</table>"
   ]
  },
  {
   "cell_type": "code",
   "execution_count": 2,
   "metadata": {},
   "outputs": [],
   "source": [
    "peopledict = [{\"name\": \"Michele\", \"lastname\": \"Vallisneri\",   \"birthday\": \"July 15\"},\n",
    "              {\"name\": \"Albert\",  \"lastname\": \"Einstein\",     \"birthday\": \"March 14\"},\n",
    "              {\"name\": \"John\",    \"lastname\": \"Lennon\",       \"birthday\": \"October 9\"},\n",
    "              {\"name\": \"Jocelyn\", \"lastname\": \"Bell Burnell\", \"birthday\": \"July 15\"}]"
   ]
  },
  {
   "cell_type": "code",
   "execution_count": 3,
   "metadata": {},
   "outputs": [
    {
     "data": {
      "text/plain": [
       "[{'name': 'Michele', 'lastname': 'Vallisneri', 'birthday': 'July 15'},\n",
       " {'name': 'Jocelyn', 'lastname': 'Bell Burnell', 'birthday': 'July 15'}]"
      ]
     },
     "execution_count": 3,
     "metadata": {},
     "output_type": "execute_result"
    }
   ],
   "source": [
    "[person for person in peopledict if person[\"birthday\"] == \"July 15\"]"
   ]
  },
  {
   "cell_type": "code",
   "execution_count": 4,
   "metadata": {},
   "outputs": [],
   "source": [
    "Person = collections.namedtuple(\"Person\", [\"name\", \"lastname\", \"birthday\"])"
   ]
  },
  {
   "cell_type": "code",
   "execution_count": 5,
   "metadata": {},
   "outputs": [
    {
     "data": {
      "text/plain": [
       "Person(name='Michele', lastname='Vallisneri', birthday='July 15')"
      ]
     },
     "execution_count": 5,
     "metadata": {},
     "output_type": "execute_result"
    }
   ],
   "source": [
    "Person(name='Michele', lastname='Vallisneri', birthday='July 15')"
   ]
  },
  {
   "cell_type": "code",
   "execution_count": 6,
   "metadata": {},
   "outputs": [],
   "source": [
    "peopletuples = [Person(\"Michele\", \"Vallisneri\", \"July 15\"),\n",
    "                Person(\"Albert\", \"Einstein\", \"March 14\"),\n",
    "                Person(\"John\", \"Lennon\", \"October 9\"),\n",
    "                Person(\"Jocelyn\", \"Bell Burnell\", \"July 15\")]"
   ]
  },
  {
   "cell_type": "code",
   "execution_count": 7,
   "metadata": {},
   "outputs": [
    {
     "data": {
      "text/plain": [
       "[Person(name='John', lastname='Lennon', birthday='October 9')]"
      ]
     },
     "execution_count": 7,
     "metadata": {},
     "output_type": "execute_result"
    }
   ],
   "source": [
    "[person for person in peopletuples if person.lastname == \"Lennon\"]"
   ]
  },
  {
   "cell_type": "code",
   "execution_count": 8,
   "metadata": {},
   "outputs": [
    {
     "data": {
      "text/plain": [
       "Person(name='Jocelyn', lastname='Bell Burnell', birthday='July 15')"
      ]
     },
     "execution_count": 8,
     "metadata": {},
     "output_type": "execute_result"
    }
   ],
   "source": [
    "Person(**peopledict[3])"
   ]
  },
  {
   "cell_type": "code",
   "execution_count": 9,
   "metadata": {},
   "outputs": [
    {
     "data": {
      "text/plain": [
       "{'name': 'Jocelyn', 'lastname': 'Bell Burnell', 'birthday': 'July 15'}"
      ]
     },
     "execution_count": 9,
     "metadata": {},
     "output_type": "execute_result"
    }
   ],
   "source": [
    "peopletuples[3]._asdict()"
   ]
  },
  {
   "cell_type": "code",
   "execution_count": 10,
   "metadata": {},
   "outputs": [],
   "source": [
    "@dataclasses.dataclass\n",
    "class Persondata:\n",
    "    name: str\n",
    "    lastname: str\n",
    "    birthday: str = \"unknown\""
   ]
  },
  {
   "cell_type": "code",
   "execution_count": 11,
   "metadata": {},
   "outputs": [],
   "source": [
    "peopledata = [Persondata(name=\"Michele\", lastname=\"Vallisneri\", birthday=\"July 15\"),\n",
    "              Persondata(\"Albert\", \"Einstein\", \"March 14\"),\n",
    "              Persondata(\"John\", \"Lennon\", \"October 9\"),\n",
    "              Persondata(\"Jocelyn\", \"Bell Burnell\", \"July 15\")]"
   ]
  },
  {
   "cell_type": "code",
   "execution_count": 12,
   "metadata": {},
   "outputs": [
    {
     "data": {
      "text/plain": [
       "[Persondata(name='Albert', lastname='Einstein', birthday='March 14'),\n",
       " Persondata(name='John', lastname='Lennon', birthday='October 9')]"
      ]
     },
     "execution_count": 12,
     "metadata": {},
     "output_type": "execute_result"
    }
   ],
   "source": [
    "[person for person in peopledata if person.birthday != \"July 15\"]"
   ]
  },
  {
   "cell_type": "code",
   "execution_count": 13,
   "metadata": {},
   "outputs": [],
   "source": [
    "@dataclasses.dataclass\n",
    "class Persondata:\n",
    "    name: str\n",
    "    lastname: str\n",
    "    birthday: str = \"unknown\"\n",
    "    \n",
    "    # when writing class methods, \"self\" refers to instances\n",
    "    def fullname(self):\n",
    "        return self.name + \" \" + self.lastname\n",
    "\n",
    "    # the special method __str__ overrides the standard printout\n",
    "    def __str__(self):\n",
    "        return self.lastname + \", \" + self.name + \", born \" + self.birthday"
   ]
  },
  {
   "cell_type": "code",
   "execution_count": 14,
   "metadata": {},
   "outputs": [],
   "source": [
    "michele = Persondata('Michele', 'Vallisneri', 'July 15')"
   ]
  },
  {
   "cell_type": "code",
   "execution_count": 15,
   "metadata": {},
   "outputs": [
    {
     "data": {
      "text/plain": [
       "'Michele Vallisneri'"
      ]
     },
     "execution_count": 15,
     "metadata": {},
     "output_type": "execute_result"
    }
   ],
   "source": [
    "michele.fullname()"
   ]
  },
  {
   "cell_type": "code",
   "execution_count": 16,
   "metadata": {},
   "outputs": [
    {
     "name": "stdout",
     "output_type": "stream",
     "text": [
      "Vallisneri, Michele, born July 15\n"
     ]
    }
   ],
   "source": [
    "print(michele)"
   ]
  },
  {
   "cell_type": "code",
   "execution_count": 17,
   "metadata": {},
   "outputs": [],
   "source": [
    "@dataclasses.dataclass(frozen = True)\n",
    "class Persondata_frozen:\n",
    "    name: str\n",
    "    lastname: str\n",
    "    birthday: str = \"unknown\"\n",
    "\n",
    "\n",
    "@dataclasses.dataclass(order = True)\n",
    "class Persondata_ordered:\n",
    "    name: str\n",
    "    lastname: str\n",
    "    birthday: str = \"unknown\"\n",
    "\n",
    "\n",
    "@dataclasses.dataclass\n",
    "class Persondata_customorder:\n",
    "    name: str\n",
    "    lastname: str\n",
    "    birthday: str = \"unknown\"\n",
    "\n",
    "    # custom \"less than\" comparison\n",
    "    def __lt__(self, other):       \n",
    "        return (self.lastname, self.name, self.birthday) < (other.lastname, other.name, other.birthday)\n",
    "\n",
    "\n",
    "@dataclasses.dataclass\n",
    "class Persondata_computed:\n",
    "    name: str\n",
    "    lastname: str\n",
    "    birthday: str = \"unknown\"\n",
    "    fullname: str = dataclasses.field(init=False) # will compute it below\n",
    "\n",
    "    def __post_init__(self):\n",
    "        self.fullname = self.name + \" \" + self.lastname"
   ]
  },
  {
   "cell_type": "code",
   "execution_count": 18,
   "metadata": {},
   "outputs": [],
   "source": [
    "import pydantic"
   ]
  },
  {
   "cell_type": "code",
   "execution_count": 19,
   "metadata": {},
   "outputs": [],
   "source": [
    "@pydantic.dataclasses.dataclass\n",
    "class Persondata_pydantic:\n",
    "    name: str\n",
    "    lastname: str\n",
    "    birthday: str = \"unknown\"\n",
    "\n",
    "    @pydantic.field_validator(\"birthday\")\n",
    "    def validate_date(cls, value): # a class method, so first argument is the class \n",
    "        \n",
    "        # will fail if date is not \"MONTHNAME DAYNUMBER\" \n",
    "        datetime.datetime.strptime(value, \"%B %d\")\n",
    "        \n",
    "        return value"
   ]
  },
  {
   "cell_type": "code",
   "execution_count": 20,
   "metadata": {},
   "outputs": [
    {
     "ename": "ValidationError",
     "evalue": "1 validation error for Persondata_pydantic\n1\n  Input should be a valid string [type=string_type, input_value=15, input_type=int]\n    For further information visit https://errors.pydantic.dev/2.9/v/string_type",
     "output_type": "error",
     "traceback": [
      "\u001b[0;31m---------------------------------------------------------------------------\u001b[0m",
      "\u001b[0;31mValidationError\u001b[0m                           Traceback (most recent call last)",
      "Cell \u001b[0;32mIn[20], line 1\u001b[0m\n\u001b[0;32m----> 1\u001b[0m \u001b[43mPersondata_pydantic\u001b[49m\u001b[43m(\u001b[49m\u001b[38;5;124;43m\"\u001b[39;49m\u001b[38;5;124;43mMichele\u001b[39;49m\u001b[38;5;124;43m\"\u001b[39;49m\u001b[43m,\u001b[49m\u001b[43m \u001b[49m\u001b[38;5;241;43m15\u001b[39;49m\u001b[43m,\u001b[49m\u001b[43m \u001b[49m\u001b[38;5;124;43m\"\u001b[39;49m\u001b[38;5;124;43mJuly 15\u001b[39;49m\u001b[38;5;124;43m\"\u001b[39;49m\u001b[43m)\u001b[49m\n",
      "File \u001b[0;32m~/.local/lib/python3.12/site-packages/pydantic/_internal/_dataclasses.py:141\u001b[0m, in \u001b[0;36mcomplete_dataclass.<locals>.__init__\u001b[0;34m(__dataclass_self__, *args, **kwargs)\u001b[0m\n\u001b[1;32m    139\u001b[0m __tracebackhide__ \u001b[38;5;241m=\u001b[39m \u001b[38;5;28;01mTrue\u001b[39;00m\n\u001b[1;32m    140\u001b[0m s \u001b[38;5;241m=\u001b[39m __dataclass_self__\n\u001b[0;32m--> 141\u001b[0m \u001b[43ms\u001b[49m\u001b[38;5;241;43m.\u001b[39;49m\u001b[43m__pydantic_validator__\u001b[49m\u001b[38;5;241;43m.\u001b[39;49m\u001b[43mvalidate_python\u001b[49m\u001b[43m(\u001b[49m\u001b[43mArgsKwargs\u001b[49m\u001b[43m(\u001b[49m\u001b[43margs\u001b[49m\u001b[43m,\u001b[49m\u001b[43m \u001b[49m\u001b[43mkwargs\u001b[49m\u001b[43m)\u001b[49m\u001b[43m,\u001b[49m\u001b[43m \u001b[49m\u001b[43mself_instance\u001b[49m\u001b[38;5;241;43m=\u001b[39;49m\u001b[43ms\u001b[49m\u001b[43m)\u001b[49m\n",
      "\u001b[0;31mValidationError\u001b[0m: 1 validation error for Persondata_pydantic\n1\n  Input should be a valid string [type=string_type, input_value=15, input_type=int]\n    For further information visit https://errors.pydantic.dev/2.9/v/string_type"
     ]
    }
   ],
   "source": [
    "Persondata_pydantic(\"Michele\", 15, \"July 15\")"
   ]
  },
  {
   "cell_type": "code",
   "execution_count": 21,
   "metadata": {},
   "outputs": [
    {
     "ename": "ValidationError",
     "evalue": "1 validation error for Persondata_pydantic\n2\n  Value error, time data '7/15' does not match format '%B %d' [type=value_error, input_value='7/15', input_type=str]\n    For further information visit https://errors.pydantic.dev/2.9/v/value_error",
     "output_type": "error",
     "traceback": [
      "\u001b[0;31m---------------------------------------------------------------------------\u001b[0m",
      "\u001b[0;31mValidationError\u001b[0m                           Traceback (most recent call last)",
      "Cell \u001b[0;32mIn[21], line 1\u001b[0m\n\u001b[0;32m----> 1\u001b[0m \u001b[43mPersondata_pydantic\u001b[49m\u001b[43m(\u001b[49m\u001b[38;5;124;43m'\u001b[39;49m\u001b[38;5;124;43mMichele\u001b[39;49m\u001b[38;5;124;43m'\u001b[39;49m\u001b[43m,\u001b[49m\u001b[43m \u001b[49m\u001b[38;5;124;43m\"\u001b[39;49m\u001b[38;5;124;43mVallisneri\u001b[39;49m\u001b[38;5;124;43m\"\u001b[39;49m\u001b[43m,\u001b[49m\u001b[43m \u001b[49m\u001b[38;5;124;43m\"\u001b[39;49m\u001b[38;5;124;43m7/15\u001b[39;49m\u001b[38;5;124;43m\"\u001b[39;49m\u001b[43m)\u001b[49m\n",
      "File \u001b[0;32m~/.local/lib/python3.12/site-packages/pydantic/_internal/_dataclasses.py:141\u001b[0m, in \u001b[0;36mcomplete_dataclass.<locals>.__init__\u001b[0;34m(__dataclass_self__, *args, **kwargs)\u001b[0m\n\u001b[1;32m    139\u001b[0m __tracebackhide__ \u001b[38;5;241m=\u001b[39m \u001b[38;5;28;01mTrue\u001b[39;00m\n\u001b[1;32m    140\u001b[0m s \u001b[38;5;241m=\u001b[39m __dataclass_self__\n\u001b[0;32m--> 141\u001b[0m \u001b[43ms\u001b[49m\u001b[38;5;241;43m.\u001b[39;49m\u001b[43m__pydantic_validator__\u001b[49m\u001b[38;5;241;43m.\u001b[39;49m\u001b[43mvalidate_python\u001b[49m\u001b[43m(\u001b[49m\u001b[43mArgsKwargs\u001b[49m\u001b[43m(\u001b[49m\u001b[43margs\u001b[49m\u001b[43m,\u001b[49m\u001b[43m \u001b[49m\u001b[43mkwargs\u001b[49m\u001b[43m)\u001b[49m\u001b[43m,\u001b[49m\u001b[43m \u001b[49m\u001b[43mself_instance\u001b[49m\u001b[38;5;241;43m=\u001b[39;49m\u001b[43ms\u001b[49m\u001b[43m)\u001b[49m\n",
      "\u001b[0;31mValidationError\u001b[0m: 1 validation error for Persondata_pydantic\n2\n  Value error, time data '7/15' does not match format '%B %d' [type=value_error, input_value='7/15', input_type=str]\n    For further information visit https://errors.pydantic.dev/2.9/v/value_error"
     ]
    }
   ],
   "source": [
    "Persondata_pydantic('Michele', \"Vallisneri\", \"7/15\")"
   ]
  },
  {
   "cell_type": "code",
   "execution_count": null,
   "metadata": {},
   "outputs": [],
   "source": []
  }
 ],
 "metadata": {
  "kernelspec": {
   "display_name": "Python 3",
   "language": "python",
   "name": "python3"
  },
  "language_info": {
   "codemirror_mode": {
    "name": "ipython",
    "version": 3
   },
   "file_extension": ".py",
   "mimetype": "text/x-python",
   "name": "python",
   "nbconvert_exporter": "python",
   "pygments_lexer": "ipython3",
   "version": "3.12.1"
  }
 },
 "nbformat": 4,
 "nbformat_minor": 4
}
