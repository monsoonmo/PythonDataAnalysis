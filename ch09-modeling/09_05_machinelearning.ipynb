{
 "cells": [
  {
   "cell_type": "markdown",
   "id": "11716b0a-305c-4c3a-a192-4cab4cf48f17",
   "metadata": {},
   "source": [
    "# 09_05: A taste of machine learning"
   ]
  },
  {
   "cell_type": "code",
   "execution_count": null,
   "id": "fb7ab238-1d6d-41ce-9bbb-4fd482f39fab",
   "metadata": {},
   "outputs": [],
   "source": [
    "import math\n",
    "import collections\n",
    "import dataclasses\n",
    "import datetime\n",
    "\n",
    "import numpy as np\n",
    "import pandas as pd\n",
    "import matplotlib.pyplot as pp"
   ]
  },
  {
   "cell_type": "code",
   "execution_count": null,
   "id": "8f2093e3-45d4-4ec8-8aa7-b83910cfa48c",
   "metadata": {},
   "outputs": [],
   "source": [
    "from sklearn.model_selection import train_test_split\n",
    "from sklearn.tree import DecisionTreeClassifier\n",
    "from sklearn.ensemble import RandomForestClassifier\n",
    "from sklearn.metrics import accuracy_score, classification_report, confusion_matrix"
   ]
  },
  {
   "cell_type": "code",
   "execution_count": null,
   "id": "de949bf8-5b1d-4eb1-a4ca-f8b6fa9ffa29",
   "metadata": {},
   "outputs": [],
   "source": [
    "# fix random number seed for repeatable computation\n",
    "np.random.seed(43)"
   ]
  },
  {
   "cell_type": "code",
   "execution_count": null,
   "id": "cc734632-3be7-4432-a553-9b10780b8931",
   "metadata": {},
   "outputs": [],
   "source": [
    "gm = pd.read_csv('gapminder.csv')"
   ]
  },
  {
   "cell_type": "code",
   "execution_count": null,
   "id": "67122491-fa83-4ee7-85ab-f801cac69b63",
   "metadata": {},
   "outputs": [],
   "source": [
    "gm2023 = gm[gm.year == 2023]\n",
    "gm2023.head()"
   ]
  },
  {
   "cell_type": "code",
   "execution_count": null,
   "id": "1cc6c6e3-f354-4997-810a-439521f7566c",
   "metadata": {},
   "outputs": [],
   "source": [
    "x = gm2023[['population', 'life_expectancy', 'age5_surviving', 'babies_per_woman', 'gdp_per_capita']]"
   ]
  },
  {
   "cell_type": "code",
   "execution_count": null,
   "id": "e7653701-2cb5-4ab5-b88f-f26d06eb08c7",
   "metadata": {},
   "outputs": [],
   "source": [
    "y = gm2023['region'].astype('category')"
   ]
  },
  {
   "cell_type": "code",
   "execution_count": null,
   "id": "c8aea701-565c-4edc-b528-713aebcde80b",
   "metadata": {},
   "outputs": [],
   "source": [
    "z = y.cat.codes\n",
    "z.head(10)"
   ]
  },
  {
   "cell_type": "code",
   "execution_count": null,
   "id": "6b376c6a-e5b5-4510-b311-fe1f9df347eb",
   "metadata": {},
   "outputs": [],
   "source": [
    "x_train, x_test, z_train, z_test = train_test_split(x, z, test_size=0.3)"
   ]
  },
  {
   "cell_type": "code",
   "execution_count": null,
   "id": "6e9a67ba-b979-48ba-b5e6-50e7ef774669",
   "metadata": {},
   "outputs": [],
   "source": [
    "tree = DecisionTreeClassifier()"
   ]
  },
  {
   "cell_type": "code",
   "execution_count": null,
   "id": "d75af9bc-cc99-4666-8c9a-23a3e36b0db5",
   "metadata": {},
   "outputs": [],
   "source": [
    "tree.fit(x_train, z_train)"
   ]
  },
  {
   "cell_type": "code",
   "execution_count": null,
   "id": "dd93e50f-952d-440f-a40d-ee70c0e18ff5",
   "metadata": {},
   "outputs": [],
   "source": [
    "tree_pred = tree.predict(x_test)\n",
    "tree_pred"
   ]
  },
  {
   "cell_type": "code",
   "execution_count": null,
   "id": "562eca2e-b8c8-4c90-8881-cd3ff7baec2e",
   "metadata": {},
   "outputs": [],
   "source": [
    "pd.DataFrame({'label': y.cat.categories[z_test],\n",
    "              'predicted': y.cat.categories[tree_pred]}).head(20)"
   ]
  },
  {
   "cell_type": "code",
   "execution_count": null,
   "id": "c6dda7ef-221c-48c8-bf02-a6ebd3eb8507",
   "metadata": {},
   "outputs": [],
   "source": [
    "accuracy_score(z_test, tree_pred)"
   ]
  },
  {
   "cell_type": "code",
   "execution_count": null,
   "id": "2e9d2159-2c1f-4eec-85d5-42b2c9121081",
   "metadata": {},
   "outputs": [],
   "source": [
    "np.sum(y.cat.categories[z_test] == y.cat.categories[tree_pred]) / len(z_test)"
   ]
  },
  {
   "cell_type": "code",
   "execution_count": null,
   "id": "70bd152e-5414-4324-a667-ad8ee534e240",
   "metadata": {},
   "outputs": [],
   "source": [
    "print(classification_report(z_test, tree_pred, target_names=y.cat.categories))"
   ]
  },
  {
   "cell_type": "code",
   "execution_count": null,
   "id": "c6de5ac9-9db6-4d33-8cfc-02a05ec18f37",
   "metadata": {},
   "outputs": [],
   "source": [
    "pp.imshow(confusion_matrix(z_test, tree_pred, normalize='true'))\n",
    "pp.xticks(range(5), y.cat.categories); pp.yticks(range(5), y.cat.categories)\n",
    "pp.colorbar();"
   ]
  },
  {
   "cell_type": "code",
   "execution_count": null,
   "id": "8cd8b29e-4fb9-404f-80eb-d218480ae64a",
   "metadata": {},
   "outputs": [],
   "source": [
    "forest = RandomForestClassifier()"
   ]
  },
  {
   "cell_type": "code",
   "execution_count": null,
   "id": "d2280a8c-e5cd-4f47-bba2-405383f84a36",
   "metadata": {},
   "outputs": [],
   "source": [
    "forest.fit(x_train, z_train)"
   ]
  },
  {
   "cell_type": "code",
   "execution_count": null,
   "id": "4ee2ef7c-c930-4607-95e3-3d50b71af69f",
   "metadata": {},
   "outputs": [],
   "source": [
    "forest_pred = forest.predict(x_test)"
   ]
  },
  {
   "cell_type": "code",
   "execution_count": null,
   "id": "1d62c02f-72b6-4051-85ec-e2587b428503",
   "metadata": {},
   "outputs": [],
   "source": [
    "print(classification_report(z_test, forest_pred, target_names=y.cat.categories))"
   ]
  },
  {
   "cell_type": "code",
   "execution_count": null,
   "id": "5c01dc07-45ae-42db-b960-d36cea51f4bc",
   "metadata": {},
   "outputs": [],
   "source": [
    "pp.imshow(confusion_matrix(z_test, forest_pred, normalize='true'))\n",
    "pp.xticks(range(5), y.cat.categories); pp.yticks(range(5), y.cat.categories)\n",
    "pp.colorbar();"
   ]
  }
 ],
 "metadata": {
  "kernelspec": {
   "display_name": "Python 3 (ipykernel)",
   "language": "python",
   "name": "python3"
  },
  "language_info": {
   "codemirror_mode": {
    "name": "ipython",
    "version": 3
   },
   "file_extension": ".py",
   "mimetype": "text/x-python",
   "name": "python",
   "nbconvert_exporter": "python",
   "pygments_lexer": "ipython3",
   "version": "3.12.2"
  }
 },
 "nbformat": 4,
 "nbformat_minor": 5
}
