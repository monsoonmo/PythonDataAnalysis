{
 "cells": [
  {
   "cell_type": "markdown",
   "id": "62db7971-a494-4a47-8b32-04fa33ad023e",
   "metadata": {},
   "source": [
    "# 09_02: Fitting models"
   ]
  },
  {
   "cell_type": "code",
   "execution_count": 1,
   "id": "be32e5a3-1c2b-47ae-8ecd-8912fb967dab",
   "metadata": {},
   "outputs": [],
   "source": [
    "import math\n",
    "import collections\n",
    "import dataclasses\n",
    "import datetime\n",
    "\n",
    "import numpy as np\n",
    "import pandas as pd\n",
    "import matplotlib.pyplot as pp"
   ]
  },
  {
   "cell_type": "code",
   "execution_count": 2,
   "id": "dd274251-1c34-4aa0-a4b3-4cbcdec05132",
   "metadata": {},
   "outputs": [],
   "source": [
    "gm = pd.read_csv('gapminder.csv', dtype_backend='pyarrow')"
   ]
  },
  {
   "cell_type": "code",
   "execution_count": null,
   "id": "afd249a6-00b2-47a7-a5d7-e75413cc8d61",
   "metadata": {},
   "outputs": [],
   "source": [
    "gm.info()"
   ]
  },
  {
   "cell_type": "code",
   "execution_count": 4,
   "id": "e545fb01-6344-4b60-903d-6de78ee67e48",
   "metadata": {},
   "outputs": [],
   "source": [
    "gdata = gm[gm.year == 1985].copy()"
   ]
  },
  {
   "cell_type": "code",
   "execution_count": 5,
   "id": "9be60f2e-cdec-4d46-8ba6-f4c82f7c20c3",
   "metadata": {},
   "outputs": [],
   "source": [
    "gdata['region'] = gdata['region'].astype('category')"
   ]
  },
  {
   "cell_type": "code",
   "execution_count": null,
   "id": "0c4a7a71-a2b0-4194-baf5-3c921e719522",
   "metadata": {},
   "outputs": [],
   "source": [
    "gdata.region.dtype"
   ]
  },
  {
   "cell_type": "code",
   "execution_count": 7,
   "id": "ee8d895f-82dc-40ed-8bb1-bf5b7f77861b",
   "metadata": {},
   "outputs": [],
   "source": [
    "continent = gdata.region.map({'Africa': 'skyblue', 'Europe': 'gold', 'America': 'palegreen', 'Asia': 'coral', 'Oceania': 'teal'})\n",
    "population = 1e-6 * gdata.population\n",
    "\n",
    "def plotbabies():    \n",
    "    gdata.plot.scatter('age5_surviving', 'babies_per_woman', c=continent, s=population,\n",
    "                       linewidths=0.5, edgecolor='black', alpha=0.6, figsize=(5,3.5)); # alpha adds some transparency"
   ]
  },
  {
   "cell_type": "code",
   "execution_count": null,
   "id": "33364b04-17a7-4d3a-92d8-3bf87e0ce5e8",
   "metadata": {},
   "outputs": [],
   "source": [
    "plotbabies()"
   ]
  },
  {
   "cell_type": "code",
   "execution_count": 9,
   "id": "dd3fb9ca-3014-4929-8301-75e130bd39fb",
   "metadata": {},
   "outputs": [],
   "source": [
    "import statsmodels\n",
    "import statsmodels.formula.api as smf"
   ]
  },
  {
   "cell_type": "code",
   "execution_count": 10,
   "id": "0aae58ea-968e-463b-93ec-79b78665680a",
   "metadata": {},
   "outputs": [],
   "source": [
    "constantmodel = smf.ols(formula='babies_per_woman ~ 1', data=gdata)"
   ]
  },
  {
   "cell_type": "code",
   "execution_count": 11,
   "id": "a4e5b232-e82d-4a3f-98fc-29db17a9bd92",
   "metadata": {},
   "outputs": [],
   "source": [
    "constantfit = constantmodel.fit()"
   ]
  },
  {
   "cell_type": "code",
   "execution_count": null,
   "id": "05a14ad7-6274-4460-9270-cfd7fa60975a",
   "metadata": {},
   "outputs": [],
   "source": [
    "constantfit.params"
   ]
  },
  {
   "cell_type": "code",
   "execution_count": null,
   "id": "07fad12e-2622-4521-aaed-cda84a2499ce",
   "metadata": {},
   "outputs": [],
   "source": [
    "gdata.babies_per_woman.mean()"
   ]
  },
  {
   "cell_type": "code",
   "execution_count": null,
   "id": "fada1459-1b50-4205-8fdf-a02a3871d8f9",
   "metadata": {},
   "outputs": [],
   "source": [
    "constantfit.predict(gdata)"
   ]
  },
  {
   "cell_type": "code",
   "execution_count": null,
   "id": "85c8d701-3c81-43ff-971a-9a8840a2bc33",
   "metadata": {},
   "outputs": [],
   "source": [
    "plotbabies()\n",
    "pp.scatter(gdata.age5_surviving, constantfit.predict(gdata), color=continent,\n",
    "           s=50, marker='.', edgecolor='k', linewidth=0.5); # small square markers with a think black edge"
   ]
  },
  {
   "cell_type": "code",
   "execution_count": 16,
   "id": "f22cdf2b-6bfd-4bd6-952e-68bea6f82392",
   "metadata": {},
   "outputs": [],
   "source": [
    "groupfit = smf.ols(formula='babies_per_woman ~ 1 + region', data=gdata).fit()"
   ]
  },
  {
   "cell_type": "code",
   "execution_count": null,
   "id": "73c2b4ef-10f1-4846-9856-7053b4cfba7b",
   "metadata": {},
   "outputs": [],
   "source": [
    "groupfit.params"
   ]
  },
  {
   "cell_type": "code",
   "execution_count": 18,
   "id": "c5137ca5-f23d-4628-b757-b2522c2fbb2e",
   "metadata": {},
   "outputs": [],
   "source": [
    "groupfit2 = smf.ols(formula='babies_per_woman ~ -1 + region', data=gdata).fit()"
   ]
  },
  {
   "cell_type": "code",
   "execution_count": null,
   "id": "836bd758-a829-490c-b088-ae9f60b23f35",
   "metadata": {},
   "outputs": [],
   "source": [
    "groupfit2.params"
   ]
  },
  {
   "cell_type": "code",
   "execution_count": null,
   "id": "da9dd506-69e0-433f-9d3c-a3b4199d2701",
   "metadata": {},
   "outputs": [],
   "source": [
    "gdata.groupby('region', observed=True).babies_per_woman.mean()"
   ]
  },
  {
   "cell_type": "code",
   "execution_count": null,
   "id": "8904c682-8b9a-4d58-8e55-f9d29743d215",
   "metadata": {},
   "outputs": [],
   "source": [
    "plotbabies()\n",
    "pp.scatter(gdata.age5_surviving, groupfit2.predict(gdata), color=continent,\n",
    "           s=50, marker='.', ec='k', lw=0.5);"
   ]
  },
  {
   "cell_type": "code",
   "execution_count": 22,
   "id": "215b39bb-f79b-45da-a0a6-261a0d6cdbf8",
   "metadata": {},
   "outputs": [],
   "source": [
    "survivingfit = smf.ols(formula='babies_per_woman ~ -1 + region + age5_surviving', data=gdata).fit()"
   ]
  },
  {
   "cell_type": "code",
   "execution_count": null,
   "id": "08bee86a-c3e0-4de4-b310-0841bd0c7c37",
   "metadata": {},
   "outputs": [],
   "source": [
    "survivingfit.params"
   ]
  },
  {
   "cell_type": "code",
   "execution_count": null,
   "id": "037ab3db-8070-48e9-970e-aa4f90087cfd",
   "metadata": {},
   "outputs": [],
   "source": [
    "plotbabies()\n",
    "pp.scatter(gdata.age5_surviving, survivingfit.predict(gdata), color=continent,\n",
    "           s=50, marker='.', ec='k', lw=0.5);"
   ]
  },
  {
   "cell_type": "code",
   "execution_count": 25,
   "id": "53731049-e8f8-4212-8a5c-d894350c7a8e",
   "metadata": {},
   "outputs": [],
   "source": [
    "survivingfit2 = smf.ols(formula='babies_per_woman ~ -1 + region + age5_surviving:region', data=gdata).fit()"
   ]
  },
  {
   "cell_type": "code",
   "execution_count": null,
   "id": "8e259c21-6519-4aeb-96d0-bd8e3db7fd34",
   "metadata": {},
   "outputs": [],
   "source": [
    "survivingfit2.params"
   ]
  },
  {
   "cell_type": "code",
   "execution_count": null,
   "id": "c21360e1-45d5-4cc4-a660-c620656593cd",
   "metadata": {},
   "outputs": [],
   "source": [
    "plotbabies()\n",
    "pp.scatter(gdata.age5_surviving, survivingfit2.predict(gdata), color=continent,\n",
    "           s=50, marker='.', ec='k', lw=0.5);"
   ]
  },
  {
   "cell_type": "code",
   "execution_count": 28,
   "id": "b8edc5b8-8d00-4298-a570-a5cb518f1075",
   "metadata": {},
   "outputs": [],
   "source": [
    "twovariablefit = smf.ols(formula='babies_per_woman ~ -1 + region + age5_surviving:region + population', data=gdata).fit()"
   ]
  },
  {
   "cell_type": "code",
   "execution_count": null,
   "id": "6f1a656d-67d1-4944-8229-61cbb0374b8e",
   "metadata": {},
   "outputs": [],
   "source": [
    "twovariablefit.params"
   ]
  },
  {
   "cell_type": "code",
   "execution_count": null,
   "id": "1cef2a16-c24d-43d9-b383-c895536bfcfa",
   "metadata": {},
   "outputs": [],
   "source": [
    "plotbabies()\n",
    "pp.scatter(gdata.age5_surviving, twovariablefit.predict(gdata), color=continent,\n",
    "           s=50, marker='.', ec='k', lw=0.5);"
   ]
  },
  {
   "cell_type": "code",
   "execution_count": null,
   "id": "02b3fe7e",
   "metadata": {},
   "outputs": [],
   "source": []
  }
 ],
 "metadata": {
  "kernelspec": {
   "display_name": "Python 3",
   "language": "python",
   "name": "python3"
  },
  "language_info": {
   "codemirror_mode": {
    "name": "ipython",
    "version": 3
   },
   "file_extension": ".py",
   "mimetype": "text/x-python",
   "name": "python",
   "nbconvert_exporter": "python",
   "pygments_lexer": "ipython3",
   "version": "3.12.1"
  }
 },
 "nbformat": 4,
 "nbformat_minor": 5
}
