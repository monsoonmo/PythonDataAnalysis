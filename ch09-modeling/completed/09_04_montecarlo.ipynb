{
 "cells": [
  {
   "cell_type": "markdown",
   "id": "5262a7aa-4ca7-4dd7-8f93-dd0fa1f7f9b5",
   "metadata": {},
   "source": [
    "# 09_04: Estimating sampling errors with Monte Carlo"
   ]
  },
  {
   "cell_type": "code",
   "execution_count": 1,
   "id": "f32dfd0a-f332-4d34-b0a5-26d1c2bdad61",
   "metadata": {},
   "outputs": [],
   "source": [
    "import math\n",
    "import collections\n",
    "import dataclasses\n",
    "import datetime\n",
    "\n",
    "import numpy as np\n",
    "import pandas as pd\n",
    "import matplotlib.pyplot as pp"
   ]
  },
  {
   "cell_type": "code",
   "execution_count": 2,
   "id": "d103abbf-18ad-4a3f-b0b2-71c382ec8981",
   "metadata": {},
   "outputs": [
    {
     "data": {
      "text/html": [
       "<div>\n",
       "<style scoped>\n",
       "    .dataframe tbody tr th:only-of-type {\n",
       "        vertical-align: middle;\n",
       "    }\n",
       "\n",
       "    .dataframe tbody tr th {\n",
       "        vertical-align: top;\n",
       "    }\n",
       "\n",
       "    .dataframe thead th {\n",
       "        text-align: right;\n",
       "    }\n",
       "</style>\n",
       "<table border=\"1\" class=\"dataframe\">\n",
       "  <thead>\n",
       "    <tr style=\"text-align: right;\">\n",
       "      <th></th>\n",
       "      <th>vote</th>\n",
       "    </tr>\n",
       "  </thead>\n",
       "  <tbody>\n",
       "    <tr>\n",
       "      <th>0</th>\n",
       "      <td>Brown</td>\n",
       "    </tr>\n",
       "    <tr>\n",
       "      <th>1</th>\n",
       "      <td>Green</td>\n",
       "    </tr>\n",
       "    <tr>\n",
       "      <th>2</th>\n",
       "      <td>Brown</td>\n",
       "    </tr>\n",
       "    <tr>\n",
       "      <th>3</th>\n",
       "      <td>Brown</td>\n",
       "    </tr>\n",
       "    <tr>\n",
       "      <th>4</th>\n",
       "      <td>Brown</td>\n",
       "    </tr>\n",
       "  </tbody>\n",
       "</table>\n",
       "</div>"
      ],
      "text/plain": [
       "    vote\n",
       "0  Brown\n",
       "1  Green\n",
       "2  Brown\n",
       "3  Brown\n",
       "4  Brown"
      ]
     },
     "execution_count": 2,
     "metadata": {},
     "output_type": "execute_result"
    }
   ],
   "source": [
    "poll = pd.read_csv('poll.csv')\n",
    "poll.head()"
   ]
  },
  {
   "cell_type": "code",
   "execution_count": 3,
   "id": "bd8b2f04-f53b-4af3-949f-3d1f4c9a274a",
   "metadata": {},
   "outputs": [
    {
     "data": {
      "text/plain": [
       "vote \n",
       "Brown    0.511\n",
       "Green    0.489\n",
       "Name: proportion, dtype: float64"
      ]
     },
     "execution_count": 3,
     "metadata": {},
     "output_type": "execute_result"
    }
   ],
   "source": [
    "poll.value_counts(normalize=True)"
   ]
  },
  {
   "cell_type": "code",
   "execution_count": 4,
   "id": "00309543-b641-414b-8599-0f1e856aeaf9",
   "metadata": {},
   "outputs": [],
   "source": [
    "def makepoll(nsample=1000, brown=0.51):\n",
    "    return pd.DataFrame({'vote': np.random.choice(['Brown', 'Green'], nsample, p=[brown, 1.0 - brown])})"
   ]
  },
  {
   "cell_type": "code",
   "execution_count": 5,
   "id": "b6ddecd5-db60-4ad5-b97d-24a6eb1ece63",
   "metadata": {},
   "outputs": [
    {
     "data": {
      "text/plain": [
       "vote \n",
       "Green    0.502\n",
       "Brown    0.498\n",
       "Name: proportion, dtype: float64"
      ]
     },
     "execution_count": 5,
     "metadata": {},
     "output_type": "execute_result"
    }
   ],
   "source": [
    "makepoll().value_counts(normalize=True)"
   ]
  },
  {
   "cell_type": "code",
   "execution_count": 6,
   "id": "4be7424a-2240-41ee-880f-8c85bd205a80",
   "metadata": {},
   "outputs": [
    {
     "data": {
      "text/plain": [
       "vote \n",
       "Brown    0.523\n",
       "Green    0.477\n",
       "Name: proportion, dtype: float64"
      ]
     },
     "execution_count": 6,
     "metadata": {},
     "output_type": "execute_result"
    }
   ],
   "source": [
    "makepoll().value_counts(normalize=True)"
   ]
  },
  {
   "cell_type": "code",
   "execution_count": 7,
   "id": "65060377-207b-40bd-ac41-ed8cbc754bcc",
   "metadata": {},
   "outputs": [],
   "source": [
    "def makedist(ntries=2000, nsample=1000, brown=0.51):\n",
    "    return pd.DataFrame([makepoll(nsample, brown).value_counts(normalize=True) for i in range(ntries)])"
   ]
  },
  {
   "cell_type": "code",
   "execution_count": 8,
   "id": "f3284368-1f46-43be-ab2a-fd5e907642dd",
   "metadata": {},
   "outputs": [],
   "source": [
    "counts = makedist()"
   ]
  },
  {
   "cell_type": "code",
   "execution_count": 9,
   "id": "5caaeafd-7355-4889-a367-e9f5b44fd322",
   "metadata": {},
   "outputs": [
    {
     "data": {
      "text/html": [
       "<div>\n",
       "<style scoped>\n",
       "    .dataframe tbody tr th:only-of-type {\n",
       "        vertical-align: middle;\n",
       "    }\n",
       "\n",
       "    .dataframe tbody tr th {\n",
       "        vertical-align: top;\n",
       "    }\n",
       "\n",
       "    .dataframe thead tr th {\n",
       "        text-align: left;\n",
       "    }\n",
       "</style>\n",
       "<table border=\"1\" class=\"dataframe\">\n",
       "  <thead>\n",
       "    <tr>\n",
       "      <th>vote</th>\n",
       "      <th>Brown</th>\n",
       "      <th>Green</th>\n",
       "    </tr>\n",
       "  </thead>\n",
       "  <tbody>\n",
       "    <tr>\n",
       "      <th>proportion</th>\n",
       "      <td>0.500</td>\n",
       "      <td>0.500</td>\n",
       "    </tr>\n",
       "    <tr>\n",
       "      <th>proportion</th>\n",
       "      <td>0.523</td>\n",
       "      <td>0.477</td>\n",
       "    </tr>\n",
       "    <tr>\n",
       "      <th>proportion</th>\n",
       "      <td>0.512</td>\n",
       "      <td>0.488</td>\n",
       "    </tr>\n",
       "    <tr>\n",
       "      <th>proportion</th>\n",
       "      <td>0.533</td>\n",
       "      <td>0.467</td>\n",
       "    </tr>\n",
       "    <tr>\n",
       "      <th>proportion</th>\n",
       "      <td>0.511</td>\n",
       "      <td>0.489</td>\n",
       "    </tr>\n",
       "    <tr>\n",
       "      <th>...</th>\n",
       "      <td>...</td>\n",
       "      <td>...</td>\n",
       "    </tr>\n",
       "    <tr>\n",
       "      <th>proportion</th>\n",
       "      <td>0.514</td>\n",
       "      <td>0.486</td>\n",
       "    </tr>\n",
       "    <tr>\n",
       "      <th>proportion</th>\n",
       "      <td>0.525</td>\n",
       "      <td>0.475</td>\n",
       "    </tr>\n",
       "    <tr>\n",
       "      <th>proportion</th>\n",
       "      <td>0.505</td>\n",
       "      <td>0.495</td>\n",
       "    </tr>\n",
       "    <tr>\n",
       "      <th>proportion</th>\n",
       "      <td>0.527</td>\n",
       "      <td>0.473</td>\n",
       "    </tr>\n",
       "    <tr>\n",
       "      <th>proportion</th>\n",
       "      <td>0.500</td>\n",
       "      <td>0.500</td>\n",
       "    </tr>\n",
       "  </tbody>\n",
       "</table>\n",
       "<p>2000 rows × 2 columns</p>\n",
       "</div>"
      ],
      "text/plain": [
       "vote        Brown  Green\n",
       "proportion  0.500  0.500\n",
       "proportion  0.523  0.477\n",
       "proportion  0.512  0.488\n",
       "proportion  0.533  0.467\n",
       "proportion  0.511  0.489\n",
       "...           ...    ...\n",
       "proportion  0.514  0.486\n",
       "proportion  0.525  0.475\n",
       "proportion  0.505  0.495\n",
       "proportion  0.527  0.473\n",
       "proportion  0.500  0.500\n",
       "\n",
       "[2000 rows x 2 columns]"
      ]
     },
     "execution_count": 9,
     "metadata": {},
     "output_type": "execute_result"
    }
   ],
   "source": [
    "counts"
   ]
  },
  {
   "cell_type": "code",
   "execution_count": 10,
   "id": "775297ef-1732-41b9-b6e1-c11ecf786254",
   "metadata": {},
   "outputs": [
    {
     "data": {
      "image/png": "[encoded data removed]",
      "text/plain": [
       "<Figure size 400x300 with 1 Axes>"
      ]
     },
     "metadata": {},
     "output_type": "display_data"
    }
   ],
   "source": [
    "pp.figure(figsize=(4,3))\n",
    "pp.hist(counts['Brown'], histtype='step', bins=20, density=True);"
   ]
  },
  {
   "cell_type": "code",
   "execution_count": 11,
   "id": "020ca3d7-4571-4dcb-b48c-0bacba8f216a",
   "metadata": {},
   "outputs": [
    {
     "data": {
      "text/html": [
       "<div>\n",
       "<style scoped>\n",
       "    .dataframe tbody tr th:only-of-type {\n",
       "        vertical-align: middle;\n",
       "    }\n",
       "\n",
       "    .dataframe tbody tr th {\n",
       "        vertical-align: top;\n",
       "    }\n",
       "\n",
       "    .dataframe thead tr th {\n",
       "        text-align: left;\n",
       "    }\n",
       "</style>\n",
       "<table border=\"1\" class=\"dataframe\">\n",
       "  <thead>\n",
       "    <tr>\n",
       "      <th>vote</th>\n",
       "      <th>Brown</th>\n",
       "    </tr>\n",
       "  </thead>\n",
       "  <tbody>\n",
       "    <tr>\n",
       "      <th>count</th>\n",
       "      <td>2000.000000</td>\n",
       "    </tr>\n",
       "    <tr>\n",
       "      <th>mean</th>\n",
       "      <td>0.510543</td>\n",
       "    </tr>\n",
       "    <tr>\n",
       "      <th>std</th>\n",
       "      <td>0.015451</td>\n",
       "    </tr>\n",
       "    <tr>\n",
       "      <th>min</th>\n",
       "      <td>0.450000</td>\n",
       "    </tr>\n",
       "    <tr>\n",
       "      <th>25%</th>\n",
       "      <td>0.500000</td>\n",
       "    </tr>\n",
       "    <tr>\n",
       "      <th>50%</th>\n",
       "      <td>0.510000</td>\n",
       "    </tr>\n",
       "    <tr>\n",
       "      <th>75%</th>\n",
       "      <td>0.521000</td>\n",
       "    </tr>\n",
       "    <tr>\n",
       "      <th>max</th>\n",
       "      <td>0.567000</td>\n",
       "    </tr>\n",
       "  </tbody>\n",
       "</table>\n",
       "</div>"
      ],
      "text/plain": [
       "vote         Brown\n",
       "count  2000.000000\n",
       "mean      0.510543\n",
       "std       0.015451\n",
       "min       0.450000\n",
       "25%       0.500000\n",
       "50%       0.510000\n",
       "75%       0.521000\n",
       "max       0.567000"
      ]
     },
     "execution_count": 11,
     "metadata": {},
     "output_type": "execute_result"
    }
   ],
   "source": [
    "counts.Brown.describe()"
   ]
  },
  {
   "cell_type": "code",
   "execution_count": 12,
   "id": "e004d02c-11e8-457e-a524-b6cc148d71a3",
   "metadata": {},
   "outputs": [
    {
     "data": {
      "image/png": "[encoded data removed]",
      "text/plain": [
       "<Figure size 400x300 with 1 Axes>"
      ]
     },
     "metadata": {},
     "output_type": "display_data"
    }
   ],
   "source": [
    "pp.figure(figsize=(4,3))\n",
    "pp.hist(makedist(ntries=2000, nsample=1000, brown=0.55)['Brown'], histtype='step', bins=20, density=True);"
   ]
  },
  {
   "cell_type": "code",
   "execution_count": 13,
   "id": "0e8b7483-ba8c-4dfa-88ce-a9dad7fca3c1",
   "metadata": {},
   "outputs": [
    {
     "data": {
      "image/png": "[encoded data removed]",
      "text/plain": [
       "<Figure size 400x300 with 1 Axes>"
      ]
     },
     "metadata": {},
     "output_type": "display_data"
    }
   ],
   "source": [
    "pp.figure(figsize=(4,3))\n",
    "pp.hist(makedist(ntries=2000, nsample=1000, brown=0.55)['Brown'], histtype='step', bins=20, density=True, label='1,000')\n",
    "pp.hist(makedist(ntries=2000, nsample=10000, brown=0.55)['Brown'], histtype='step', bins=20, density=True, label='10,000')\n",
    "pp.legend();"
   ]
  },
  {
   "cell_type": "code",
   "execution_count": 14,
   "id": "569df928-c4aa-4205-9bd4-b95b30563678",
   "metadata": {},
   "outputs": [
    {
     "data": {
      "text/plain": [
       "vote \n",
       "Brown    0.519975\n",
       "Name: 0.025, dtype: float64"
      ]
     },
     "execution_count": 14,
     "metadata": {},
     "output_type": "execute_result"
    }
   ],
   "source": [
    "makedist(ntries=2000, nsample=1000, brown=0.55)['Brown'].quantile(0.025)"
   ]
  },
  {
   "cell_type": "code",
   "execution_count": 15,
   "id": "4ffac014-4587-49cd-86e5-e83bc6c919ba",
   "metadata": {},
   "outputs": [
    {
     "data": {
      "text/plain": [
       "vote \n",
       "Brown    0.508\n",
       "Name: 0.025, dtype: float64"
      ]
     },
     "execution_count": 15,
     "metadata": {},
     "output_type": "execute_result"
    }
   ],
   "source": [
    "makedist(ntries=2000, nsample=1000, brown=0.54)['Brown'].quantile(0.025)"
   ]
  },
  {
   "cell_type": "code",
   "execution_count": 16,
   "id": "010712a2-191f-4885-a078-0b3690e97291",
   "metadata": {},
   "outputs": [
    {
     "data": {
      "text/plain": [
       "vote \n",
       "Brown    0.502\n",
       "Name: 0.975, dtype: float64"
      ]
     },
     "execution_count": 16,
     "metadata": {},
     "output_type": "execute_result"
    }
   ],
   "source": [
    "makedist(ntries=2000, nsample=1000, brown=0.47)['Brown'].quantile(0.975)"
   ]
  },
  {
   "cell_type": "code",
   "execution_count": 17,
   "id": "964fa3fc-e668-426b-af79-7f91513c7910",
   "metadata": {},
   "outputs": [
    {
     "data": {
      "text/plain": [
       "vote \n",
       "Brown    0.51\n",
       "Name: 0.975, dtype: float64"
      ]
     },
     "execution_count": 17,
     "metadata": {},
     "output_type": "execute_result"
    }
   ],
   "source": [
    "makedist(ntries=2000, nsample=1000, brown=0.48)['Brown'].quantile(0.975)"
   ]
  },
  {
   "cell_type": "code",
   "execution_count": null,
   "id": "5819af71",
   "metadata": {},
   "outputs": [],
   "source": []
  }
 ],
 "metadata": {
  "kernelspec": {
   "display_name": "Python 3",
   "language": "python",
   "name": "python3"
  },
  "language_info": {
   "codemirror_mode": {
    "name": "ipython",
    "version": 3
   },
   "file_extension": ".py",
   "mimetype": "text/x-python",
   "name": "python",
   "nbconvert_exporter": "python",
   "pygments_lexer": "ipython3",
   "version": "3.12.1"
  }
 },
 "nbformat": 4,
 "nbformat_minor": 5
}
