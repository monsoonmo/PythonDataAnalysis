{
 "cells": [
  {
   "cell_type": "markdown",
   "id": "c93e976d-b7f4-4830-8cbb-9986b512e130",
   "metadata": {},
   "source": [
    "# 09_03: Evaluating model fit"
   ]
  },
  {
   "cell_type": "code",
   "execution_count": null,
   "id": "22a6086b-a8b6-4a1a-931e-8bbc49f090c0",
   "metadata": {},
   "outputs": [],
   "source": [
    "import math\n",
    "import collections\n",
    "import dataclasses\n",
    "import datetime\n",
    "\n",
    "import numpy as np\n",
    "import pandas as pd\n",
    "import matplotlib.pyplot as pp"
   ]
  },
  {
   "cell_type": "code",
   "execution_count": null,
   "id": "0f881346-ec50-4869-b8ab-886dbc429f74",
   "metadata": {},
   "outputs": [],
   "source": [
    "import statsmodels\n",
    "import statsmodels.formula.api as smf"
   ]
  },
  {
   "cell_type": "code",
   "execution_count": null,
   "id": "fca5f9e3-6cbe-477e-881d-f57c66628846",
   "metadata": {},
   "outputs": [],
   "source": [
    "gm = pd.read_csv('gapminder.csv', dtype_backend='pyarrow')\n",
    "\n",
    "gdata = gm[gm.year == 1985].copy()\n",
    "gdata['region'] = gdata['region'].astype('category')"
   ]
  },
  {
   "cell_type": "code",
   "execution_count": null,
   "id": "05f866ab-d8e1-42a8-a37d-9ebda364dc14",
   "metadata": {},
   "outputs": [],
   "source": [
    "continent = gdata.region.map({'Africa': 'skyblue', 'Europe': 'gold', 'America': 'palegreen', 'Asia': 'coral', 'Oceania': 'teal'})\n",
    "population = 1e-6 * gdata.population\n",
    "\n",
    "def plotbabies():\n",
    "    gdata.plot.scatter('age5_surviving', 'babies_per_woman', c=continent, s=population,\n",
    "                       linewidths=0.5, edgecolor='black', alpha=0.6, figsize=(5,3.5))\n",
    "\n",
    "# define a function to plot residuals\n",
    "def plotresidual(fit):\n",
    "    pp.scatter(gdata.age5_surviving, fit.predict(gdata), color=continent, s=50, marker='.', ec='k', lw=0.5);"
   ]
  },
  {
   "cell_type": "code",
   "execution_count": null,
   "id": "b294113b-2b28-4237-9b57-4332b8802510",
   "metadata": {},
   "outputs": [],
   "source": [
    "groupfit = smf.ols(formula='babies_per_woman ~ -1 + region', data=gdata).fit()\n",
    "survivingfit = smf.ols(formula='babies_per_woman ~ -1 + region + age5_surviving', data=gdata).fit()\n",
    "twovariablefit = smf.ols(formula='babies_per_woman ~ -1 + region + age5_surviving:region + population', data=gdata).fit()"
   ]
  },
  {
   "cell_type": "code",
   "execution_count": null,
   "id": "236a6655-6ac4-4907-adbf-8efaea8fbcab",
   "metadata": {},
   "outputs": [],
   "source": [
    "plotbabies()\n",
    "plotresidual(groupfit)"
   ]
  },
  {
   "cell_type": "code",
   "execution_count": null,
   "id": "cbbd3f01-d862-4bed-99b8-c6807e28bbeb",
   "metadata": {},
   "outputs": [],
   "source": [
    "plotbabies()\n",
    "plotresidual(survivingfit)"
   ]
  },
  {
   "cell_type": "code",
   "execution_count": null,
   "id": "a7b8b8c9-b323-4d0a-9953-7ff295e7fa18",
   "metadata": {},
   "outputs": [],
   "source": [
    "plotbabies()\n",
    "plotresidual(twovariablefit)"
   ]
  },
  {
   "cell_type": "code",
   "execution_count": null,
   "id": "b8feaba1-e206-4dcd-8594-dfa81deca6eb",
   "metadata": {},
   "outputs": [],
   "source": [
    "gdata.babies_per_woman - survivingfit.predict(gdata)"
   ]
  },
  {
   "cell_type": "code",
   "execution_count": null,
   "id": "aee2bda7-410c-48ea-b4fd-182d856509e3",
   "metadata": {},
   "outputs": [],
   "source": [
    "survivingfit.resid"
   ]
  },
  {
   "cell_type": "code",
   "execution_count": null,
   "id": "2fb0cdb0-6229-4e66-aa58-b5aecae959d8",
   "metadata": {},
   "outputs": [],
   "source": [
    "pp.hist(groupfit.resid, histtype='step', density=True, bins=20, label='constant')\n",
    "pp.hist(survivingfit.resid, histtype='step', density=True, bins=20, label='surviving')\n",
    "pp.hist(twovariablefit.resid, histtype='step', density=True, bins=20, label='twovariable')\n",
    "pp.legend();"
   ]
  },
  {
   "cell_type": "code",
   "execution_count": null,
   "id": "cdafe48a-8a17-455e-bb5b-c9483cf438a4",
   "metadata": {},
   "outputs": [],
   "source": [
    "[fit.mse_resid for fit in [groupfit, survivingfit, twovariablefit]]"
   ]
  },
  {
   "cell_type": "code",
   "execution_count": null,
   "id": "b78cfce8-4c95-43f4-9a78-79608177bf7a",
   "metadata": {},
   "outputs": [],
   "source": [
    "[fit.rsquared for fit in [groupfit, survivingfit, twovariablefit]]"
   ]
  },
  {
   "cell_type": "code",
   "execution_count": null,
   "id": "e2e1d5a7-296e-433e-b3f4-40defcc6590d",
   "metadata": {},
   "outputs": [],
   "source": [
    "[fit.fvalue for fit in [groupfit, survivingfit, twovariablefit]]"
   ]
  },
  {
   "cell_type": "code",
   "execution_count": null,
   "id": "525ed48e-3183-43d2-972e-79533f333f3a",
   "metadata": {},
   "outputs": [],
   "source": [
    "twovariablefit.summary()"
   ]
  },
  {
   "cell_type": "code",
   "execution_count": null,
   "id": "475e7c3c-843b-47be-80cc-0314e383bc94",
   "metadata": {},
   "outputs": [],
   "source": [
    "shuffled = gdata.sample(len(gdata))"
   ]
  },
  {
   "cell_type": "code",
   "execution_count": null,
   "id": "302440a4-0d98-42a8-953a-96eb6d63b7c0",
   "metadata": {},
   "outputs": [],
   "source": [
    "ntrain = int(0.9 * len(gdata))\n",
    "training, testing = shuffled.iloc[:ntrain], shuffled.iloc[ntrain:]"
   ]
  },
  {
   "cell_type": "code",
   "execution_count": null,
   "id": "5ea340db-93c9-400f-b817-7bb350a7e420",
   "metadata": {},
   "outputs": [],
   "source": [
    "len(training), len(testing)"
   ]
  },
  {
   "cell_type": "code",
   "execution_count": null,
   "id": "b6f8034e-4bdf-4b50-b74d-33746c2599da",
   "metadata": {},
   "outputs": [],
   "source": [
    "grouptrain = smf.ols(formula='babies_per_woman ~ -1 + region', data=training).fit()\n",
    "survivingtrain = smf.ols(formula='babies_per_woman ~ -1 + region + age5_surviving', data=training).fit()\n",
    "twovariabletrain = smf.ols(formula='babies_per_woman ~ -1 + region + age5_surviving:region + population', data=training).fit()"
   ]
  },
  {
   "cell_type": "code",
   "execution_count": null,
   "id": "fa3e17a2-f2dd-433b-87db-b771d126739d",
   "metadata": {},
   "outputs": [],
   "source": [
    "grouptrain.params"
   ]
  },
  {
   "cell_type": "code",
   "execution_count": null,
   "id": "3adf1748-368f-477c-aa03-cb67abd0df5b",
   "metadata": {},
   "outputs": [],
   "source": [
    "groupfit.params"
   ]
  },
  {
   "cell_type": "code",
   "execution_count": null,
   "id": "484c8c50-32eb-4913-8d42-f443ad3cfcdd",
   "metadata": {},
   "outputs": [],
   "source": [
    "def mse_test(fit, testing):\n",
    "    return np.sum((fit.predict(testing) - testing.babies_per_woman)**2) / (len(testing) - len(fit.params))"
   ]
  },
  {
   "cell_type": "code",
   "execution_count": null,
   "id": "9c70d51f-6a10-4ee1-8cf6-c026d43e8752",
   "metadata": {},
   "outputs": [],
   "source": [
    "[mse_test(fit, testing) for fit in [grouptrain, survivingtrain, twovariabletrain]] # testing MSE"
   ]
  },
  {
   "cell_type": "code",
   "execution_count": null,
   "id": "6c13bbbb-c8ae-4bde-b901-9155a8ab7d89",
   "metadata": {},
   "outputs": [],
   "source": [
    "mses = []\n",
    "for i in range(100):\n",
    "    shuffled = gdata.sample(len(gdata))\n",
    "    training, testing = shuffled.iloc[:ntrain], shuffled.iloc[ntrain:]\n",
    "    mses.append([mse_test(fit, testing) for fit in [grouptrain, survivingtrain, twovariabletrain]])\n",
    "\n",
    "print(np.array(mses).mean(axis=0))"
   ]
  }
 ],
 "metadata": {
  "kernelspec": {
   "display_name": "Python 3 (ipykernel)",
   "language": "python",
   "name": "python3"
  },
  "language_info": {
   "codemirror_mode": {
    "name": "ipython",
    "version": 3
   },
   "file_extension": ".py",
   "mimetype": "text/x-python",
   "name": "python",
   "nbconvert_exporter": "python",
   "pygments_lexer": "ipython3",
   "version": "3.12.2"
  }
 },
 "nbformat": 4,
 "nbformat_minor": 5
}
