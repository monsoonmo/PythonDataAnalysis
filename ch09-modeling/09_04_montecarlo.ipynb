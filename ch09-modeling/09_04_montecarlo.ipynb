{
 "cells": [
  {
   "cell_type": "markdown",
   "id": "5262a7aa-4ca7-4dd7-8f93-dd0fa1f7f9b5",
   "metadata": {},
   "source": [
    "# 09_04: Estimating sampling errors with Monte Carlo"
   ]
  },
  {
   "cell_type": "code",
   "execution_count": null,
   "id": "f32dfd0a-f332-4d34-b0a5-26d1c2bdad61",
   "metadata": {},
   "outputs": [],
   "source": [
    "import math\n",
    "import collections\n",
    "import dataclasses\n",
    "import datetime\n",
    "\n",
    "import numpy as np\n",
    "import pandas as pd\n",
    "import matplotlib.pyplot as pp"
   ]
  },
  {
   "cell_type": "code",
   "execution_count": null,
   "id": "d103abbf-18ad-4a3f-b0b2-71c382ec8981",
   "metadata": {},
   "outputs": [],
   "source": [
    "poll = pd.read_csv('poll.csv')\n",
    "poll.head()"
   ]
  },
  {
   "cell_type": "code",
   "execution_count": null,
   "id": "bd8b2f04-f53b-4af3-949f-3d1f4c9a274a",
   "metadata": {},
   "outputs": [],
   "source": [
    "poll.value_counts(normalize=True)"
   ]
  },
  {
   "cell_type": "code",
   "execution_count": null,
   "id": "00309543-b641-414b-8599-0f1e856aeaf9",
   "metadata": {},
   "outputs": [],
   "source": [
    "def makepoll(nsample=1000, brown=0.51):\n",
    "    return pd.DataFrame({'vote': np.random.choice(['Brown', 'Green'], nsample, p=[brown, 1.0 - brown])})"
   ]
  },
  {
   "cell_type": "code",
   "execution_count": null,
   "id": "b6ddecd5-db60-4ad5-b97d-24a6eb1ece63",
   "metadata": {},
   "outputs": [],
   "source": [
    "makepoll().value_counts(normalize=True)"
   ]
  },
  {
   "cell_type": "code",
   "execution_count": null,
   "id": "4be7424a-2240-41ee-880f-8c85bd205a80",
   "metadata": {},
   "outputs": [],
   "source": [
    "makepoll().value_counts(normalize=True)"
   ]
  },
  {
   "cell_type": "code",
   "execution_count": null,
   "id": "65060377-207b-40bd-ac41-ed8cbc754bcc",
   "metadata": {},
   "outputs": [],
   "source": [
    "def makedist(ntries=2000, nsample=1000, brown=0.51):\n",
    "    return pd.DataFrame([makepoll(nsample, brown).value_counts(normalize=True) for i in range(ntries)])"
   ]
  },
  {
   "cell_type": "code",
   "execution_count": null,
   "id": "f3284368-1f46-43be-ab2a-fd5e907642dd",
   "metadata": {},
   "outputs": [],
   "source": [
    "counts = makedist()"
   ]
  },
  {
   "cell_type": "code",
   "execution_count": null,
   "id": "5caaeafd-7355-4889-a367-e9f5b44fd322",
   "metadata": {},
   "outputs": [],
   "source": [
    "counts"
   ]
  },
  {
   "cell_type": "code",
   "execution_count": null,
   "id": "775297ef-1732-41b9-b6e1-c11ecf786254",
   "metadata": {},
   "outputs": [],
   "source": [
    "pp.figure(figsize=(4,3))\n",
    "pp.hist(counts['Brown'], histtype='step', bins=20, density=True);"
   ]
  },
  {
   "cell_type": "code",
   "execution_count": null,
   "id": "020ca3d7-4571-4dcb-b48c-0bacba8f216a",
   "metadata": {},
   "outputs": [],
   "source": [
    "counts.Brown.describe()"
   ]
  },
  {
   "cell_type": "code",
   "execution_count": null,
   "id": "e004d02c-11e8-457e-a524-b6cc148d71a3",
   "metadata": {},
   "outputs": [],
   "source": [
    "pp.figure(figsize=(4,3))\n",
    "pp.hist(makedist(ntries=2000, nsample=1000, brown=0.55)['Brown'], histtype='step', bins=20, density=True);"
   ]
  },
  {
   "cell_type": "code",
   "execution_count": null,
   "id": "0e8b7483-ba8c-4dfa-88ce-a9dad7fca3c1",
   "metadata": {},
   "outputs": [],
   "source": [
    "pp.figure(figsize=(4,3))\n",
    "pp.hist(makedist(ntries=2000, nsample=1000, brown=0.55)['Brown'], histtype='step', bins=20, density=True, label='1,000')\n",
    "pp.hist(makedist(ntries=2000, nsample=10000, brown=0.55)['Brown'], histtype='step', bins=20, density=True, label='10,000')\n",
    "pp.legend();"
   ]
  },
  {
   "cell_type": "code",
   "execution_count": null,
   "id": "569df928-c4aa-4205-9bd4-b95b30563678",
   "metadata": {},
   "outputs": [],
   "source": [
    "makedist(ntries=2000, nsample=1000, brown=0.55)['Brown'].quantile(0.025)"
   ]
  },
  {
   "cell_type": "code",
   "execution_count": null,
   "id": "4ffac014-4587-49cd-86e5-e83bc6c919ba",
   "metadata": {},
   "outputs": [],
   "source": [
    "makedist(ntries=2000, nsample=1000, brown=0.54)['Brown'].quantile(0.025)"
   ]
  },
  {
   "cell_type": "code",
   "execution_count": null,
   "id": "010712a2-191f-4885-a078-0b3690e97291",
   "metadata": {},
   "outputs": [],
   "source": [
    "makedist(ntries=2000, nsample=1000, brown=0.47)['Brown'].quantile(0.975)"
   ]
  },
  {
   "cell_type": "code",
   "execution_count": null,
   "id": "964fa3fc-e668-426b-af79-7f91513c7910",
   "metadata": {},
   "outputs": [],
   "source": [
    "makedist(ntries=2000, nsample=1000, brown=0.48)['Brown'].quantile(0.975)"
   ]
  }
 ],
 "metadata": {
  "kernelspec": {
   "display_name": "Python 3 (ipykernel)",
   "language": "python",
   "name": "python3"
  },
  "language_info": {
   "codemirror_mode": {
    "name": "ipython",
    "version": 3
   },
   "file_extension": ".py",
   "mimetype": "text/x-python",
   "name": "python",
   "nbconvert_exporter": "python",
   "pygments_lexer": "ipython3",
   "version": "3.12.2"
  }
 },
 "nbformat": 4,
 "nbformat_minor": 5
}
