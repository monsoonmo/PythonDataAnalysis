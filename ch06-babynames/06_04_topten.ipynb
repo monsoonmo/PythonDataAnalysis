{
 "cells": [
  {
   "cell_type": "markdown",
   "metadata": {},
   "source": [
    "# 06_04: A yearly top ten"
   ]
  },
  {
   "cell_type": "code",
   "execution_count": null,
   "metadata": {},
   "outputs": [],
   "source": [
    "import math\n",
    "import collections\n",
    "import dataclasses\n",
    "import datetime\n",
    "\n",
    "import numpy as np\n",
    "import pandas as pd\n",
    "import matplotlib.pyplot as pp"
   ]
  },
  {
   "cell_type": "code",
   "execution_count": null,
   "metadata": {},
   "outputs": [],
   "source": [
    "allyears = pd.read_feather('allyears.feather')"
   ]
  },
  {
   "cell_type": "code",
   "execution_count": null,
   "metadata": {},
   "outputs": [],
   "source": [
    "allyears_byyear = allyears.set_index(['sex', 'year']).sort_index()"
   ]
  },
  {
   "cell_type": "code",
   "execution_count": null,
   "metadata": {},
   "outputs": [],
   "source": [
    "allyears_byyear.loc['M', 2000].sort_values('number', ascending=False)"
   ]
  },
  {
   "cell_type": "code",
   "execution_count": null,
   "metadata": {},
   "outputs": [],
   "source": [
    "allyears_byyear.loc['M', 2023].sort_values('number', ascending=False).head(10)"
   ]
  },
  {
   "cell_type": "code",
   "execution_count": null,
   "metadata": {},
   "outputs": [],
   "source": [
    "allyears_byyear.loc['F', 2023].sort_values('number', ascending=False).head(10)"
   ]
  },
  {
   "cell_type": "code",
   "execution_count": null,
   "metadata": {},
   "outputs": [],
   "source": [
    "allyears_byyear.loc['F', 2023].sort_values('number', ascending=False).head(10).reset_index().name"
   ]
  },
  {
   "cell_type": "code",
   "execution_count": null,
   "metadata": {},
   "outputs": [],
   "source": [
    "def getyear(sex, year):\n",
    "    return (allyears_byyear.loc[sex, year].sort_values('number', ascending=False).head(10).reset_index().name)"
   ]
  },
  {
   "cell_type": "code",
   "execution_count": null,
   "metadata": {},
   "outputs": [],
   "source": [
    "pd.DataFrame({year: getyear('M', year) for year in range(2014, 2024)})"
   ]
  },
  {
   "cell_type": "code",
   "execution_count": null,
   "metadata": {},
   "outputs": [],
   "source": [
    "pd.DataFrame({year: getyear('F', year) for year in range(2014, 2024)})"
   ]
  },
  {
   "cell_type": "code",
   "execution_count": null,
   "metadata": {},
   "outputs": [],
   "source": [
    "allyears_byname = allyears.set_index(['sex', 'name', 'year']).sort_index()"
   ]
  },
  {
   "cell_type": "code",
   "execution_count": null,
   "metadata": {},
   "outputs": [],
   "source": [
    "pp.figure(figsize=(9,2))\n",
    "\n",
    "for name in getyear('F', 2023):\n",
    "    pp.plot(allyears_byname.loc['F', name], label=name)\n",
    "\n",
    "pp.axis(xmin=1880, xmax=2024)\n",
    "pp.legend(loc='upper left', fontsize=8);"
   ]
  },
  {
   "cell_type": "code",
   "execution_count": null,
   "metadata": {},
   "outputs": [],
   "source": [
    "pp.figure(figsize=(9,2))\n",
    "\n",
    "for name in getyear('M', 2023):\n",
    "    pp.plot(allyears_byname.loc['M', name], label=name)\n",
    "\n",
    "pp.axis(xmin=1880, xmax=2024)\n",
    "pp.legend(loc='upper left', fontsize=8);"
   ]
  },
  {
   "cell_type": "code",
   "execution_count": null,
   "metadata": {},
   "outputs": [],
   "source": [
    "alltime_f = allyears_byyear.loc['F'] \\\n",
    "                            .groupby('name') \\\n",
    "                            .sum() \\\n",
    "                            .sort_values('number', ascending=False) \\\n",
    "                            .head(10)"
   ]
  },
  {
   "cell_type": "code",
   "execution_count": null,
   "metadata": {},
   "outputs": [],
   "source": [
    "alltime_f"
   ]
  },
  {
   "cell_type": "code",
   "execution_count": null,
   "metadata": {},
   "outputs": [],
   "source": [
    "allyears_byname.loc[pd.IndexSlice['F', getyear('F', 2023), :]].groupby('name').sum()"
   ]
  },
  {
   "cell_type": "code",
   "execution_count": null,
   "metadata": {},
   "outputs": [],
   "source": [
    "pp.figure(figsize=(9,2))\n",
    "\n",
    "for name in alltime_f.index:\n",
    "    pp.plot(allyears_byname.loc['M', name], label=name)\n",
    "\n",
    "pp.axis(xmin=1880, xmax=2024)\n",
    "pp.legend(loc='upper left', fontsize=8);"
   ]
  }
 ],
 "metadata": {
  "kernelspec": {
   "display_name": "Python 3 (ipykernel)",
   "language": "python",
   "name": "python3"
  },
  "language_info": {
   "codemirror_mode": {
    "name": "ipython",
    "version": 3
   },
   "file_extension": ".py",
   "mimetype": "text/x-python",
   "name": "python",
   "nbconvert_exporter": "python",
   "pygments_lexer": "ipython3",
   "version": "3.12.2"
  }
 },
 "nbformat": 4,
 "nbformat_minor": 4
}
