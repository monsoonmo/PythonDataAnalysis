{
 "cells": [
  {
   "cell_type": "markdown",
   "metadata": {},
   "source": [
    "# 06_03: Name popularity"
   ]
  },
  {
   "cell_type": "code",
   "execution_count": null,
   "metadata": {},
   "outputs": [],
   "source": [
    "import math\n",
    "import collections\n",
    "import dataclasses\n",
    "import datetime\n",
    "\n",
    "import numpy as np\n",
    "import pandas as pd\n",
    "import matplotlib.pyplot as pp"
   ]
  },
  {
   "cell_type": "code",
   "execution_count": null,
   "metadata": {},
   "outputs": [],
   "source": [
    "allyears = pd.read_feather('allyears.feather')"
   ]
  },
  {
   "cell_type": "code",
   "execution_count": null,
   "metadata": {},
   "outputs": [],
   "source": [
    "allyears"
   ]
  },
  {
   "cell_type": "code",
   "execution_count": null,
   "metadata": {},
   "outputs": [],
   "source": [
    "allyears_indexed = allyears.set_index(['sex','name','year']).sort_index()"
   ]
  },
  {
   "cell_type": "code",
   "execution_count": null,
   "metadata": {},
   "outputs": [],
   "source": [
    "allyears_indexed"
   ]
  },
  {
   "cell_type": "code",
   "execution_count": null,
   "metadata": {},
   "outputs": [],
   "source": [
    "allyears_indexed.loc[('F','Mary')]"
   ]
  },
  {
   "cell_type": "code",
   "execution_count": null,
   "metadata": {},
   "outputs": [],
   "source": [
    "pp.plot(allyears_indexed.loc[('F','Mary'), 'number'], label='Mary')\n",
    "pp.plot(allyears_indexed.loc[('M','John'), 'number'], label='John')\n",
    "pp.legend();"
   ]
  },
  {
   "cell_type": "code",
   "execution_count": null,
   "metadata": {},
   "outputs": [],
   "source": [
    "births = allyears.groupby(['sex','year']).number.sum()"
   ]
  },
  {
   "cell_type": "code",
   "execution_count": null,
   "metadata": {},
   "outputs": [],
   "source": [
    "births"
   ]
  },
  {
   "cell_type": "code",
   "execution_count": null,
   "metadata": {},
   "outputs": [],
   "source": [
    "pp.plot(births.loc['M'], label='M')\n",
    "pp.plot(births.loc['F'], label='F')\n",
    "pp.legend();"
   ]
  },
  {
   "cell_type": "code",
   "execution_count": null,
   "metadata": {},
   "outputs": [],
   "source": [
    "allyears_indexed['fraction'] = allyears_indexed.number / births"
   ]
  },
  {
   "cell_type": "code",
   "execution_count": null,
   "metadata": {},
   "outputs": [],
   "source": [
    "pp.plot(allyears_indexed.loc[('F','Mary'), 'fraction'], label='Mary')\n",
    "pp.plot(allyears_indexed.loc[('M','John'), 'fraction'], label='John')\n",
    "pp.legend();"
   ]
  },
  {
   "cell_type": "code",
   "execution_count": null,
   "metadata": {},
   "outputs": [],
   "source": [
    "def plotname(sex, name, relative=False):\n",
    "    data = allyears_indexed.loc[(sex, name), 'fraction' if relative else 'number']\n",
    "    \n",
    "    pp.plot(data.index, data.values, label=name)\n",
    "    pp.axis(xmin=1880, xmax=2023)"
   ]
  },
  {
   "cell_type": "code",
   "execution_count": null,
   "metadata": {},
   "outputs": [],
   "source": [
    "def comparenames(sex, names, relative=False):\n",
    "    for name in names:\n",
    "        plotname(sex, name, relative)\n",
    "\n",
    "    pp.legend()"
   ]
  },
  {
   "cell_type": "code",
   "execution_count": null,
   "metadata": {},
   "outputs": [],
   "source": [
    "pp.figure(figsize=(9,2.5))\n",
    "pp.subplot(1,2,1); comparenames('M', ['Michael','John','David','Martin'])\n",
    "pp.subplot(1,2,2); comparenames('M', ['Michael','John','David','Martin'], relative=True)"
   ]
  },
  {
   "cell_type": "code",
   "execution_count": null,
   "metadata": {},
   "outputs": [],
   "source": [
    "pp.figure(figsize=(9,2.5))\n",
    "pp.subplot(1,2,1); comparenames('F', ['Emily','Anna','Claire','Elizabeth'])\n",
    "pp.subplot(1,2,2); comparenames('F', ['Emily','Anna','Claire','Elizabeth'], relative=True)"
   ]
  },
  {
   "cell_type": "code",
   "execution_count": null,
   "metadata": {},
   "outputs": [],
   "source": [
    "claires = ['Claire', 'Clare', 'Clara', 'Chiara', 'Ciara']"
   ]
  },
  {
   "cell_type": "code",
   "execution_count": null,
   "metadata": {},
   "outputs": [],
   "source": [
    "pp.figure(figsize=(8,2.5))\n",
    "comparenames('F', claires)"
   ]
  },
  {
   "cell_type": "code",
   "execution_count": null,
   "metadata": {},
   "outputs": [],
   "source": [
    "allyears_indexed.loc[('F', claires), 'number']"
   ]
  },
  {
   "cell_type": "code",
   "execution_count": null,
   "metadata": {},
   "outputs": [],
   "source": [
    "allyears_indexed.loc[('F', claires), 'number'].unstack(level=2)"
   ]
  },
  {
   "cell_type": "code",
   "execution_count": null,
   "metadata": {},
   "outputs": [],
   "source": [
    "allyears_indexed.loc[('F', claires), 'number'].unstack(level=1)"
   ]
  },
  {
   "cell_type": "code",
   "execution_count": null,
   "metadata": {},
   "outputs": [],
   "source": [
    "allyears_indexed.loc[('F', claires), 'number'].unstack(level=1).stack()"
   ]
  },
  {
   "cell_type": "code",
   "execution_count": null,
   "metadata": {},
   "outputs": [],
   "source": [
    "allyears_indexed.loc[('F', claires), 'number'].unstack(level=2)"
   ]
  },
  {
   "cell_type": "code",
   "execution_count": null,
   "metadata": {},
   "outputs": [],
   "source": [
    "unstacked = allyears_indexed.loc[('F', claires), 'number'] \\\n",
    "                            .unstack(level=2) \\\n",
    "                            .droplevel(level=0) \\\n",
    "                            .fillna(0)"
   ]
  },
  {
   "cell_type": "code",
   "execution_count": null,
   "metadata": {},
   "outputs": [],
   "source": [
    "unstacked"
   ]
  },
  {
   "cell_type": "code",
   "execution_count": null,
   "metadata": {},
   "outputs": [],
   "source": [
    "pp.stackplot(unstacked.columns, unstacked)"
   ]
  },
  {
   "cell_type": "code",
   "execution_count": null,
   "metadata": {},
   "outputs": [],
   "source": [
    "pp.figure(figsize=(8,2.5))\n",
    "pp.stackplot(unstacked.columns, unstacked.astype(np.int32))\n",
    "pp.legend(unstacked.index, loc='upper left');\n",
    "pp.axis(xmin=1880, xmax=2024);"
   ]
  },
  {
   "cell_type": "code",
   "execution_count": null,
   "metadata": {},
   "outputs": [],
   "source": [
    "pp.figure(figsize=(8,2.5))\n",
    "pp.stackplot(unstacked.columns, unstacked.astype(np.int32),\n",
    "             colors=pp.get_cmap('Set3')(range(5))) # get the first five colors from the \"Set3\" matplotlib colormap  \n",
    "pp.legend(unstacked.index, loc='upper left');\n",
    "pp.axis(xmin=1880, xmax=2024);"
   ]
  }
 ],
 "metadata": {
  "kernelspec": {
   "display_name": "Python 3 (ipykernel)",
   "language": "python",
   "name": "python3"
  },
  "language_info": {
   "codemirror_mode": {
    "name": "ipython",
    "version": 3
   },
   "file_extension": ".py",
   "mimetype": "text/x-python",
   "name": "python",
   "nbconvert_exporter": "python",
   "pygments_lexer": "ipython3",
   "version": "3.12.2"
  }
 },
 "nbformat": 4,
 "nbformat_minor": 4
}
