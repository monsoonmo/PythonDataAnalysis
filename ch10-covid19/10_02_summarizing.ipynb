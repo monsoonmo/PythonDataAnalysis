{
 "cells": [
  {
   "cell_type": "markdown",
   "id": "7942c7f7-a477-49dc-ab1b-19ed3a385f63",
   "metadata": {},
   "source": [
    "# 10_02: Summarizing COVID-19 data"
   ]
  },
  {
   "cell_type": "code",
   "execution_count": null,
   "id": "7f7ff88b-f1c6-4b59-aadd-2eef215e5eca",
   "metadata": {},
   "outputs": [],
   "source": [
    "import math\n",
    "import collections\n",
    "import dataclasses\n",
    "import datetime\n",
    "\n",
    "import numpy as np\n",
    "import pandas as pd\n",
    "\n",
    "import plotly.express as px"
   ]
  },
  {
   "cell_type": "code",
   "execution_count": null,
   "id": "0dc6edc6-c72f-4d92-b436-b5669e9a79b0",
   "metadata": {},
   "outputs": [],
   "source": [
    "covid19 = pd.read_csv('covid19.csv.gz', parse_dates=['date'], dtype_backend='pyarrow')"
   ]
  },
  {
   "cell_type": "code",
   "execution_count": null,
   "id": "5b6088e5-ba29-420f-b13e-f71851e84283",
   "metadata": {},
   "outputs": [],
   "source": [
    "covid19.info()"
   ]
  },
  {
   "cell_type": "code",
   "execution_count": null,
   "id": "a052debe-2b85-4d60-85c0-12204a3176b7",
   "metadata": {},
   "outputs": [],
   "source": [
    "final = covid19.groupby('country').last()\n",
    "final"
   ]
  },
  {
   "cell_type": "code",
   "execution_count": null,
   "id": "c136db8a-43d3-4831-9c8e-0ae4d9adb6cf",
   "metadata": {},
   "outputs": [],
   "source": [
    "final.total_cases.nlargest(10)"
   ]
  },
  {
   "cell_type": "code",
   "execution_count": null,
   "id": "116a857c-0cf5-4abf-b4b9-92e1ddad21d4",
   "metadata": {},
   "outputs": [],
   "source": [
    "pd.DataFrame(final.total_cases.nlargest(10))"
   ]
  },
  {
   "cell_type": "code",
   "execution_count": null,
   "id": "4768cfc9-74eb-44e8-bb30-571b578f2efc",
   "metadata": {},
   "outputs": [],
   "source": [
    "pd.DataFrame(final.total_cases.nlargest(10)).style.format('{:,d}')"
   ]
  },
  {
   "cell_type": "code",
   "execution_count": null,
   "id": "45de9a3d-b409-4f8e-a8b5-951f1f0ddefe",
   "metadata": {},
   "outputs": [],
   "source": [
    "pd.Series.nice = lambda series, format='{:,.0f}': pd.DataFrame(series).style.format(format)\n",
    "pd.DataFrame.nice = lambda frame, format='{:,.0f}': frame.style.format(format)"
   ]
  },
  {
   "cell_type": "code",
   "execution_count": null,
   "id": "56c608f9-bd12-4e1d-b9c5-0bd4f76c5525",
   "metadata": {},
   "outputs": [],
   "source": [
    "final.total_cases.nlargest(10).nice()"
   ]
  },
  {
   "cell_type": "code",
   "execution_count": null,
   "id": "f81b3065-e679-4a5c-b4cf-24565fde36cf",
   "metadata": {},
   "outputs": [],
   "source": [
    "final.nlargest(10, columns='total_deaths')[['total_cases', 'total_deaths']].nice()"
   ]
  },
  {
   "cell_type": "code",
   "execution_count": null,
   "id": "be4f79ea-1299-45e3-b89b-1fa41f3985b7",
   "metadata": {},
   "outputs": [],
   "source": [
    "final['cases_per_million'] = final.total_cases / (final.population / 1.0e6)\n",
    "final['deaths_per_million'] = final.total_deaths / (final.population / 1.0e6)"
   ]
  },
  {
   "cell_type": "code",
   "execution_count": null,
   "id": "0860244f-eb72-4705-8adb-f55a971cef45",
   "metadata": {},
   "outputs": [],
   "source": [
    "final.nlargest(10, 'deaths_per_million')[['cases_per_million', 'deaths_per_million']].nice()"
   ]
  },
  {
   "cell_type": "code",
   "execution_count": null,
   "id": "3de505f7-86cd-4ebb-a365-95bfb3192b2b",
   "metadata": {},
   "outputs": [],
   "source": [
    "final.nlargest(10, 'deaths_per_million')[['cases_per_million', 'deaths_per_million']] \\\n",
    "     .assign(death_rate=lambda row: 100 * row.deaths_per_million / row.cases_per_million).nice('{:,.1f}')"
   ]
  },
  {
   "cell_type": "code",
   "execution_count": null,
   "id": "c71e3b46-5efb-4abe-9ba5-e05acc1b4a2b",
   "metadata": {},
   "outputs": [],
   "source": [
    "final['excess_per_million'] = final.total_excess / (final.population / 1.0e6)"
   ]
  },
  {
   "cell_type": "code",
   "execution_count": null,
   "id": "6547a3ee-f09f-4944-b781-0800fd3bfc00",
   "metadata": {},
   "outputs": [],
   "source": [
    "final.nlargest(10, 'excess_per_million')[['cases_per_million', 'deaths_per_million', 'excess_per_million']].nice()"
   ]
  }
 ],
 "metadata": {
  "kernelspec": {
   "display_name": "Python 3 (ipykernel)",
   "language": "python",
   "name": "python3"
  },
  "language_info": {
   "codemirror_mode": {
    "name": "ipython",
    "version": 3
   },
   "file_extension": ".py",
   "mimetype": "text/x-python",
   "name": "python",
   "nbconvert_exporter": "python",
   "pygments_lexer": "ipython3",
   "version": "3.12.2"
  }
 },
 "nbformat": 4,
 "nbformat_minor": 5
}
