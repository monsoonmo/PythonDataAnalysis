{
 "cells": [
  {
   "cell_type": "markdown",
   "id": "7942c7f7-a477-49dc-ab1b-19ed3a385f63",
   "metadata": {},
   "source": [
    "# 10_04: Modeling COVID-19 data"
   ]
  },
  {
   "cell_type": "code",
   "execution_count": null,
   "id": "6f9ec608-9399-4aac-b6f3-57b4cb653c00",
   "metadata": {},
   "outputs": [],
   "source": [
    "import math\n",
    "import collections\n",
    "import dataclasses\n",
    "import datetime\n",
    "\n",
    "import numpy as np\n",
    "import pandas as pd\n",
    "\n",
    "import plotly.express as px"
   ]
  },
  {
   "cell_type": "code",
   "execution_count": null,
   "id": "04f61637-f98b-46ce-8d1c-627a5e180807",
   "metadata": {},
   "outputs": [],
   "source": [
    "import statsmodels\n",
    "import statsmodels.api as sm\n",
    "import statsmodels.formula.api as smf"
   ]
  },
  {
   "cell_type": "code",
   "execution_count": null,
   "id": "bc6657e3-f941-4bda-a4d3-ef169ef482d6",
   "metadata": {},
   "outputs": [],
   "source": [
    "covid19 = pd.read_csv('covid19.csv.gz', parse_dates=['date'], dtype_backend='pyarrow')"
   ]
  },
  {
   "cell_type": "code",
   "execution_count": null,
   "id": "a797b4da-2e95-4186-92a6-8e9e767cf54f",
   "metadata": {},
   "outputs": [],
   "source": [
    "covid19.info()"
   ]
  },
  {
   "cell_type": "code",
   "execution_count": null,
   "id": "3e7ffd7a-34fc-4a58-a603-6956971255c0",
   "metadata": {},
   "outputs": [],
   "source": [
    "covid19['deaths_per_million'] = covid19.total_deaths / (covid19.population / 1.0e6)\n",
    "covid19['excess_per_million'] = covid19.total_excess / (covid19.population / 1.0e6)\n",
    "\n",
    "final = covid19.groupby('country').last()"
   ]
  },
  {
   "cell_type": "code",
   "execution_count": null,
   "id": "ed43793d-2937-41fa-bbd6-f9bf194c3aa0",
   "metadata": {},
   "outputs": [],
   "source": [
    "final.deaths_per_million.mean(), final.deaths_per_million.std()"
   ]
  },
  {
   "cell_type": "code",
   "execution_count": null,
   "id": "c4a7a72b-da55-4642-b437-431eba3e2e5a",
   "metadata": {},
   "outputs": [],
   "source": [
    "px.histogram(final.deaths_per_million)"
   ]
  },
  {
   "cell_type": "code",
   "execution_count": null,
   "id": "715ce148-9485-436e-9c55-ca97b1445998",
   "metadata": {},
   "outputs": [],
   "source": [
    "explanatory = ['population', 'gdp_per_capita', 'population_density', 'life_expectancy',\n",
    "               'median_age', 'extreme_poverty', 'human_development_index',\n",
    "               'hospital_beds_per_thousand', 'percent_fully_vaccinated']"
   ]
  },
  {
   "cell_type": "code",
   "execution_count": null,
   "id": "113405f3-d6f4-481c-a53d-be00a10be226",
   "metadata": {},
   "outputs": [],
   "source": [
    "fit = smf.ols('deaths_per_million ~ gdp_per_capita + human_development_index',\n",
    "              data=final.reset_index()).fit()\n",
    "np.sqrt(fit.mse_resid), fit.rsquared, fit.fvalue"
   ]
  },
  {
   "cell_type": "code",
   "execution_count": null,
   "id": "83ebb8ec-d200-4770-9e4e-e94e795a04e0",
   "metadata": {},
   "outputs": [],
   "source": [
    "fit = smf.ols('deaths_per_million ~ extreme_poverty + percent_fully_vaccinated',\n",
    "              data=final.reset_index()).fit()\n",
    "np.sqrt(fit.mse_resid), fit.rsquared, fit.fvalue"
   ]
  },
  {
   "cell_type": "code",
   "execution_count": null,
   "id": "92c1ac0a-291c-4b8e-81cf-bfec75fcb52b",
   "metadata": {},
   "outputs": [],
   "source": [
    "import itertools\n",
    "list(itertools.combinations(explanatory, 2))"
   ]
  },
  {
   "cell_type": "code",
   "execution_count": null,
   "id": "0428418d-1290-4597-abe8-1fee524d3b7e",
   "metadata": {},
   "outputs": [],
   "source": [
    "def getfit(final, expvars):\n",
    "    return smf.ols('deaths_per_million ~ ' + '+'.join(expvars), data=final.reset_index()).fit()"
   ]
  },
  {
   "cell_type": "code",
   "execution_count": null,
   "id": "01575ad2-edb0-4330-a707-d615da8b5ecc",
   "metadata": {},
   "outputs": [],
   "source": [
    "getfit(final, ['gdp_per_capita']).fvalue"
   ]
  },
  {
   "cell_type": "code",
   "execution_count": null,
   "id": "fed1e2ad-b5ee-4e24-8a8a-51c6505d259f",
   "metadata": {},
   "outputs": [],
   "source": [
    "fvalues = {expvars: getfit(final, expvars).fvalue for nvars in range(1, len(explanatory) + 1)\n",
    "                                                  for expvars in itertools.combinations(explanatory, nvars)}"
   ]
  },
  {
   "cell_type": "code",
   "execution_count": null,
   "id": "ea99f4fa-6be2-4e76-98d3-6259dd413a5e",
   "metadata": {},
   "outputs": [],
   "source": [
    "bestvars = max(fvalues.keys(), key=fvalues.get)\n",
    "bestvars"
   ]
  },
  {
   "cell_type": "code",
   "execution_count": null,
   "id": "ccf600ee-214a-42cf-944b-1e46da993045",
   "metadata": {},
   "outputs": [],
   "source": [
    "getfit(final, bestvars).summary2()"
   ]
  },
  {
   "cell_type": "code",
   "execution_count": null,
   "id": "a1c74e5b-3ade-41f4-85b8-2c995bfdae18",
   "metadata": {},
   "outputs": [],
   "source": [
    "covid19['year'] = covid19.date.dt.year"
   ]
  },
  {
   "cell_type": "code",
   "execution_count": null,
   "id": "84633ed4-babe-42dd-ba64-5003149ac391",
   "metadata": {},
   "outputs": [],
   "source": [
    "def getyear(year):\n",
    "    return covid19[covid19.year == year].groupby('country').last()"
   ]
  },
  {
   "cell_type": "code",
   "execution_count": null,
   "id": "a85754b8-30b6-4dcd-a49b-58520bd3f6e4",
   "metadata": {},
   "outputs": [],
   "source": [
    "for year in range(2020, 2024):\n",
    "    final_by_year = getyear(year)\n",
    "    \n",
    "    fvalues = {expvars: getfit(final_by_year, expvars).fvalue\n",
    "               for nvars in range(1, len(explanatory) + 1)\n",
    "               for expvars in itertools.combinations(explanatory, nvars)}\n",
    "\n",
    "    bestvars = max(fvalues.keys(), key=fvalues.get)\n",
    "    bestfit = getfit(final_by_year, bestvars)\n",
    "    \n",
    "    print(f'In {year}, the best model is {'+'.join(bestvars)} with f={bestfit.fvalue:.1f}, res={np.sqrt(bestfit.mse_resid):.1f}')"
   ]
  },
  {
   "cell_type": "code",
   "execution_count": null,
   "id": "20bba366-0a0e-4c68-8b67-7e967f7e9946",
   "metadata": {},
   "outputs": [],
   "source": [
    "getfit(getyear(2020), ['human_development_index']).summary2()"
   ]
  },
  {
   "cell_type": "code",
   "execution_count": null,
   "id": "9a3b72e8-9f59-486b-8f99-0388c1af3cba",
   "metadata": {},
   "outputs": [],
   "source": [
    "fit = smf.ols('excess_per_million ~ human_development_index', data=getyear(2020).reset_index()).fit()\n",
    "fit.summary2()"
   ]
  }
 ],
 "metadata": {
  "kernelspec": {
   "display_name": "Python 3 (ipykernel)",
   "language": "python",
   "name": "python3"
  },
  "language_info": {
   "codemirror_mode": {
    "name": "ipython",
    "version": 3
   },
   "file_extension": ".py",
   "mimetype": "text/x-python",
   "name": "python",
   "nbconvert_exporter": "python",
   "pygments_lexer": "ipython3",
   "version": "3.12.2"
  }
 },
 "nbformat": 4,
 "nbformat_minor": 5
}
