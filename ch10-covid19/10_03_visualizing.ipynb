{
 "cells": [
  {
   "cell_type": "markdown",
   "id": "7942c7f7-a477-49dc-ab1b-19ed3a385f63",
   "metadata": {},
   "source": [
    "# 10_03: Visualizing COVID-19 data"
   ]
  },
  {
   "cell_type": "code",
   "execution_count": null,
   "id": "ee012d1f-316a-4e7f-b1bc-08b725d09d1a",
   "metadata": {},
   "outputs": [],
   "source": [
    "import math\n",
    "import collections\n",
    "import dataclasses\n",
    "import datetime\n",
    "\n",
    "import numpy as np\n",
    "import pandas as pd\n",
    "import plotly.express as px\n",
    "\n",
    "# pretty-printing code for pandas Series and DataFrames\n",
    "pd.Series.nice = lambda series, format='{:,.0f}': pd.DataFrame(series).style.format(format)\n",
    "pd.DataFrame.nice = lambda frame, format='{:,.0f}': frame.style.format(format)"
   ]
  },
  {
   "cell_type": "code",
   "execution_count": null,
   "id": "07d5c8a1-bdbf-4797-9f50-69f75db9ffd6",
   "metadata": {},
   "outputs": [],
   "source": [
    "covid19 = pd.read_csv('covid19.csv.gz', parse_dates=['date'], dtype_backend='pyarrow')"
   ]
  },
  {
   "cell_type": "code",
   "execution_count": null,
   "id": "f5f4f79d-d09c-4cdb-a711-e5f3c5438e42",
   "metadata": {},
   "outputs": [],
   "source": [
    "final = covid19.groupby('country').last()\n",
    "\n",
    "final['cases_per_million'] = final.total_cases / (final.population / 1.0e6)\n",
    "final['deaths_per_million'] = final.total_deaths / (final.population / 1.0e6)\n",
    "final['excess_per_million'] = final.total_excess / (final.population / 1.0e6)"
   ]
  },
  {
   "cell_type": "code",
   "execution_count": null,
   "id": "521cbece-38ff-4c56-b09e-1def13721862",
   "metadata": {},
   "outputs": [],
   "source": [
    "final.nlargest(10, 'excess_per_million')[['cases_per_million', 'deaths_per_million', 'excess_per_million']].nice()"
   ]
  },
  {
   "cell_type": "code",
   "execution_count": null,
   "id": "6e801c41-ec1a-42d5-99e0-0902a13c2fee",
   "metadata": {},
   "outputs": [],
   "source": [
    "fig = px.scatter(final, x='population', y='excess_per_million', color='continent',\n",
    "                 title='Excess Deaths per Million by Population')\n",
    "fig.show()"
   ]
  },
  {
   "cell_type": "code",
   "execution_count": null,
   "id": "3f0ef4e0-751f-46c8-9c68-96ed5b63c25b",
   "metadata": {},
   "outputs": [],
   "source": [
    "fig = px.scatter(final.reset_index().dropna(subset='excess_per_million'),\n",
    "                 x='population', y='excess_per_million', color='continent',\n",
    "                 hover_name='country', title='Excess Deaths per Million by Population')\n",
    "fig.show()"
   ]
  },
  {
   "cell_type": "code",
   "execution_count": null,
   "id": "6aad52c9-7627-439e-8176-ea172407f3ea",
   "metadata": {},
   "outputs": [],
   "source": [
    "fig = px.scatter(final.reset_index().dropna(subset='excess_per_million'),\n",
    "                 x='gdp_per_capita', y='excess_per_million', color='continent',\n",
    "                 hover_name='country', title='Excess Deaths per Million by Population')\n",
    "fig.show()"
   ]
  },
  {
   "cell_type": "code",
   "execution_count": null,
   "id": "f7426e78-a505-4391-8e98-659df9d06179",
   "metadata": {},
   "outputs": [],
   "source": [
    "fig = px.scatter(final.reset_index().dropna(subset='excess_per_million'),\n",
    "                 x='percent_fully_vaccinated', y='excess_per_million', color='continent',\n",
    "                 hover_name='country', title='Excess Deaths per Million by Population')\n",
    "fig.show()"
   ]
  },
  {
   "cell_type": "code",
   "execution_count": null,
   "id": "76e3adcf-4a93-4837-b555-ddc3f7139133",
   "metadata": {},
   "outputs": [],
   "source": [
    "fig = px.line(covid19, x='date', y='total_cases', color='country')\n",
    "fig.show()"
   ]
  },
  {
   "cell_type": "code",
   "execution_count": null,
   "id": "6026028f-d261-4f99-8b10-8b2676a189df",
   "metadata": {},
   "outputs": [],
   "source": [
    "fig = px.line(covid19, x='date', y='total_cases', color='country')\n",
    "\n",
    "fig.update_xaxes(range=['2020-01-01', '2022-12-31'])\n",
    "fig.show()"
   ]
  },
  {
   "cell_type": "code",
   "execution_count": null,
   "id": "00507cc7-d982-440d-b67c-f4ef9477fa04",
   "metadata": {},
   "outputs": [],
   "source": [
    "covid19.groupby('country').total_cases >= 5"
   ]
  },
  {
   "cell_type": "code",
   "execution_count": null,
   "id": "f23d9c71-b847-4f24-87cf-9664a618fd97",
   "metadata": {},
   "outputs": [],
   "source": [
    "covid19[covid19.total_cases >= 5].groupby('country').head(1)"
   ]
  },
  {
   "cell_type": "code",
   "execution_count": null,
   "id": "2c1428bd-24d5-4af1-8077-fc01687318e4",
   "metadata": {},
   "outputs": [],
   "source": [
    "t0 = covid19[covid19.total_cases >= 5].groupby('country').head(1).set_index('country').date"
   ]
  },
  {
   "cell_type": "code",
   "execution_count": null,
   "id": "a95da3c4-82a5-46a2-92e4-419631d44373",
   "metadata": {},
   "outputs": [],
   "source": [
    "covid19.set_index('country').date - t0"
   ]
  },
  {
   "cell_type": "code",
   "execution_count": null,
   "id": "688891bf-ded3-4249-af15-02a978e709e7",
   "metadata": {},
   "outputs": [],
   "source": [
    "covid19['t'] = (covid19.set_index('country').date - t0).dt.days.values # take values to avoid merge"
   ]
  },
  {
   "cell_type": "code",
   "execution_count": null,
   "id": "44aa43a3-994f-4f76-8019-ee0edcaa5bc6",
   "metadata": {},
   "outputs": [],
   "source": [
    "fig = px.line(covid19, x='t', y='total_cases', color='country')\n",
    "\n",
    "fig.update_xaxes(range=[0, 2*365])\n",
    "fig.show()"
   ]
  },
  {
   "cell_type": "code",
   "execution_count": null,
   "id": "ae92cde9-6db4-4237-ad0e-7e81ddbf2ee1",
   "metadata": {},
   "outputs": [],
   "source": [
    "fig = px.line(covid19, x='t', y='total_cases', color='country', log_y=True)\n",
    "\n",
    "fig.update_xaxes(range=[0, 2*365])\n",
    "fig.update_layout(width=700)\n",
    "fig.show()"
   ]
  },
  {
   "cell_type": "code",
   "execution_count": null,
   "id": "1d1b5c4f-e3cb-4901-b2fd-1319ecd050b5",
   "metadata": {},
   "outputs": [],
   "source": [
    "focused = covid19[(covid19.population > 5e7) & (covid19.date < '2020-06-30')]"
   ]
  },
  {
   "cell_type": "code",
   "execution_count": null,
   "id": "744785bd-834a-4c51-a417-e95e04148154",
   "metadata": {},
   "outputs": [],
   "source": [
    "fig = px.line(focused, x='t', y='total_cases', color='country', log_y=True)\n",
    "\n",
    "fig.update_xaxes(range=[0, 175])\n",
    "fig.update_yaxes(range=[1,7])\n",
    "fig.update_layout(width=800, height=400)\n",
    "fig.show()"
   ]
  },
  {
   "cell_type": "code",
   "execution_count": null,
   "id": "791af7e9-e5cc-4b38-9dfa-a198a98a0aa5",
   "metadata": {},
   "outputs": [],
   "source": [
    "fig = px.line(focused, x='t', y='total_cases', color='continent', log_y=True,\n",
    "              hover_name='country', template='simple_white', color_discrete_sequence=px.colors.qualitative.Set3)\n",
    "\n",
    "fig.update_xaxes(range=[0, 175], title='Days since 5th case')\n",
    "fig.update_yaxes(range=[1, 7], title='Total cases')\n",
    "fig.update_layout(width=600, height=400)\n",
    "\n",
    "fig.show()"
   ]
  },
  {
   "cell_type": "code",
   "execution_count": null,
   "id": "ffeff0ca-0002-492f-b703-2f2e4486b31a",
   "metadata": {},
   "outputs": [],
   "source": [
    "fig = px.line(focused, x='t', y='total_cases', color='continent', log_y=True,\n",
    "              hover_name='country', template='simple_white', color_discrete_sequence=px.colors.qualitative.Set3)\n",
    "\n",
    "fig.update_xaxes(range=[0, 175], title='Days since 5th case')\n",
    "fig.update_yaxes(range=[1, 7], title='Total cases')\n",
    "fig.update_layout(width=600, height=400)\n",
    "\n",
    "for tdouble in [2, 5, 10]:\n",
    "    fig.add_scatter(x=np.array([0, 150]), y=np.array([5, 5 * 2**(150 / tdouble)]),\n",
    "                    mode='lines', showlegend=False, line=dict(color='black', dash='dot'))\n",
    "\n",
    "fig.update_layout(annotations=[{'x': 20,  'y': np.log10(1e6), 'text': '2 days',  'showarrow': False},\n",
    "                               {'x': 70,  'y': np.log10(1e6), 'text': '5 days',  'showarrow': False},\n",
    "                               {'x': 150, 'y': np.log10(4e4), 'text': '10 days', 'showarrow': False}])\n",
    "\n",
    "fig.show()"
   ]
  },
  {
   "cell_type": "code",
   "execution_count": null,
   "id": "24a349f8-1581-42a1-b75d-76088cb6ea7b",
   "metadata": {},
   "outputs": [],
   "source": [
    "fig.write_html('cases.html')"
   ]
  }
 ],
 "metadata": {
  "kernelspec": {
   "display_name": "Python 3 (ipykernel)",
   "language": "python",
   "name": "python3"
  },
  "language_info": {
   "codemirror_mode": {
    "name": "ipython",
    "version": 3
   },
   "file_extension": ".py",
   "mimetype": "text/x-python",
   "name": "python",
   "nbconvert_exporter": "python",
   "pygments_lexer": "ipython3",
   "version": "3.12.2"
  }
 },
 "nbformat": 4,
 "nbformat_minor": 5
}
