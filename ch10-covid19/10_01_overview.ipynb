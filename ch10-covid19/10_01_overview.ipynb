{
 "cells": [
  {
   "cell_type": "markdown",
   "id": "7942c7f7-a477-49dc-ab1b-19ed3a385f63",
   "metadata": {},
   "source": [
    "# 10_01: COVID-19 data"
   ]
  },
  {
   "cell_type": "code",
   "execution_count": null,
   "id": "87406632-413a-4fa7-9367-9e5fbd23b25b",
   "metadata": {},
   "outputs": [],
   "source": [
    "import math\n",
    "import collections\n",
    "import dataclasses\n",
    "import datetime\n",
    "\n",
    "import numpy as np\n",
    "import pandas as pd\n",
    "\n",
    "import plotly.express as px"
   ]
  },
  {
   "cell_type": "code",
   "execution_count": null,
   "id": "9a002aaa-d18a-4b0f-8a56-fae318e88305",
   "metadata": {},
   "outputs": [],
   "source": [
    "covid19 = pd.read_csv('covid19.csv.gz', dtype_backend='pyarrow', parse_dates=['date'])"
   ]
  },
  {
   "cell_type": "code",
   "execution_count": null,
   "id": "43c89599-3089-4709-80c0-27964a578b8c",
   "metadata": {},
   "outputs": [],
   "source": [
    "covid19.info()"
   ]
  },
  {
   "cell_type": "code",
   "execution_count": null,
   "id": "3bdde2c2-0aa3-4801-9bec-14c62c7ecbe0",
   "metadata": {},
   "outputs": [],
   "source": [
    "europe2020 = covid19[(covid19.continent == 'Europe') & (covid19.date == pd.to_datetime('2020-12-31'))]"
   ]
  },
  {
   "cell_type": "code",
   "execution_count": null,
   "id": "b544bae3-ac59-4577-a60c-b6a94688d017",
   "metadata": {},
   "outputs": [],
   "source": [
    "europe2020.head()"
   ]
  },
  {
   "cell_type": "code",
   "execution_count": null,
   "id": "021ea340-b147-4b74-baf0-f698e604592e",
   "metadata": {},
   "outputs": [],
   "source": [
    "fig = px.choropleth(europe2020,  # dataset\n",
    "                    color='total_deaths', color_continuous_scale=px.colors.sequential.Blues,  # color scheme\n",
    "                    locations='country', locationmode='country names',              # geographic arrangement\n",
    "                    hover_name='country', title='COVID-19 in Europe, Dec 31 2020')  # titles\n",
    "\n",
    "fig.update_layout(width=800, height=500)       # set figure size\n",
    "fig.update_geos(lonaxis={'range': [-25, 50]},  # set longitude range\n",
    "                lataxis={'range': [30, 70]})   # set latitude range\n",
    "\n",
    "fig.show()"
   ]
  }
 ],
 "metadata": {
  "kernelspec": {
   "display_name": "Python 3 (ipykernel)",
   "language": "python",
   "name": "python3"
  },
  "language_info": {
   "codemirror_mode": {
    "name": "ipython",
    "version": 3
   },
   "file_extension": ".py",
   "mimetype": "text/x-python",
   "name": "python",
   "nbconvert_exporter": "python",
   "pygments_lexer": "ipython3",
   "version": "3.12.2"
  }
 },
 "nbformat": 4,
 "nbformat_minor": 5
}
