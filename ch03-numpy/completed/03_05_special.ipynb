{
 "cells": [
  {
   "cell_type": "markdown",
   "metadata": {},
   "source": [
    "# 03_05: Special arrays"
   ]
  },
  {
   "cell_type": "code",
   "execution_count": 1,
   "metadata": {},
   "outputs": [],
   "source": [
    "import math\n",
    "import collections\n",
    "import dataclasses\n",
    "import datetime\n",
    "\n",
    "import numpy as np\n",
    "import pandas as pd\n",
    "import matplotlib.pyplot as pp"
   ]
  },
  {
   "cell_type": "code",
   "execution_count": 2,
   "metadata": {},
   "outputs": [],
   "source": [
    "discography = np.load('discography.npy')"
   ]
  },
  {
   "cell_type": "code",
   "execution_count": 3,
   "metadata": {},
   "outputs": [
    {
     "data": {
      "text/plain": [
       "array([('David Bowie', '1969-11-14', 17),\n",
       "       ('The Man Who Sold the World', '1970-11-04',  3),\n",
       "       ('Hunky Dory', '1971-12-17',  5),\n",
       "       ('Ziggy Stardust', '1972-06-16',  1),\n",
       "       ('Aladdin Sane', '1973-04-13',  1), ('Pin Ups', '1973-10-19',  1),\n",
       "       ('Diamond Dogs', '1974-05-24',  1),\n",
       "       ('Young Americans', '1975-03-07',  2),\n",
       "       ('Station To Station', '1976-01-23',  5),\n",
       "       ('Low', '1977-01-14',  2), ('Heroes', '1977-10-14',  3),\n",
       "       ('Lodger', '1979-05-18',  4)],\n",
       "      dtype=[('title', '<U32'), ('release', '<M8[D]'), ('toprank', '<i8')])"
      ]
     },
     "execution_count": 3,
     "metadata": {},
     "output_type": "execute_result"
    }
   ],
   "source": [
    "discography"
   ]
  },
  {
   "cell_type": "code",
   "execution_count": 4,
   "metadata": {},
   "outputs": [
    {
     "name": "stdout",
     "output_type": "stream",
     "text": [
      "# title, release, toprank\n",
      "David Bowie, 1969-11-14, 17\n",
      "The Man Who Sold the World, 1970-11-04, 3\n",
      "Hunky Dory, 1971-12-17, 5\n",
      "Ziggy Stardust, 1972-06-16, 1\n",
      "Aladdin Sane, 1973-04-13, 1\n",
      "Pin Ups, 1973-10-19, 1\n",
      "Diamond Dogs, 1974-05-24, 1\n",
      "Young Americans, 1975-03-07, 2\n",
      "Station To Station, 1976-01-23, 5\n",
      "Low, 1977-01-14, 2\n",
      "Heroes, 1977-10-14, 3\n",
      "Lodger, 1979-05-18, 4\n",
      "\n"
     ]
    }
   ],
   "source": [
    "print(open('discography.txt', 'r').read())"
   ]
  },
  {
   "cell_type": "code",
   "execution_count": 5,
   "metadata": {},
   "outputs": [],
   "source": [
    "discography_txt = np.genfromtxt('discography.txt', dtype=('U32', 'M8[D]', 'i8'), delimiter=',', names=True)"
   ]
  },
  {
   "cell_type": "code",
   "execution_count": 6,
   "metadata": {},
   "outputs": [
    {
     "data": {
      "text/plain": [
       "array([ True,  True,  True,  True,  True,  True,  True,  True,  True,\n",
       "        True,  True,  True])"
      ]
     },
     "execution_count": 6,
     "metadata": {},
     "output_type": "execute_result"
    }
   ],
   "source": [
    "discography_txt == discography"
   ]
  },
  {
   "cell_type": "code",
   "execution_count": 7,
   "metadata": {},
   "outputs": [
    {
     "data": {
      "text/plain": [
       "np.void(('David Bowie', '1969-11-14', 17), dtype=[('title', '<U32'), ('release', '<M8[D]'), ('toprank', '<i8')])"
      ]
     },
     "execution_count": 7,
     "metadata": {},
     "output_type": "execute_result"
    }
   ],
   "source": [
    "discography[0]"
   ]
  },
  {
   "cell_type": "code",
   "execution_count": 8,
   "metadata": {},
   "outputs": [
    {
     "data": {
      "text/plain": [
       "np.str_('David Bowie')"
      ]
     },
     "execution_count": 8,
     "metadata": {},
     "output_type": "execute_result"
    }
   ],
   "source": [
    "discography[0][0]"
   ]
  },
  {
   "cell_type": "code",
   "execution_count": 9,
   "metadata": {},
   "outputs": [
    {
     "data": {
      "text/plain": [
       "np.datetime64('1969-11-14')"
      ]
     },
     "execution_count": 9,
     "metadata": {},
     "output_type": "execute_result"
    }
   ],
   "source": [
    "discography[0][1]"
   ]
  },
  {
   "cell_type": "code",
   "execution_count": 10,
   "metadata": {},
   "outputs": [
    {
     "data": {
      "text/plain": [
       "np.str_('David Bowie')"
      ]
     },
     "execution_count": 10,
     "metadata": {},
     "output_type": "execute_result"
    }
   ],
   "source": [
    "discography[0]['title']"
   ]
  },
  {
   "cell_type": "code",
   "execution_count": 11,
   "metadata": {},
   "outputs": [
    {
     "data": {
      "text/plain": [
       "array(['David Bowie', 'The Man Who Sold the World', 'Hunky Dory',\n",
       "       'Ziggy Stardust', 'Aladdin Sane', 'Pin Ups', 'Diamond Dogs',\n",
       "       'Young Americans', 'Station To Station', 'Low', 'Heroes', 'Lodger'],\n",
       "      dtype='<U32')"
      ]
     },
     "execution_count": 11,
     "metadata": {},
     "output_type": "execute_result"
    }
   ],
   "source": [
    "discography['title']"
   ]
  },
  {
   "cell_type": "code",
   "execution_count": 12,
   "metadata": {},
   "outputs": [
    {
     "data": {
      "text/plain": [
       "array([('David Bowie', '1969-11-14', 17),\n",
       "       ('The Man Who Sold the World', '1970-11-04',  3)],\n",
       "      dtype=[('title', '<U32'), ('release', '<M8[D]'), ('toprank', '<i8')])"
      ]
     },
     "execution_count": 12,
     "metadata": {},
     "output_type": "execute_result"
    }
   ],
   "source": [
    "np.array([('David Bowie', '1969-11-14', 17),\n",
    "          ('The Man Who Sold the World', '1970-11-04', 3)],\n",
    "         dtype = [('title', 'U32'), ('release', 'M8[D]'), ('toprank', 'i8')])"
   ]
  },
  {
   "cell_type": "code",
   "execution_count": 13,
   "metadata": {},
   "outputs": [
    {
     "data": {
      "text/plain": [
       "np.datetime64('1969')"
      ]
     },
     "execution_count": 13,
     "metadata": {},
     "output_type": "execute_result"
    }
   ],
   "source": [
    "np.datetime64('1969')"
   ]
  },
  {
   "cell_type": "code",
   "execution_count": 14,
   "metadata": {},
   "outputs": [
    {
     "data": {
      "text/plain": [
       "np.datetime64('1969-11-14')"
      ]
     },
     "execution_count": 14,
     "metadata": {},
     "output_type": "execute_result"
    }
   ],
   "source": [
    "np.datetime64('1969-11-14')"
   ]
  },
  {
   "cell_type": "code",
   "execution_count": 15,
   "metadata": {},
   "outputs": [
    {
     "data": {
      "text/plain": [
       "np.datetime64('2015-02-03T12:00')"
      ]
     },
     "execution_count": 15,
     "metadata": {},
     "output_type": "execute_result"
    }
   ],
   "source": [
    "np.datetime64('2015-02-03 12:00')"
   ]
  },
  {
   "cell_type": "code",
   "execution_count": 16,
   "metadata": {},
   "outputs": [
    {
     "data": {
      "text/plain": [
       "np.datetime64('2015-02-03T00:00:00.000000')"
      ]
     },
     "execution_count": 16,
     "metadata": {},
     "output_type": "execute_result"
    }
   ],
   "source": [
    "np.datetime64(datetime.datetime(2015, 2, 3))"
   ]
  },
  {
   "cell_type": "code",
   "execution_count": 17,
   "metadata": {},
   "outputs": [
    {
     "data": {
      "text/plain": [
       "np.datetime64('2015-02-03')"
      ]
     },
     "execution_count": 17,
     "metadata": {},
     "output_type": "execute_result"
    }
   ],
   "source": [
    "np.datetime64(datetime.datetime(2015, 2, 3), 'D')"
   ]
  },
  {
   "cell_type": "code",
   "execution_count": 18,
   "metadata": {},
   "outputs": [
    {
     "data": {
      "text/plain": [
       "np.datetime64('2015-02-03')"
      ]
     },
     "execution_count": 18,
     "metadata": {},
     "output_type": "execute_result"
    }
   ],
   "source": [
    "np.datetime64(datetime.datetime.strptime('02/03/2015', '%m/%d/%Y'), 'D')"
   ]
  },
  {
   "cell_type": "code",
   "execution_count": 19,
   "metadata": {},
   "outputs": [
    {
     "data": {
      "text/plain": [
       "np.True_"
      ]
     },
     "execution_count": 19,
     "metadata": {},
     "output_type": "execute_result"
    }
   ],
   "source": [
    "np.datetime64('2015-02-03 12:00') < np.datetime64('2015-02-03 18:00')"
   ]
  },
  {
   "cell_type": "code",
   "execution_count": 20,
   "metadata": {},
   "outputs": [
    {
     "data": {
      "text/plain": [
       "np.timedelta64(360,'m')"
      ]
     },
     "execution_count": 20,
     "metadata": {},
     "output_type": "execute_result"
    }
   ],
   "source": [
    "np.datetime64('2015-02-03 18:00') - np.datetime64('2015-02-03 12:00')"
   ]
  },
  {
   "cell_type": "code",
   "execution_count": 21,
   "metadata": {},
   "outputs": [
    {
     "data": {
      "text/plain": [
       "array([355, 408, 182, 301, 189, 217, 287, 322, 357, 273, 581],\n",
       "      dtype='timedelta64[D]')"
      ]
     },
     "execution_count": 21,
     "metadata": {},
     "output_type": "execute_result"
    }
   ],
   "source": [
    "np.diff(discography['release'])"
   ]
  },
  {
   "cell_type": "code",
   "execution_count": 22,
   "metadata": {},
   "outputs": [
    {
     "data": {
      "text/plain": [
       "np.void(('Ziggy Stardust', '1972-06-16', 1), dtype=[('title', '<U32'), ('release', '<M8[D]'), ('toprank', '<i8')])"
      ]
     },
     "execution_count": 22,
     "metadata": {},
     "output_type": "execute_result"
    }
   ],
   "source": [
    "discography[3]"
   ]
  },
  {
   "cell_type": "code",
   "execution_count": 23,
   "metadata": {},
   "outputs": [
    {
     "data": {
      "text/plain": [
       "array(['2015-02-03', '2015-02-04', '2015-02-05', '2015-02-06',\n",
       "       '2015-02-07', '2015-02-08', '2015-02-09', '2015-02-10',\n",
       "       '2015-02-11', '2015-02-12', '2015-02-13', '2015-02-14',\n",
       "       '2015-02-15', '2015-02-16', '2015-02-17', '2015-02-18',\n",
       "       '2015-02-19', '2015-02-20', '2015-02-21', '2015-02-22',\n",
       "       '2015-02-23', '2015-02-24', '2015-02-25', '2015-02-26',\n",
       "       '2015-02-27', '2015-02-28'], dtype='datetime64[D]')"
      ]
     },
     "execution_count": 23,
     "metadata": {},
     "output_type": "execute_result"
    }
   ],
   "source": [
    "np.arange(np.datetime64('2015-02-03'), np.datetime64('2015-03-01'))"
   ]
  },
  {
   "cell_type": "code",
   "execution_count": null,
   "metadata": {},
   "outputs": [],
   "source": []
  }
 ],
 "metadata": {
  "kernelspec": {
   "display_name": "Python 3",
   "language": "python",
   "name": "python3"
  },
  "language_info": {
   "codemirror_mode": {
    "name": "ipython",
    "version": 3
   },
   "file_extension": ".py",
   "mimetype": "text/x-python",
   "name": "python",
   "nbconvert_exporter": "python",
   "pygments_lexer": "ipython3",
   "version": "3.12.1"
  }
 },
 "nbformat": 4,
 "nbformat_minor": 4
}
