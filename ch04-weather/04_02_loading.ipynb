{
 "cells": [
  {
   "cell_type": "markdown",
   "metadata": {},
   "source": [
    "# 04_02: Loading station data"
   ]
  },
  {
   "cell_type": "code",
   "execution_count": null,
   "metadata": {},
   "outputs": [],
   "source": [
    "import math\n",
    "import collections\n",
    "import dataclasses\n",
    "import datetime\n",
    "\n",
    "import numpy as np\n",
    "import pandas as pd\n",
    "import matplotlib.pyplot as pp"
   ]
  },
  {
   "cell_type": "markdown",
   "metadata": {},
   "source": [
    "    IV. FORMAT OF \"ghcnd-stations.txt\"\n",
    "\n",
    "    ------------------------------\n",
    "    Variable   Columns   Type\n",
    "    ------------------------------\n",
    "    ID            1-11   Character\n",
    "    LATITUDE     13-20   Real\n",
    "    LONGITUDE    22-30   Real\n",
    "    ELEVATION    32-37   Real\n",
    "    STATE        39-40   Character\n",
    "    NAME         42-71   Character\n",
    "    GSN FLAG     73-75   Character\n",
    "    HCN/CRN FLAG 77-79   Character\n",
    "    WMO ID       81-85   Character\n",
    "    ------------------------------\n"
   ]
  },
  {
   "cell_type": "code",
   "execution_count": null,
   "metadata": {},
   "outputs": [],
   "source": [
    "stations = np.genfromtxt('ghcnd-stations.txt', delimiter=[11,9,10,7,3,31,4,4,6],\n",
    "                                               names=['id','latitude','longitude','elevation','state','name',\n",
    "                                                      'gsn','hcn','wmo'],\n",
    "                                               dtype=['U11','d','d','d','U3','U31','U4','U4','U6'],\n",
    "                                               autostrip=True)"
   ]
  },
  {
   "cell_type": "code",
   "execution_count": null,
   "metadata": {},
   "outputs": [],
   "source": [
    "len(stations)"
   ]
  },
  {
   "cell_type": "code",
   "execution_count": null,
   "metadata": {},
   "outputs": [],
   "source": [
    "stations"
   ]
  },
  {
   "cell_type": "code",
   "execution_count": null,
   "metadata": {},
   "outputs": [],
   "source": [
    "pp.plot(stations['longitude'], stations['latitude'], '.', markersize=1)"
   ]
  },
  {
   "cell_type": "code",
   "execution_count": null,
   "metadata": {},
   "outputs": [],
   "source": [
    "stations_ca = stations[stations['state'] == 'CA']"
   ]
  },
  {
   "cell_type": "code",
   "execution_count": null,
   "metadata": {},
   "outputs": [],
   "source": [
    "pp.plot(stations_ca['longitude'], stations_ca['latitude'], '.', markersize=1)"
   ]
  },
  {
   "cell_type": "code",
   "execution_count": null,
   "metadata": {},
   "outputs": [],
   "source": [
    "stations[stations['name'] == 'PASADENA']"
   ]
  },
  {
   "cell_type": "code",
   "execution_count": null,
   "metadata": {},
   "outputs": [],
   "source": [
    "stations[np.char.startswith(stations['name'], 'PASADENA')]"
   ]
  },
  {
   "cell_type": "code",
   "execution_count": null,
   "metadata": {},
   "outputs": [],
   "source": [
    "open('PASADENA.dly', 'r').readlines()[:10]"
   ]
  },
  {
   "cell_type": "code",
   "execution_count": null,
   "metadata": {},
   "outputs": [],
   "source": [
    "import getweather"
   ]
  },
  {
   "cell_type": "code",
   "execution_count": null,
   "metadata": {},
   "outputs": [],
   "source": [
    "help(getweather.getyear)"
   ]
  },
  {
   "cell_type": "code",
   "execution_count": null,
   "metadata": {},
   "outputs": [],
   "source": [
    "getweather.getyear('PASADENA', ['TMIN','TMAX'], 2000)"
   ]
  }
 ],
 "metadata": {
  "kernelspec": {
   "display_name": "Python 3 (ipykernel)",
   "language": "python",
   "name": "python3"
  },
  "language_info": {
   "codemirror_mode": {
    "name": "ipython",
    "version": 3
   },
   "file_extension": ".py",
   "mimetype": "text/x-python",
   "name": "python",
   "nbconvert_exporter": "python",
   "pygments_lexer": "ipython3",
   "version": "3.12.2"
  }
 },
 "nbformat": 4,
 "nbformat_minor": 4
}
