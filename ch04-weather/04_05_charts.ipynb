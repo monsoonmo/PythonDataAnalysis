{
 "cells": [
  {
   "cell_type": "markdown",
   "metadata": {},
   "source": [
    "# 04_05: Weather charts"
   ]
  },
  {
   "cell_type": "code",
   "execution_count": null,
   "metadata": {},
   "outputs": [],
   "source": [
    "import math\n",
    "import collections\n",
    "import dataclasses\n",
    "import datetime\n",
    "\n",
    "import numpy as np\n",
    "import pandas as pd\n",
    "import matplotlib.pyplot as pp"
   ]
  },
  {
   "cell_type": "markdown",
   "metadata": {},
   "source": [
    "<img src=\"nytimes.png\">"
   ]
  },
  {
   "cell_type": "code",
   "execution_count": null,
   "metadata": {},
   "outputs": [],
   "source": [
    "import getweather"
   ]
  },
  {
   "cell_type": "code",
   "execution_count": null,
   "metadata": {},
   "outputs": [],
   "source": [
    "allyears = np.vstack([getweather.getyear('PASADENA', ['TMIN','TMAX'], year)\n",
    "                      for year in range(1910, 2024)])"
   ]
  },
  {
   "cell_type": "code",
   "execution_count": null,
   "metadata": {},
   "outputs": [],
   "source": [
    "allyears['TMIN'].shape"
   ]
  },
  {
   "cell_type": "code",
   "execution_count": null,
   "metadata": {},
   "outputs": [],
   "source": [
    "allyears['TMIN']"
   ]
  },
  {
   "cell_type": "code",
   "execution_count": null,
   "metadata": {},
   "outputs": [],
   "source": [
    "pp.matshow(allyears['TMIN'], extent=[1, 365, 2024, 1910])\n",
    "pp.colorbar()"
   ]
  },
  {
   "cell_type": "code",
   "execution_count": null,
   "metadata": {},
   "outputs": [],
   "source": [
    "tmin_record = np.nanmin(allyears['TMIN'], axis=0)\n",
    "tmax_record = np.nanmax(allyears['TMAX'], axis=0)"
   ]
  },
  {
   "cell_type": "code",
   "execution_count": null,
   "metadata": {},
   "outputs": [],
   "source": [
    "pp.plot(tmin_record)\n",
    "pp.plot(tmax_record)"
   ]
  },
  {
   "cell_type": "code",
   "execution_count": null,
   "metadata": {},
   "outputs": [],
   "source": [
    "normal = np.vstack([getweather.getyear('PASADENA', ['TMIN','TMAX'], year)\n",
    "                    for year in range(1981, 2011)])"
   ]
  },
  {
   "cell_type": "code",
   "execution_count": null,
   "metadata": {},
   "outputs": [],
   "source": [
    "tmin_normal = np.nanmean(normal['TMIN'], axis=0)\n",
    "tmax_normal = np.nanmean(normal['TMAX'], axis=0)"
   ]
  },
  {
   "cell_type": "code",
   "execution_count": null,
   "metadata": {},
   "outputs": [],
   "source": [
    "pp.plot(tmin_normal)\n",
    "pp.plot(tmax_normal)"
   ]
  },
  {
   "cell_type": "code",
   "execution_count": null,
   "metadata": {},
   "outputs": [],
   "source": [
    "station, year = 'PASADENA', 2020\n",
    "thisyear = getweather.getyear(station, ['TMIN', 'TMAX'], year)\n",
    "\n",
    "days = np.arange(1, 366)\n",
    "pp.fill_between(days, tmin_record, tmax_record, color=(0.92,0.92,0.89), step='mid') # step='mid' makes blocky regions \n",
    "pp.fill_between(days, tmin_normal, tmax_normal, color=(0.78,0.72,0.72), step='mid')\n",
    "pp.fill_between(days, thisyear['TMIN'], thisyear['TMAX'], color=(0.73,0.21,0.41), alpha=0.6, step='mid'); # alpha sets transparency"
   ]
  },
  {
   "cell_type": "code",
   "execution_count": null,
   "metadata": {},
   "outputs": [],
   "source": [
    "avg = 0.5 * (np.nanmean(thisyear['TMIN']) + np.nanmean(thisyear['TMAX']))\n",
    "avg"
   ]
  },
  {
   "cell_type": "code",
   "execution_count": null,
   "metadata": {},
   "outputs": [],
   "source": [
    "f'{station}, {year}: average temperature = {avg:.2f} °C'"
   ]
  },
  {
   "cell_type": "code",
   "execution_count": null,
   "metadata": {},
   "outputs": [],
   "source": [
    "def nyplot(station, year):\n",
    "    pp.figure(figsize=(12, 3.5))  # a better aspect ratio for the figure\n",
    "     \n",
    "    allyears = np.vstack([getweather.getyear(station, ['TMIN','TMAX'], year)\n",
    "                          for year in range(1910, 2020)])\n",
    "    \n",
    "    normal = np.vstack([getweather.getyear(station, ['TMIN','TMAX'], year)\n",
    "                        for year in range(1981, 2011)])\n",
    "\n",
    "    thisyear = getweather.getyear(station, ['TMIN', 'TMAX'], year)\n",
    "    \n",
    "    tmin_record, tmax_record = np.nanmin(allyears['TMIN'], axis=0), np.nanmax(allyears['TMAX'], axis=0)\n",
    "    tmin_normal, tmax_normal = np.nanmean(normal['TMIN'], axis=0), np.nanmean(normal['TMAX'], axis=0)\n",
    "\n",
    "    days = np.arange(1, 366)\n",
    "    pp.fill_between(days, tmin_record, tmax_record, color=(0.92,0.92,0.89), step='mid')\n",
    "    pp.fill_between(days, tmin_normal, tmax_normal, color=(0.78,0.72,0.72), step='mid')\n",
    "    pp.fill_between(days, thisyear['TMIN'], thisyear['TMAX'], color=(0.73,0.21,0.41), alpha=0.6, step='mid')\n",
    "\n",
    "    pp.axis(xmin=1, xmax=365, ymin=-15, ymax=50)\n",
    "    # create approximate monthly ticks for x axis\n",
    "    pp.xticks(range(15, 365, 30), ['Jan','Feb','Mar','Apr','May','Jun','Jul','Aug','Sep','Oct','Nov','Dec'])\n",
    "    pp.ylabel('temperature, °C')\n",
    "    \n",
    "    avg = 0.5 * (np.nanmean(thisyear['TMIN']) + np.nanmean(thisyear['TMAX']))\n",
    "    pp.title(f'{station}, {year}: average temperature = {avg:.2f} °C');               # later"
   ]
  },
  {
   "cell_type": "code",
   "execution_count": null,
   "metadata": {},
   "outputs": [],
   "source": [
    "nyplot('NEW YORK', 2022)"
   ]
  }
 ],
 "metadata": {
  "kernelspec": {
   "display_name": "Python 3 (ipykernel)",
   "language": "python",
   "name": "python3"
  },
  "language_info": {
   "codemirror_mode": {
    "name": "ipython",
    "version": 3
   },
   "file_extension": ".py",
   "mimetype": "text/x-python",
   "name": "python",
   "nbconvert_exporter": "python",
   "pygments_lexer": "ipython3",
   "version": "3.12.2"
  }
 },
 "nbformat": 4,
 "nbformat_minor": 4
}
