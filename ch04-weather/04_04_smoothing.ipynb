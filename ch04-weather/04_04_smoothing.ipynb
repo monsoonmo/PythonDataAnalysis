{
 "cells": [
  {
   "cell_type": "markdown",
   "metadata": {},
   "source": [
    "# 04_04: Smoothing and plotting time series"
   ]
  },
  {
   "cell_type": "code",
   "execution_count": null,
   "metadata": {},
   "outputs": [],
   "source": [
    "import math\n",
    "import collections\n",
    "import dataclasses\n",
    "import datetime\n",
    "\n",
    "import numpy as np\n",
    "import pandas as pd\n",
    "import matplotlib.pyplot as pp"
   ]
  },
  {
   "cell_type": "code",
   "execution_count": null,
   "metadata": {},
   "outputs": [],
   "source": [
    "import getweather\n",
    "\n",
    "def fillnans(array):\n",
    "    x = np.arange(len(array))\n",
    "    good = ~np.isnan(array)\n",
    "\n",
    "    return np.interp(x, x[good], array[good])"
   ]
  },
  {
   "cell_type": "code",
   "execution_count": null,
   "metadata": {},
   "outputs": [],
   "source": [
    "hilo = getweather.getyear('HILO', ['TMIN','TMAX'], 2000)"
   ]
  },
  {
   "cell_type": "code",
   "execution_count": null,
   "metadata": {},
   "outputs": [],
   "source": [
    "hilo['TMIN'], hilo['TMAX'] = fillnans(hilo['TMIN']), fillnans(hilo['TMAX'])"
   ]
  },
  {
   "cell_type": "code",
   "execution_count": null,
   "metadata": {},
   "outputs": [],
   "source": [
    "np.mean(hilo['TMIN']), np.min(hilo['TMIN']), np.max(hilo['TMIN'])"
   ]
  },
  {
   "cell_type": "code",
   "execution_count": null,
   "metadata": {},
   "outputs": [],
   "source": [
    "pp.plot(hilo['TMIN'])\n",
    "\n",
    "# we loop over a list of functions!\n",
    "for summary in [np.mean, np.min, np.max]:\n",
    "    pp.axhline(summary(hilo['TMIN']), linestyle=':') # dotted line"
   ]
  },
  {
   "cell_type": "code",
   "execution_count": null,
   "metadata": {},
   "outputs": [],
   "source": [
    "mean, err = np.mean(hilo['TMIN']), math.sqrt(np.var(hilo['TMIN']))"
   ]
  },
  {
   "cell_type": "code",
   "execution_count": null,
   "metadata": {},
   "outputs": [],
   "source": [
    "pp.plot(hilo['TMIN'])\n",
    "\n",
    "for value in [mean, mean - err, mean + err]:\n",
    "    pp.axhline(value, linestyle=':')"
   ]
  },
  {
   "cell_type": "code",
   "execution_count": null,
   "metadata": {},
   "outputs": [],
   "source": [
    "rain = fillnans(getweather.getyear('HILO', ['PRCP'], 2000)['PRCP'])"
   ]
  },
  {
   "cell_type": "code",
   "execution_count": null,
   "metadata": {},
   "outputs": [],
   "source": [
    "pp.plot(rain)"
   ]
  },
  {
   "cell_type": "code",
   "execution_count": null,
   "metadata": {},
   "outputs": [],
   "source": [
    "mask = np.ones(10) / 10"
   ]
  },
  {
   "cell_type": "code",
   "execution_count": null,
   "metadata": {},
   "outputs": [],
   "source": [
    "pp.plot(hilo['TMIN'], '.', ms=3) # smaller dots\n",
    "pp.plot(range(5, 361), np.convolve(hilo['TMIN'], mask, mode='valid')) # align shorter vector"
   ]
  },
  {
   "cell_type": "code",
   "execution_count": null,
   "metadata": {},
   "outputs": [],
   "source": [
    "pp.plot(hilo['TMIN'], '.', ms=3)\n",
    "pp.plot(np.convolve(hilo['TMIN'], mask, mode='same'))"
   ]
  },
  {
   "cell_type": "code",
   "execution_count": null,
   "metadata": {},
   "outputs": [],
   "source": [
    "def smooth(array, window=10, mode='valid'):\n",
    "    return np.convolve(array, np.ones(window)/window, mode)"
   ]
  },
  {
   "cell_type": "code",
   "execution_count": null,
   "metadata": {},
   "outputs": [],
   "source": [
    "len(smooth(hilo['TMIN'], 10))"
   ]
  },
  {
   "cell_type": "code",
   "execution_count": null,
   "metadata": {},
   "outputs": [],
   "source": [
    "pp.plot(hilo['TMIN'], '.', ms=3)\n",
    "pp.plot(range(5, 361), smooth(hilo['TMIN'], 10))\n",
    "\n",
    "pp.plot(hilo['TMAX'], '.', ms=3)\n",
    "pp.plot(range(5, 361), smooth(hilo['TMAX'], 10))"
   ]
  },
  {
   "cell_type": "code",
   "execution_count": null,
   "metadata": {},
   "outputs": [],
   "source": [
    "def plotsmoothed(station, year):\n",
    "    # get the data\n",
    "    stationdata = getweather.getyear(station, ['TMIN','TMAX'], year)\n",
    "\n",
    "    # repeat for TMIN and TMAX\n",
    "    for obs in ['TMIN','TMAX']:   \n",
    "        # fill NaNs and smooth\n",
    "        data = smooth(fillnans(stationdata[obs]), 20)\n",
    "        # plot, setting x to the post-smoothing range\n",
    "        pp.plot(range(10, 356), data)\n",
    "\n",
    "    # add title and set axes limits\n",
    "    pp.title(station)\n",
    "    pp.axis(xmin=1, xmax=365, ymin=-10, ymax=45)"
   ]
  },
  {
   "cell_type": "code",
   "execution_count": null,
   "metadata": {},
   "outputs": [],
   "source": [
    "for year in range(2000, 2024):\n",
    "    plotsmoothed('HILO', year)\n",
    "\n",
    "pp.axis(ymin=15, ymax=33)"
   ]
  },
  {
   "cell_type": "code",
   "execution_count": null,
   "metadata": {},
   "outputs": [],
   "source": [
    "for i, city in enumerate(['PASADENA', 'NEW YORK', 'SAN DIEGO', 'MINNEAPOLIS'], start=1):\n",
    "    pp.subplot(2, 2, i)\n",
    "    plotsmoothed(city, 2023)\n",
    "\n",
    "pp.tight_layout() # space out plots correctly"
   ]
  }
 ],
 "metadata": {
  "kernelspec": {
   "display_name": "Python 3 (ipykernel)",
   "language": "python",
   "name": "python3"
  },
  "language_info": {
   "codemirror_mode": {
    "name": "ipython",
    "version": 3
   },
   "file_extension": ".py",
   "mimetype": "text/x-python",
   "name": "python",
   "nbconvert_exporter": "python",
   "pygments_lexer": "ipython3",
   "version": "3.12.2"
  }
 },
 "nbformat": 4,
 "nbformat_minor": 4
}
