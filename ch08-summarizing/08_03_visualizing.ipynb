{
 "cells": [
  {
   "cell_type": "markdown",
   "id": "d0d94cff-d807-4f22-a6f4-a2aa5ca2e9dd",
   "metadata": {},
   "source": [
    "# 08_03: Visualizing distributions"
   ]
  },
  {
   "cell_type": "code",
   "execution_count": 1,
   "id": "fd242663-707a-4df3-9c9d-c27a847211d6",
   "metadata": {},
   "outputs": [],
   "source": [
    "import math\n",
    "import collections\n",
    "import dataclasses\n",
    "import datetime\n",
    "\n",
    "import numpy as np\n",
    "import pandas as pd\n",
    "import matplotlib.pyplot as pp"
   ]
  },
  {
   "cell_type": "code",
   "execution_count": 2,
   "id": "ec151ecf-deee-4531-bc8e-47bb062614aa",
   "metadata": {},
   "outputs": [],
   "source": [
    "incomes = pd.read_csv('incomes.csv').set_index(['country', 'year'])"
   ]
  },
  {
   "cell_type": "code",
   "execution_count": 3,
   "id": "1eb6704c-0e2f-4940-ba23-8b690eb5681d",
   "metadata": {},
   "outputs": [],
   "source": [
    "incomes['log10_daily'] = np.log10(incomes.yearly / 365.25)"
   ]
  },
  {
   "cell_type": "code",
   "execution_count": null,
   "id": "9fe9793d-9d9b-4ca6-88b6-9467100bfcab",
   "metadata": {},
   "outputs": [],
   "source": [
    "incomes.loc['USA', 1965].yearly.plot(kind='box', figsize=(6,4));\n",
    "pp.ylabel('$ / year');"
   ]
  },
  {
   "cell_type": "code",
   "execution_count": null,
   "id": "2818daed-c0fa-4566-9462-c674a5475625",
   "metadata": {},
   "outputs": [],
   "source": [
    "incomes.reset_index().plot(kind='box', column='yearly', by=['country', 'year'], figsize=(6,4))\n",
    "pp.ylabel('$ / year');"
   ]
  },
  {
   "cell_type": "code",
   "execution_count": null,
   "id": "cd6057e9-b854-40da-a79e-800ab633c994",
   "metadata": {},
   "outputs": [],
   "source": [
    "incomes.reset_index().plot(kind='box', column='log10_daily', by=['country', 'year'], figsize=(6,4))\n",
    "pp.ylabel(r'$\\mathrm{log}_{10} (\\$ / \\mathrm{day})$');  # labels support the LaTeX math language"
   ]
  },
  {
   "cell_type": "code",
   "execution_count": null,
   "id": "a0d4e5ac-0c98-4894-a727-27501502a023",
   "metadata": {},
   "outputs": [],
   "source": [
    "# histtype = 'step' removes the color fill\n",
    "incomes.loc['China', 1965].log10_daily.plot(kind='hist', histtype='step', bins=20, figsize=(6,4))\n",
    "pp.xlabel(r'$\\mathrm{log}_{10} (\\$ / \\mathrm{day})$');"
   ]
  },
  {
   "cell_type": "code",
   "execution_count": null,
   "id": "1f3803a9-a8e0-48ab-b803-1d69e7cfce2a",
   "metadata": {},
   "outputs": [],
   "source": [
    "data = incomes.loc['China', 1965].log10_daily\n",
    "data.plot(kind='hist', histtype='step', bins=20, figsize=(6,4))\n",
    "\n",
    "pp.xlabel(r'$\\mathrm{log}_{10} (\\$ / \\mathrm{day})$')\n",
    "\n",
    "pp.axvline(data.mean())\n",
    "pp.axvline(data.median(), linestyle='--')\n",
    "pp.axvline(data.quantile(0.25), linestyle=':')\n",
    "pp.axvline(data.quantile(0.75), linestyle=':');"
   ]
  },
  {
   "cell_type": "code",
   "execution_count": null,
   "id": "747dc7aa-5781-4244-8c49-8f1909f48c25",
   "metadata": {},
   "outputs": [],
   "source": [
    "data.plot.hist(histtype='step', bins=20, density=True, figsize=(6,4))\n",
    "data.plot.density() # set scale with bw_method = ...\n",
    "pp.xlabel(r'$\\mathrm{log}_{10} (\\$ / \\mathrm{day})$');"
   ]
  },
  {
   "cell_type": "code",
   "execution_count": null,
   "id": "3e74dfc8-71d0-4c7a-a306-9c6b59f001f7",
   "metadata": {},
   "outputs": [],
   "source": [
    "incomes.loc['China', 1965].log10_daily.plot(kind='hist', histtype='step', bins=20, figsize=(6,4), label='China');\n",
    "incomes.loc['USA', 1965].log10_daily.plot(kind='hist', histtype='step', bins=20, label='USA')\n",
    "pp.axis(xmin=-1.5, xmax=3)\n",
    "pp.xlabel(r'$\\mathrm{log}_{10} (\\$ / \\mathrm{day})$'); pp.legend();"
   ]
  },
  {
   "cell_type": "code",
   "execution_count": null,
   "id": "12689728-4346-4718-ac7e-a4f61af9c268",
   "metadata": {},
   "outputs": [],
   "source": [
    "incomes.loc['China', 2015].log10_daily.plot(kind='hist', histtype='step', bins=20, figsize=(6,4), label='China');\n",
    "incomes.loc['USA', 2015].log10_daily.plot(kind='hist', histtype='step', bins=20, label='USA')\n",
    "pp.axis(xmin=-1.5, xmax=3)\n",
    "pp.xlabel(r'$\\mathrm{log}_{10} (\\$ / \\mathrm{day})$'); pp.legend();"
   ]
  },
  {
   "cell_type": "code",
   "execution_count": 12,
   "id": "6130d7e2-e215-40f3-b683-26d800b1175b",
   "metadata": {},
   "outputs": [],
   "source": [
    "gm = pd.read_csv('gapminder.csv')"
   ]
  },
  {
   "cell_type": "code",
   "execution_count": 13,
   "id": "6b041980-57c9-4116-a6ba-28e00ac9002b",
   "metadata": {},
   "outputs": [],
   "source": [
    "data = incomes.loc[\"China\", 2015].log10_daily"
   ]
  },
  {
   "cell_type": "code",
   "execution_count": null,
   "id": "6a3e54a2-34cc-4840-8f57-351eb9204bb5",
   "metadata": {},
   "outputs": [],
   "source": [
    "gm.query('country == \"China\" and year == 2015').population"
   ]
  },
  {
   "cell_type": "code",
   "execution_count": 15,
   "id": "f76a5fc3-d63a-4fe9-8665-6759afa8519a",
   "metadata": {},
   "outputs": [],
   "source": [
    "weights = gm.query('country == \"China\" and year == 2015').population.iloc[0] * np.ones_like(data) / len(data)"
   ]
  },
  {
   "cell_type": "code",
   "execution_count": null,
   "id": "ea96fa85-cab6-4bcc-9edc-6adc120cf1b0",
   "metadata": {},
   "outputs": [],
   "source": [
    "weights[0]"
   ]
  },
  {
   "cell_type": "code",
   "execution_count": null,
   "id": "3cf5bcd1-7176-43d7-842f-e8a91121d081",
   "metadata": {},
   "outputs": [],
   "source": [
    "data.plot(kind='hist', histtype='step', bins=20, figsize=(6,4), weights=weights)\n",
    "pp.xlabel(r'$\\mathrm{log}_{10} (\\$ / \\mathrm{day})$'); pp.legend();"
   ]
  },
  {
   "cell_type": "code",
   "execution_count": null,
   "id": "45b3b653-236a-4f82-9737-f457ee496122",
   "metadata": {},
   "outputs": [],
   "source": [
    "for country in ['China', 'USA']:\n",
    "    data = incomes.loc[country, 2015].log10_daily\n",
    "    \n",
    "    population = gm.query('country == @country and year == 2015').population.iloc[0]\n",
    "    weights = population * np.ones_like(data) / len(data)\n",
    "    \n",
    "    data.plot(kind='hist', histtype='step', bins=20, figsize=(6,4), weights=weights, label=country);\n",
    "\n",
    "pp.xlabel(r'$\\mathrm{log}_{10} (\\$ / \\mathrm{day})$'); pp.legend();"
   ]
  },
  {
   "cell_type": "code",
   "execution_count": 19,
   "id": "3214a39f-cdab-4abc-9905-0a2a89d5bcc0",
   "metadata": {},
   "outputs": [],
   "source": [
    "import seaborn\n",
    "\n",
    "# silence pandas warnings about methods that will change in the future\n",
    "import warnings\n",
    "warnings.simplefilter(action='ignore', category=FutureWarning)"
   ]
  },
  {
   "cell_type": "code",
   "execution_count": 20,
   "id": "f54653ac-52c9-44e1-9b31-0ede80161839",
   "metadata": {},
   "outputs": [],
   "source": [
    "data_2015 = incomes.loc[pd.IndexSlice[:,2015], :].reset_index()"
   ]
  },
  {
   "cell_type": "code",
   "execution_count": null,
   "id": "c8cd870a-c7e1-439c-b4ec-16b5ffd8b58c",
   "metadata": {},
   "outputs": [],
   "source": [
    "seaborn.set_style(style='ticks') # could be white, dark, whitegrid, darkgrid, ticks  \n",
    "pp.figure(figsize=(6,4))\n",
    "seaborn.boxplot(data=data_2015, x='country', y='log10_daily');"
   ]
  },
  {
   "cell_type": "code",
   "execution_count": null,
   "id": "de997029-50a2-46af-ab54-9fdadea4bc88",
   "metadata": {},
   "outputs": [],
   "source": [
    "seaborn.set_style(style='dark')\n",
    "pp.figure(figsize=(6,4))\n",
    "seaborn.histplot(data=data_2015, x='log10_daily', hue='country', stat='density', kde=True);"
   ]
  },
  {
   "cell_type": "code",
   "execution_count": null,
   "id": "b3d375e7",
   "metadata": {},
   "outputs": [],
   "source": []
  }
 ],
 "metadata": {
  "kernelspec": {
   "display_name": "Python 3 (ipykernel)",
   "language": "python",
   "name": "python3"
  },
  "language_info": {
   "codemirror_mode": {
    "name": "ipython",
    "version": 3
   },
   "file_extension": ".py",
   "mimetype": "text/x-python",
   "name": "python",
   "nbconvert_exporter": "python",
   "pygments_lexer": "ipython3",
   "version": "3.12.2"
  }
 },
 "nbformat": 4,
 "nbformat_minor": 5
}
