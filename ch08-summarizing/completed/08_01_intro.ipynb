{
 "cells": [
  {
   "cell_type": "markdown",
   "metadata": {},
   "source": [
    "# 08_01: Exploring data"
   ]
  },
  {
   "cell_type": "code",
   "execution_count": 1,
   "metadata": {},
   "outputs": [],
   "source": [
    "import math\n",
    "import collections\n",
    "import dataclasses\n",
    "import datetime\n",
    "\n",
    "import numpy as np\n",
    "import pandas as pd\n",
    "import matplotlib.pyplot as pp"
   ]
  },
  {
   "cell_type": "code",
   "execution_count": 2,
   "metadata": {},
   "outputs": [],
   "source": [
    "gm = pd.read_csv('gapminder.csv')"
   ]
  },
  {
   "cell_type": "code",
   "execution_count": 3,
   "metadata": {},
   "outputs": [
    {
     "name": "stdout",
     "output_type": "stream",
     "text": [
      "<class 'pandas.core.frame.DataFrame'>\n",
      "RangeIndex: 41822 entries, 0 to 41821\n",
      "Data columns (total 8 columns):\n",
      " #   Column            Non-Null Count  Dtype  \n",
      "---  ------            --------------  -----  \n",
      " 0   country           41822 non-null  object \n",
      " 1   year              41822 non-null  int64  \n",
      " 2   region            41822 non-null  object \n",
      " 3   population        41822 non-null  float64\n",
      " 4   life_expectancy   40629 non-null  float64\n",
      " 5   age5_surviving    40490 non-null  float64\n",
      " 6   babies_per_woman  41822 non-null  float64\n",
      " 7   gdp_per_capita    41822 non-null  float64\n",
      "dtypes: float64(5), int64(1), object(2)\n",
      "memory usage: 2.6+ MB\n"
     ]
    }
   ],
   "source": [
    "gm.info()"
   ]
  },
  {
   "cell_type": "code",
   "execution_count": 4,
   "metadata": {},
   "outputs": [
    {
     "data": {
      "text/html": [
       "<div>\n",
       "<style scoped>\n",
       "    .dataframe tbody tr th:only-of-type {\n",
       "        vertical-align: middle;\n",
       "    }\n",
       "\n",
       "    .dataframe tbody tr th {\n",
       "        vertical-align: top;\n",
       "    }\n",
       "\n",
       "    .dataframe thead th {\n",
       "        text-align: right;\n",
       "    }\n",
       "</style>\n",
       "<table border=\"1\" class=\"dataframe\">\n",
       "  <thead>\n",
       "    <tr style=\"text-align: right;\">\n",
       "      <th></th>\n",
       "      <th>year</th>\n",
       "      <th>population</th>\n",
       "      <th>life_expectancy</th>\n",
       "      <th>age5_surviving</th>\n",
       "      <th>babies_per_woman</th>\n",
       "      <th>gdp_per_capita</th>\n",
       "    </tr>\n",
       "  </thead>\n",
       "  <tbody>\n",
       "    <tr>\n",
       "      <th>count</th>\n",
       "      <td>41822.000000</td>\n",
       "      <td>4.182200e+04</td>\n",
       "      <td>40629.000000</td>\n",
       "      <td>40490.000000</td>\n",
       "      <td>41822.000000</td>\n",
       "      <td>41822.000000</td>\n",
       "    </tr>\n",
       "    <tr>\n",
       "      <th>mean</th>\n",
       "      <td>1915.563818</td>\n",
       "      <td>1.414338e+07</td>\n",
       "      <td>45.147504</td>\n",
       "      <td>72.596526</td>\n",
       "      <td>5.242053</td>\n",
       "      <td>6124.325212</td>\n",
       "    </tr>\n",
       "    <tr>\n",
       "      <th>std</th>\n",
       "      <td>62.938582</td>\n",
       "      <td>6.871230e+07</td>\n",
       "      <td>16.831495</td>\n",
       "      <td>16.604898</td>\n",
       "      <td>1.728142</td>\n",
       "      <td>12328.127667</td>\n",
       "    </tr>\n",
       "    <tr>\n",
       "      <th>min</th>\n",
       "      <td>1800.000000</td>\n",
       "      <td>1.830000e+03</td>\n",
       "      <td>0.000000</td>\n",
       "      <td>24.400000</td>\n",
       "      <td>0.710000</td>\n",
       "      <td>386.000000</td>\n",
       "    </tr>\n",
       "    <tr>\n",
       "      <th>25%</th>\n",
       "      <td>1862.000000</td>\n",
       "      <td>3.310000e+05</td>\n",
       "      <td>32.000000</td>\n",
       "      <td>58.400000</td>\n",
       "      <td>4.220000</td>\n",
       "      <td>1220.000000</td>\n",
       "    </tr>\n",
       "    <tr>\n",
       "      <th>50%</th>\n",
       "      <td>1916.000000</td>\n",
       "      <td>1.920000e+06</td>\n",
       "      <td>37.300000</td>\n",
       "      <td>66.700000</td>\n",
       "      <td>5.810000</td>\n",
       "      <td>2100.000000</td>\n",
       "    </tr>\n",
       "    <tr>\n",
       "      <th>75%</th>\n",
       "      <td>1970.000000</td>\n",
       "      <td>6.617500e+06</td>\n",
       "      <td>60.100000</td>\n",
       "      <td>89.600000</td>\n",
       "      <td>6.550000</td>\n",
       "      <td>4970.000000</td>\n",
       "    </tr>\n",
       "    <tr>\n",
       "      <th>max</th>\n",
       "      <td>2023.000000</td>\n",
       "      <td>1.440000e+09</td>\n",
       "      <td>85.400000</td>\n",
       "      <td>99.857000</td>\n",
       "      <td>8.860000</td>\n",
       "      <td>218000.000000</td>\n",
       "    </tr>\n",
       "  </tbody>\n",
       "</table>\n",
       "</div>"
      ],
      "text/plain": [
       "               year    population  life_expectancy  age5_surviving  \\\n",
       "count  41822.000000  4.182200e+04     40629.000000    40490.000000   \n",
       "mean    1915.563818  1.414338e+07        45.147504       72.596526   \n",
       "std       62.938582  6.871230e+07        16.831495       16.604898   \n",
       "min     1800.000000  1.830000e+03         0.000000       24.400000   \n",
       "25%     1862.000000  3.310000e+05        32.000000       58.400000   \n",
       "50%     1916.000000  1.920000e+06        37.300000       66.700000   \n",
       "75%     1970.000000  6.617500e+06        60.100000       89.600000   \n",
       "max     2023.000000  1.440000e+09        85.400000       99.857000   \n",
       "\n",
       "       babies_per_woman  gdp_per_capita  \n",
       "count      41822.000000    41822.000000  \n",
       "mean           5.242053     6124.325212  \n",
       "std            1.728142    12328.127667  \n",
       "min            0.710000      386.000000  \n",
       "25%            4.220000     1220.000000  \n",
       "50%            5.810000     2100.000000  \n",
       "75%            6.550000     4970.000000  \n",
       "max            8.860000   218000.000000  "
      ]
     },
     "execution_count": 4,
     "metadata": {},
     "output_type": "execute_result"
    }
   ],
   "source": [
    "gm.describe()"
   ]
  },
  {
   "cell_type": "code",
   "execution_count": 5,
   "metadata": {},
   "outputs": [],
   "source": [
    "incomes = pd.read_csv('incomes.csv')"
   ]
  },
  {
   "cell_type": "code",
   "execution_count": 6,
   "metadata": {},
   "outputs": [
    {
     "name": "stdout",
     "output_type": "stream",
     "text": [
      "<class 'pandas.core.frame.DataFrame'>\n",
      "RangeIndex: 4000 entries, 0 to 3999\n",
      "Data columns (total 3 columns):\n",
      " #   Column   Non-Null Count  Dtype  \n",
      "---  ------   --------------  -----  \n",
      " 0   country  4000 non-null   object \n",
      " 1   year     4000 non-null   int64  \n",
      " 2   yearly   4000 non-null   float64\n",
      "dtypes: float64(1), int64(1), object(1)\n",
      "memory usage: 93.9+ KB\n"
     ]
    }
   ],
   "source": [
    "incomes.info()"
   ]
  },
  {
   "cell_type": "code",
   "execution_count": 7,
   "metadata": {},
   "outputs": [
    {
     "data": {
      "text/plain": [
       "array(['China', 'USA'], dtype=object)"
      ]
     },
     "execution_count": 7,
     "metadata": {},
     "output_type": "execute_result"
    }
   ],
   "source": [
    "incomes.country.unique()"
   ]
  },
  {
   "cell_type": "code",
   "execution_count": 8,
   "metadata": {},
   "outputs": [
    {
     "data": {
      "text/plain": [
       "array([1965, 2015])"
      ]
     },
     "execution_count": 8,
     "metadata": {},
     "output_type": "execute_result"
    }
   ],
   "source": [
    "incomes.year.unique()"
   ]
  },
  {
   "cell_type": "code",
   "execution_count": 9,
   "metadata": {},
   "outputs": [
    {
     "data": {
      "text/html": [
       "<div>\n",
       "<style scoped>\n",
       "    .dataframe tbody tr th:only-of-type {\n",
       "        vertical-align: middle;\n",
       "    }\n",
       "\n",
       "    .dataframe tbody tr th {\n",
       "        vertical-align: top;\n",
       "    }\n",
       "\n",
       "    .dataframe thead th {\n",
       "        text-align: right;\n",
       "    }\n",
       "</style>\n",
       "<table border=\"1\" class=\"dataframe\">\n",
       "  <thead>\n",
       "    <tr style=\"text-align: right;\">\n",
       "      <th></th>\n",
       "      <th>year</th>\n",
       "      <th>yearly</th>\n",
       "    </tr>\n",
       "  </thead>\n",
       "  <tbody>\n",
       "    <tr>\n",
       "      <th>count</th>\n",
       "      <td>4000.000000</td>\n",
       "      <td>4000.000000</td>\n",
       "    </tr>\n",
       "    <tr>\n",
       "      <th>mean</th>\n",
       "      <td>1990.000000</td>\n",
       "      <td>9395.478736</td>\n",
       "    </tr>\n",
       "    <tr>\n",
       "      <th>std</th>\n",
       "      <td>25.003126</td>\n",
       "      <td>13605.455635</td>\n",
       "    </tr>\n",
       "    <tr>\n",
       "      <th>min</th>\n",
       "      <td>1965.000000</td>\n",
       "      <td>15.318452</td>\n",
       "    </tr>\n",
       "    <tr>\n",
       "      <th>25%</th>\n",
       "      <td>1965.000000</td>\n",
       "      <td>707.476317</td>\n",
       "    </tr>\n",
       "    <tr>\n",
       "      <th>50%</th>\n",
       "      <td>1990.000000</td>\n",
       "      <td>5112.191075</td>\n",
       "    </tr>\n",
       "    <tr>\n",
       "      <th>75%</th>\n",
       "      <td>2015.000000</td>\n",
       "      <td>12513.658506</td>\n",
       "    </tr>\n",
       "    <tr>\n",
       "      <th>max</th>\n",
       "      <td>2015.000000</td>\n",
       "      <td>256054.350614</td>\n",
       "    </tr>\n",
       "  </tbody>\n",
       "</table>\n",
       "</div>"
      ],
      "text/plain": [
       "              year         yearly\n",
       "count  4000.000000    4000.000000\n",
       "mean   1990.000000    9395.478736\n",
       "std      25.003126   13605.455635\n",
       "min    1965.000000      15.318452\n",
       "25%    1965.000000     707.476317\n",
       "50%    1990.000000    5112.191075\n",
       "75%    2015.000000   12513.658506\n",
       "max    2015.000000  256054.350614"
      ]
     },
     "execution_count": 9,
     "metadata": {},
     "output_type": "execute_result"
    }
   ],
   "source": [
    "incomes.describe()"
   ]
  },
  {
   "cell_type": "code",
   "execution_count": null,
   "metadata": {},
   "outputs": [],
   "source": []
  }
 ],
 "metadata": {
  "kernelspec": {
   "display_name": "Python 3 (ipykernel)",
   "language": "python",
   "name": "python3"
  },
  "language_info": {
   "codemirror_mode": {
    "name": "ipython",
    "version": 3
   },
   "file_extension": ".py",
   "mimetype": "text/x-python",
   "name": "python",
   "nbconvert_exporter": "python",
   "pygments_lexer": "ipython3",
   "version": "3.12.2"
  },
  "toc": {
   "base_numbering": 1,
   "nav_menu": {},
   "number_sections": true,
   "sideBar": true,
   "skip_h1_title": false,
   "title_cell": "Table of Contents",
   "title_sidebar": "Contents",
   "toc_cell": false,
   "toc_position": {},
   "toc_section_display": true,
   "toc_window_display": false
  }
 },
 "nbformat": 4,
 "nbformat_minor": 4
}
