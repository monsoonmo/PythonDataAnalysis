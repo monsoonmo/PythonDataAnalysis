{
 "cells": [
  {
   "cell_type": "markdown",
   "id": "7a2bc430-5129-469e-b2de-d2eb1148fc81",
   "metadata": {},
   "source": [
    "# 08_05: Summarizing and visualizing categorical data"
   ]
  },
  {
   "cell_type": "code",
   "execution_count": 1,
   "id": "39a63126-be8b-47d6-9581-e31688f4a21f",
   "metadata": {},
   "outputs": [],
   "source": [
    "import math\n",
    "import collections\n",
    "import dataclasses\n",
    "import datetime\n",
    "\n",
    "import numpy as np\n",
    "import pandas as pd\n",
    "import matplotlib.pyplot as pp"
   ]
  },
  {
   "cell_type": "code",
   "execution_count": 2,
   "id": "552e0bea-d0c2-47c0-b546-78a37a7fb31b",
   "metadata": {},
   "outputs": [],
   "source": [
    "smoking = pd.read_csv('whickham.csv')\n",
    "\n",
    "# encoding the variables explicitly as categories will save memory and CPU\n",
    "smoking.smoker = smoking.smoker.astype('category')\n",
    "smoking.outcome = smoking.outcome.astype('category')"
   ]
  },
  {
   "cell_type": "code",
   "execution_count": 3,
   "id": "79eb9253-d44f-43bb-8a0e-9be4b2e90ed8",
   "metadata": {},
   "outputs": [
    {
     "data": {
      "text/html": [
       "<div>\n",
       "<style scoped>\n",
       "    .dataframe tbody tr th:only-of-type {\n",
       "        vertical-align: middle;\n",
       "    }\n",
       "\n",
       "    .dataframe tbody tr th {\n",
       "        vertical-align: top;\n",
       "    }\n",
       "\n",
       "    .dataframe thead th {\n",
       "        text-align: right;\n",
       "    }\n",
       "</style>\n",
       "<table border=\"1\" class=\"dataframe\">\n",
       "  <thead>\n",
       "    <tr style=\"text-align: right;\">\n",
       "      <th></th>\n",
       "      <th>age</th>\n",
       "      <th>smoker</th>\n",
       "      <th>outcome</th>\n",
       "    </tr>\n",
       "  </thead>\n",
       "  <tbody>\n",
       "    <tr>\n",
       "      <th>0</th>\n",
       "      <td>23</td>\n",
       "      <td>Yes</td>\n",
       "      <td>Alive</td>\n",
       "    </tr>\n",
       "    <tr>\n",
       "      <th>1</th>\n",
       "      <td>18</td>\n",
       "      <td>Yes</td>\n",
       "      <td>Alive</td>\n",
       "    </tr>\n",
       "    <tr>\n",
       "      <th>2</th>\n",
       "      <td>71</td>\n",
       "      <td>Yes</td>\n",
       "      <td>Dead</td>\n",
       "    </tr>\n",
       "    <tr>\n",
       "      <th>3</th>\n",
       "      <td>67</td>\n",
       "      <td>No</td>\n",
       "      <td>Alive</td>\n",
       "    </tr>\n",
       "    <tr>\n",
       "      <th>4</th>\n",
       "      <td>64</td>\n",
       "      <td>No</td>\n",
       "      <td>Alive</td>\n",
       "    </tr>\n",
       "  </tbody>\n",
       "</table>\n",
       "</div>"
      ],
      "text/plain": [
       "   age smoker outcome\n",
       "0   23    Yes   Alive\n",
       "1   18    Yes   Alive\n",
       "2   71    Yes    Dead\n",
       "3   67     No   Alive\n",
       "4   64     No   Alive"
      ]
     },
     "execution_count": 3,
     "metadata": {},
     "output_type": "execute_result"
    }
   ],
   "source": [
    "smoking.head()"
   ]
  },
  {
   "cell_type": "code",
   "execution_count": 4,
   "id": "e660b263-123b-47ec-8682-7c5d7e09fb57",
   "metadata": {},
   "outputs": [
    {
     "data": {
      "text/plain": [
       "smoker\n",
       "No     732\n",
       "Yes    582\n",
       "Name: count, dtype: int64"
      ]
     },
     "execution_count": 4,
     "metadata": {},
     "output_type": "execute_result"
    }
   ],
   "source": [
    "smoking.smoker.value_counts()"
   ]
  },
  {
   "cell_type": "code",
   "execution_count": 5,
   "id": "4b032649-55e3-4024-b598-0a8e0f589449",
   "metadata": {},
   "outputs": [
    {
     "data": {
      "text/plain": [
       "outcome\n",
       "Alive    945\n",
       "Dead     369\n",
       "Name: count, dtype: int64"
      ]
     },
     "execution_count": 5,
     "metadata": {},
     "output_type": "execute_result"
    }
   ],
   "source": [
    "smoking.outcome.value_counts()"
   ]
  },
  {
   "cell_type": "code",
   "execution_count": 6,
   "id": "f275c799-3e02-4563-98af-82659222d155",
   "metadata": {},
   "outputs": [
    {
     "data": {
      "text/plain": [
       "outcome\n",
       "Alive    0.719178\n",
       "Dead     0.280822\n",
       "Name: proportion, dtype: float64"
      ]
     },
     "execution_count": 6,
     "metadata": {},
     "output_type": "execute_result"
    }
   ],
   "source": [
    "smoking.outcome.value_counts(normalize=True)"
   ]
  },
  {
   "cell_type": "code",
   "execution_count": 7,
   "id": "f1284c8e-7dfd-42a6-8c20-3052aba12609",
   "metadata": {},
   "outputs": [
    {
     "data": {
      "text/plain": [
       "smoker  outcome\n",
       "No      Alive      0.685792\n",
       "        Dead       0.314208\n",
       "Yes     Alive      0.761168\n",
       "        Dead       0.238832\n",
       "Name: proportion, dtype: float64"
      ]
     },
     "execution_count": 7,
     "metadata": {},
     "output_type": "execute_result"
    }
   ],
   "source": [
    "# specifying observer=True includes only categories that are represented in the data\n",
    "# it makes no difference here but it suppressed a pandas warning\n",
    "\n",
    "smoking.groupby(\"smoker\", observed=True).outcome.value_counts(normalize=True)"
   ]
  },
  {
   "cell_type": "code",
   "execution_count": 8,
   "id": "e4858e0f-9e50-4cb2-8859-f31dfe21bd1e",
   "metadata": {},
   "outputs": [
    {
     "data": {
      "text/html": [
       "<div>\n",
       "<style scoped>\n",
       "    .dataframe tbody tr th:only-of-type {\n",
       "        vertical-align: middle;\n",
       "    }\n",
       "\n",
       "    .dataframe tbody tr th {\n",
       "        vertical-align: top;\n",
       "    }\n",
       "\n",
       "    .dataframe thead th {\n",
       "        text-align: right;\n",
       "    }\n",
       "</style>\n",
       "<table border=\"1\" class=\"dataframe\">\n",
       "  <thead>\n",
       "    <tr style=\"text-align: right;\">\n",
       "      <th>outcome</th>\n",
       "      <th>Alive</th>\n",
       "      <th>Dead</th>\n",
       "    </tr>\n",
       "    <tr>\n",
       "      <th>smoker</th>\n",
       "      <th></th>\n",
       "      <th></th>\n",
       "    </tr>\n",
       "  </thead>\n",
       "  <tbody>\n",
       "    <tr>\n",
       "      <th>No</th>\n",
       "      <td>0.685792</td>\n",
       "      <td>0.314208</td>\n",
       "    </tr>\n",
       "    <tr>\n",
       "      <th>Yes</th>\n",
       "      <td>0.761168</td>\n",
       "      <td>0.238832</td>\n",
       "    </tr>\n",
       "  </tbody>\n",
       "</table>\n",
       "</div>"
      ],
      "text/plain": [
       "outcome     Alive      Dead\n",
       "smoker                     \n",
       "No       0.685792  0.314208\n",
       "Yes      0.761168  0.238832"
      ]
     },
     "execution_count": 8,
     "metadata": {},
     "output_type": "execute_result"
    }
   ],
   "source": [
    "smoking.groupby(\"smoker\", observed=True).outcome.value_counts(normalize=True).unstack()"
   ]
  },
  {
   "cell_type": "code",
   "execution_count": 9,
   "id": "5c327407-d18d-4646-b13f-9d8ae453e5c4",
   "metadata": {},
   "outputs": [
    {
     "data": {
      "text/plain": [
       "0       (15, 40]\n",
       "1       (15, 40]\n",
       "2       (65, 90]\n",
       "3       (65, 90]\n",
       "4       (40, 65]\n",
       "          ...   \n",
       "1309    (15, 40]\n",
       "1310    (15, 40]\n",
       "1311    (15, 40]\n",
       "1312    (40, 65]\n",
       "1313    (40, 65]\n",
       "Name: agegroup, Length: 1314, dtype: category\n",
       "Categories (3, interval[int64, right]): [(15, 40] < (40, 65] < (65, 90]]"
      ]
     },
     "execution_count": 9,
     "metadata": {},
     "output_type": "execute_result"
    }
   ],
   "source": [
    "smoking['agegroup'] = pd.cut(smoking.age, bins=[15,40,65,90])\n",
    "smoking['agegroup']"
   ]
  },
  {
   "cell_type": "code",
   "execution_count": 10,
   "id": "d0218117-18d4-48e3-9480-ed516d80c956",
   "metadata": {},
   "outputs": [
    {
     "data": {
      "text/plain": [
       "agegroup\n",
       "(40, 65]    545\n",
       "(15, 40]    540\n",
       "(65, 90]    229\n",
       "Name: count, dtype: int64"
      ]
     },
     "execution_count": 10,
     "metadata": {},
     "output_type": "execute_result"
    }
   ],
   "source": [
    "smoking.agegroup.value_counts()"
   ]
  },
  {
   "cell_type": "code",
   "execution_count": 11,
   "id": "9d346b14-76ed-45d8-93f6-7b0ab6c82ea7",
   "metadata": {},
   "outputs": [
    {
     "data": {
      "text/html": [
       "<div>\n",
       "<style scoped>\n",
       "    .dataframe tbody tr th:only-of-type {\n",
       "        vertical-align: middle;\n",
       "    }\n",
       "\n",
       "    .dataframe tbody tr th {\n",
       "        vertical-align: top;\n",
       "    }\n",
       "\n",
       "    .dataframe thead th {\n",
       "        text-align: right;\n",
       "    }\n",
       "</style>\n",
       "<table border=\"1\" class=\"dataframe\">\n",
       "  <thead>\n",
       "    <tr style=\"text-align: right;\">\n",
       "      <th></th>\n",
       "      <th>outcome</th>\n",
       "      <th>Alive</th>\n",
       "      <th>Dead</th>\n",
       "    </tr>\n",
       "    <tr>\n",
       "      <th>agegroup</th>\n",
       "      <th>smoker</th>\n",
       "      <th></th>\n",
       "      <th></th>\n",
       "    </tr>\n",
       "  </thead>\n",
       "  <tbody>\n",
       "    <tr>\n",
       "      <th rowspan=\"2\" valign=\"top\">(15, 40]</th>\n",
       "      <th>No</th>\n",
       "      <td>0.969900</td>\n",
       "      <td>0.030100</td>\n",
       "    </tr>\n",
       "    <tr>\n",
       "      <th>Yes</th>\n",
       "      <td>0.958506</td>\n",
       "      <td>0.041494</td>\n",
       "    </tr>\n",
       "    <tr>\n",
       "      <th rowspan=\"2\" valign=\"top\">(40, 65]</th>\n",
       "      <th>No</th>\n",
       "      <td>0.739130</td>\n",
       "      <td>0.260870</td>\n",
       "    </tr>\n",
       "    <tr>\n",
       "      <th>Yes</th>\n",
       "      <td>0.705479</td>\n",
       "      <td>0.294521</td>\n",
       "    </tr>\n",
       "    <tr>\n",
       "      <th rowspan=\"2\" valign=\"top\">(65, 90]</th>\n",
       "      <th>No</th>\n",
       "      <td>0.138889</td>\n",
       "      <td>0.861111</td>\n",
       "    </tr>\n",
       "    <tr>\n",
       "      <th>Yes</th>\n",
       "      <td>0.122449</td>\n",
       "      <td>0.877551</td>\n",
       "    </tr>\n",
       "  </tbody>\n",
       "</table>\n",
       "</div>"
      ],
      "text/plain": [
       "outcome             Alive      Dead\n",
       "agegroup smoker                    \n",
       "(15, 40] No      0.969900  0.030100\n",
       "         Yes     0.958506  0.041494\n",
       "(40, 65] No      0.739130  0.260870\n",
       "         Yes     0.705479  0.294521\n",
       "(65, 90] No      0.138889  0.861111\n",
       "         Yes     0.122449  0.877551"
      ]
     },
     "execution_count": 11,
     "metadata": {},
     "output_type": "execute_result"
    }
   ],
   "source": [
    "smoking.groupby(['agegroup', 'smoker'], observed=True).outcome.value_counts(normalize=True).unstack()"
   ]
  },
  {
   "cell_type": "code",
   "execution_count": 12,
   "id": "6247f23c-056e-4e07-bbb6-e03a7c8f3374",
   "metadata": {},
   "outputs": [
    {
     "data": {
      "image/png": "[encoded data removed]",
      "text/plain": [
       "<Figure size 600x200 with 2 Axes>"
      ]
     },
     "metadata": {},
     "output_type": "display_data"
    }
   ],
   "source": [
    "pp.figure(figsize=(6,2))\n",
    "\n",
    "pp.subplot(1,2,1)\n",
    "smoking.outcome.value_counts().plot(kind='bar', color=['C0','C1']) \n",
    "pp.title('outcome')\n",
    "\n",
    "pp.subplot(1,2,2)\n",
    "smoking.smoker.value_counts().plot(kind='bar', color=['C2','C3'])\n",
    "pp.title('smoker');"
   ]
  },
  {
   "cell_type": "code",
   "execution_count": 13,
   "id": "0675184c-83e2-487c-85a6-cfe0a11a0505",
   "metadata": {},
   "outputs": [
    {
     "data": {
      "text/plain": [
       "<Axes: ylabel='outcome'>"
      ]
     },
     "execution_count": 13,
     "metadata": {},
     "output_type": "execute_result"
    },
    {
     "data": {
      "image/png": "[encoded data removed]",
      "text/plain": [
       "<Figure size 300x200 with 1 Axes>"
      ]
     },
     "metadata": {},
     "output_type": "display_data"
    }
   ],
   "source": [
    "smoking.outcome.value_counts().plot(kind='barh', color=['C0','C1'], figsize=(3,2)) "
   ]
  },
  {
   "cell_type": "code",
   "execution_count": 14,
   "id": "7d742f10-2e06-401e-9af2-c8220d4d083d",
   "metadata": {},
   "outputs": [
    {
     "data": {
      "text/plain": [
       "<Axes: ylabel='count'>"
      ]
     },
     "execution_count": 14,
     "metadata": {},
     "output_type": "execute_result"
    },
    {
     "data": {
      "image/png": "[encoded data removed]",
      "text/plain": [
       "<Figure size 300x200 with 1 Axes>"
      ]
     },
     "metadata": {},
     "output_type": "display_data"
    }
   ],
   "source": [
    "smoking.outcome.value_counts().plot(kind='pie', color=['C0','C1'], figsize=(3,2)) "
   ]
  },
  {
   "cell_type": "code",
   "execution_count": 15,
   "id": "b8a4dd0f-9311-4a70-8f63-5991272d1cfd",
   "metadata": {},
   "outputs": [
    {
     "data": {
      "text/html": [
       "<div>\n",
       "<style scoped>\n",
       "    .dataframe tbody tr th:only-of-type {\n",
       "        vertical-align: middle;\n",
       "    }\n",
       "\n",
       "    .dataframe tbody tr th {\n",
       "        vertical-align: top;\n",
       "    }\n",
       "\n",
       "    .dataframe thead th {\n",
       "        text-align: right;\n",
       "    }\n",
       "</style>\n",
       "<table border=\"1\" class=\"dataframe\">\n",
       "  <thead>\n",
       "    <tr style=\"text-align: right;\">\n",
       "      <th>outcome</th>\n",
       "      <th>Alive</th>\n",
       "      <th>Dead</th>\n",
       "    </tr>\n",
       "    <tr>\n",
       "      <th>smoker</th>\n",
       "      <th></th>\n",
       "      <th></th>\n",
       "    </tr>\n",
       "  </thead>\n",
       "  <tbody>\n",
       "    <tr>\n",
       "      <th>No</th>\n",
       "      <td>0.685792</td>\n",
       "      <td>0.314208</td>\n",
       "    </tr>\n",
       "    <tr>\n",
       "      <th>Yes</th>\n",
       "      <td>0.761168</td>\n",
       "      <td>0.238832</td>\n",
       "    </tr>\n",
       "  </tbody>\n",
       "</table>\n",
       "</div>"
      ],
      "text/plain": [
       "outcome     Alive      Dead\n",
       "smoker                     \n",
       "No       0.685792  0.314208\n",
       "Yes      0.761168  0.238832"
      ]
     },
     "execution_count": 15,
     "metadata": {},
     "output_type": "execute_result"
    }
   ],
   "source": [
    "grouped = smoking.groupby(\"smoker\", observed=True).outcome.value_counts(normalize=True).unstack()\n",
    "grouped"
   ]
  },
  {
   "cell_type": "code",
   "execution_count": 16,
   "id": "8cf05d8b-7a6e-409b-a49f-08f28eefa873",
   "metadata": {},
   "outputs": [
    {
     "data": {
      "image/png": "[encoded data removed]",
      "text/plain": [
       "<Figure size 400x300 with 1 Axes>"
      ]
     },
     "metadata": {},
     "output_type": "display_data"
    }
   ],
   "source": [
    "axes = grouped.plot(kind='bar', figsize=(4,3))\n",
    "axes.legend(loc='upper right', bbox_to_anchor=(1.1, 1)); # fix legend location"
   ]
  },
  {
   "cell_type": "code",
   "execution_count": 17,
   "id": "57d7bb5b-709b-4ecc-9ac9-61253ec35874",
   "metadata": {},
   "outputs": [
    {
     "data": {
      "image/png": "[encoded data removed]",
      "text/plain": [
       "<Figure size 400x300 with 1 Axes>"
      ]
     },
     "metadata": {},
     "output_type": "display_data"
    }
   ],
   "source": [
    "axes = grouped.plot(kind='bar', figsize=(4,3), stacked=True)\n",
    "axes.legend(loc='upper right', bbox_to_anchor=(1.25, 1)); # fix legend location"
   ]
  },
  {
   "cell_type": "code",
   "execution_count": 18,
   "id": "3481d78d-c32d-44ac-9229-1090f4efeaee",
   "metadata": {},
   "outputs": [
    {
     "data": {
      "text/html": [
       "<div>\n",
       "<style scoped>\n",
       "    .dataframe tbody tr th:only-of-type {\n",
       "        vertical-align: middle;\n",
       "    }\n",
       "\n",
       "    .dataframe tbody tr th {\n",
       "        vertical-align: top;\n",
       "    }\n",
       "\n",
       "    .dataframe thead th {\n",
       "        text-align: right;\n",
       "    }\n",
       "</style>\n",
       "<table border=\"1\" class=\"dataframe\">\n",
       "  <thead>\n",
       "    <tr style=\"text-align: right;\">\n",
       "      <th></th>\n",
       "      <th>outcome</th>\n",
       "      <th>Alive</th>\n",
       "      <th>Dead</th>\n",
       "    </tr>\n",
       "    <tr>\n",
       "      <th>agegroup</th>\n",
       "      <th>smoker</th>\n",
       "      <th></th>\n",
       "      <th></th>\n",
       "    </tr>\n",
       "  </thead>\n",
       "  <tbody>\n",
       "    <tr>\n",
       "      <th rowspan=\"2\" valign=\"top\">(15, 40]</th>\n",
       "      <th>No</th>\n",
       "      <td>0.969900</td>\n",
       "      <td>0.030100</td>\n",
       "    </tr>\n",
       "    <tr>\n",
       "      <th>Yes</th>\n",
       "      <td>0.958506</td>\n",
       "      <td>0.041494</td>\n",
       "    </tr>\n",
       "    <tr>\n",
       "      <th rowspan=\"2\" valign=\"top\">(40, 65]</th>\n",
       "      <th>No</th>\n",
       "      <td>0.739130</td>\n",
       "      <td>0.260870</td>\n",
       "    </tr>\n",
       "    <tr>\n",
       "      <th>Yes</th>\n",
       "      <td>0.705479</td>\n",
       "      <td>0.294521</td>\n",
       "    </tr>\n",
       "    <tr>\n",
       "      <th rowspan=\"2\" valign=\"top\">(65, 90]</th>\n",
       "      <th>No</th>\n",
       "      <td>0.138889</td>\n",
       "      <td>0.861111</td>\n",
       "    </tr>\n",
       "    <tr>\n",
       "      <th>Yes</th>\n",
       "      <td>0.122449</td>\n",
       "      <td>0.877551</td>\n",
       "    </tr>\n",
       "  </tbody>\n",
       "</table>\n",
       "</div>"
      ],
      "text/plain": [
       "outcome             Alive      Dead\n",
       "agegroup smoker                    \n",
       "(15, 40] No      0.969900  0.030100\n",
       "         Yes     0.958506  0.041494\n",
       "(40, 65] No      0.739130  0.260870\n",
       "         Yes     0.705479  0.294521\n",
       "(65, 90] No      0.138889  0.861111\n",
       "         Yes     0.122449  0.877551"
      ]
     },
     "execution_count": 18,
     "metadata": {},
     "output_type": "execute_result"
    }
   ],
   "source": [
    "regrouped = smoking.groupby(['agegroup', 'smoker'], observed=True).outcome.value_counts(normalize=True).unstack()\n",
    "regrouped"
   ]
  },
  {
   "cell_type": "code",
   "execution_count": 19,
   "id": "cc1d7769-c1d6-4d2c-b0aa-570670cf2675",
   "metadata": {},
   "outputs": [
    {
     "data": {
      "image/png": "[encoded data removed]",
      "text/plain": [
       "<Figure size 600x400 with 1 Axes>"
      ]
     },
     "metadata": {},
     "output_type": "display_data"
    }
   ],
   "source": [
    "regrouped.plot(kind='bar', figsize=(6,4));"
   ]
  },
  {
   "cell_type": "code",
   "execution_count": 20,
   "id": "0e5847e3-902d-41ce-a928-46aa072e97c2",
   "metadata": {},
   "outputs": [
    {
     "data": {
      "text/html": [
       "<div>\n",
       "<style scoped>\n",
       "    .dataframe tbody tr th:only-of-type {\n",
       "        vertical-align: middle;\n",
       "    }\n",
       "\n",
       "    .dataframe tbody tr th {\n",
       "        vertical-align: top;\n",
       "    }\n",
       "\n",
       "    .dataframe thead th {\n",
       "        text-align: right;\n",
       "    }\n",
       "</style>\n",
       "<table border=\"1\" class=\"dataframe\">\n",
       "  <thead>\n",
       "    <tr style=\"text-align: right;\">\n",
       "      <th>smoker</th>\n",
       "      <th>No</th>\n",
       "      <th>Yes</th>\n",
       "    </tr>\n",
       "    <tr>\n",
       "      <th>agegroup</th>\n",
       "      <th></th>\n",
       "      <th></th>\n",
       "    </tr>\n",
       "  </thead>\n",
       "  <tbody>\n",
       "    <tr>\n",
       "      <th>(15, 40]</th>\n",
       "      <td>0.969900</td>\n",
       "      <td>0.958506</td>\n",
       "    </tr>\n",
       "    <tr>\n",
       "      <th>(40, 65]</th>\n",
       "      <td>0.739130</td>\n",
       "      <td>0.705479</td>\n",
       "    </tr>\n",
       "    <tr>\n",
       "      <th>(65, 90]</th>\n",
       "      <td>0.138889</td>\n",
       "      <td>0.122449</td>\n",
       "    </tr>\n",
       "  </tbody>\n",
       "</table>\n",
       "</div>"
      ],
      "text/plain": [
       "smoker          No       Yes\n",
       "agegroup                    \n",
       "(15, 40]  0.969900  0.958506\n",
       "(40, 65]  0.739130  0.705479\n",
       "(65, 90]  0.138889  0.122449"
      ]
     },
     "execution_count": 20,
     "metadata": {},
     "output_type": "execute_result"
    }
   ],
   "source": [
    "regrouped = smoking.groupby(['agegroup', 'smoker'], observed=True) \\\n",
    "                   .outcome.value_counts(normalize=True).loc[:,:,'Alive'].unstack()\n",
    "regrouped"
   ]
  },
  {
   "cell_type": "code",
   "execution_count": 21,
   "id": "b6704d64-e927-4502-af2e-2a6e0aed1da0",
   "metadata": {},
   "outputs": [
    {
     "data": {
      "image/png": "[encoded data removed]",
      "text/plain": [
       "<Figure size 400x300 with 1 Axes>"
      ]
     },
     "metadata": {},
     "output_type": "display_data"
    }
   ],
   "source": [
    "regrouped.plot(kind='bar', color=['C2','C3'], figsize=(4,3));\n",
    "pp.ylabel('fraction alive after 20 years');"
   ]
  },
  {
   "cell_type": "code",
   "execution_count": null,
   "id": "02abcace",
   "metadata": {},
   "outputs": [],
   "source": []
  }
 ],
 "metadata": {
  "kernelspec": {
   "display_name": "Python 3",
   "language": "python",
   "name": "python3"
  },
  "language_info": {
   "codemirror_mode": {
    "name": "ipython",
    "version": 3
   },
   "file_extension": ".py",
   "mimetype": "text/x-python",
   "name": "python",
   "nbconvert_exporter": "python",
   "pygments_lexer": "ipython3",
   "version": "3.12.1"
  }
 },
 "nbformat": 4,
 "nbformat_minor": 5
}
