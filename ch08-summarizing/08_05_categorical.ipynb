{
 "cells": [
  {
   "cell_type": "markdown",
   "id": "7a2bc430-5129-469e-b2de-d2eb1148fc81",
   "metadata": {},
   "source": [
    "# 08_05: Summarizing and visualizing categorical data"
   ]
  },
  {
   "cell_type": "code",
   "execution_count": null,
   "id": "39a63126-be8b-47d6-9581-e31688f4a21f",
   "metadata": {},
   "outputs": [],
   "source": [
    "import math\n",
    "import collections\n",
    "import dataclasses\n",
    "import datetime\n",
    "\n",
    "import numpy as np\n",
    "import pandas as pd\n",
    "import matplotlib.pyplot as pp"
   ]
  },
  {
   "cell_type": "code",
   "execution_count": null,
   "id": "552e0bea-d0c2-47c0-b546-78a37a7fb31b",
   "metadata": {},
   "outputs": [],
   "source": [
    "smoking = pd.read_csv('whickham.csv')\n",
    "\n",
    "# encoding the variables explicitly as categories will save memory and CPU\n",
    "smoking.smoker = smoking.smoker.astype('category')\n",
    "smoking.outcome = smoking.outcome.astype('category')"
   ]
  },
  {
   "cell_type": "code",
   "execution_count": null,
   "id": "79eb9253-d44f-43bb-8a0e-9be4b2e90ed8",
   "metadata": {},
   "outputs": [],
   "source": [
    "smoking.head()"
   ]
  },
  {
   "cell_type": "code",
   "execution_count": null,
   "id": "e660b263-123b-47ec-8682-7c5d7e09fb57",
   "metadata": {},
   "outputs": [],
   "source": [
    "smoking.smoker.value_counts()"
   ]
  },
  {
   "cell_type": "code",
   "execution_count": null,
   "id": "4b032649-55e3-4024-b598-0a8e0f589449",
   "metadata": {},
   "outputs": [],
   "source": [
    "smoking.outcome.value_counts()"
   ]
  },
  {
   "cell_type": "code",
   "execution_count": null,
   "id": "f275c799-3e02-4563-98af-82659222d155",
   "metadata": {},
   "outputs": [],
   "source": [
    "smoking.outcome.value_counts(normalize=True)"
   ]
  },
  {
   "cell_type": "code",
   "execution_count": null,
   "id": "f1284c8e-7dfd-42a6-8c20-3052aba12609",
   "metadata": {},
   "outputs": [],
   "source": [
    "# specifying observer=True includes only categories that are represented in the data\n",
    "# it makes no difference here but it suppressed a pandas warning\n",
    "\n",
    "smoking.groupby(\"smoker\", observed=True).outcome.value_counts(normalize=True)"
   ]
  },
  {
   "cell_type": "code",
   "execution_count": null,
   "id": "e4858e0f-9e50-4cb2-8859-f31dfe21bd1e",
   "metadata": {},
   "outputs": [],
   "source": [
    "smoking.groupby(\"smoker\", observed=True).outcome.value_counts(normalize=True).unstack()"
   ]
  },
  {
   "cell_type": "code",
   "execution_count": null,
   "id": "5c327407-d18d-4646-b13f-9d8ae453e5c4",
   "metadata": {},
   "outputs": [],
   "source": [
    "smoking['agegroup'] = pd.cut(smoking.age, bins=[15,40,65,90])\n",
    "smoking['agegroup']"
   ]
  },
  {
   "cell_type": "code",
   "execution_count": null,
   "id": "d0218117-18d4-48e3-9480-ed516d80c956",
   "metadata": {},
   "outputs": [],
   "source": [
    "smoking.agegroup.value_counts()"
   ]
  },
  {
   "cell_type": "code",
   "execution_count": null,
   "id": "9d346b14-76ed-45d8-93f6-7b0ab6c82ea7",
   "metadata": {},
   "outputs": [],
   "source": [
    "smoking.groupby(['agegroup', 'smoker'], observed=True).outcome.value_counts(normalize=True).unstack()"
   ]
  },
  {
   "cell_type": "code",
   "execution_count": null,
   "id": "6247f23c-056e-4e07-bbb6-e03a7c8f3374",
   "metadata": {},
   "outputs": [],
   "source": [
    "pp.figure(figsize=(6,2))\n",
    "\n",
    "pp.subplot(1,2,1)\n",
    "smoking.outcome.value_counts().plot(kind='bar', color=['C0','C1']) \n",
    "pp.title('outcome')\n",
    "\n",
    "pp.subplot(1,2,2)\n",
    "smoking.smoker.value_counts().plot(kind='bar', color=['C2','C3'])\n",
    "pp.title('smoker');"
   ]
  },
  {
   "cell_type": "code",
   "execution_count": null,
   "id": "0675184c-83e2-487c-85a6-cfe0a11a0505",
   "metadata": {},
   "outputs": [],
   "source": [
    "smoking.outcome.value_counts().plot(kind='barh', color=['C0','C1'], figsize=(3,2)) "
   ]
  },
  {
   "cell_type": "code",
   "execution_count": null,
   "id": "7d742f10-2e06-401e-9af2-c8220d4d083d",
   "metadata": {},
   "outputs": [],
   "source": [
    "smoking.outcome.value_counts().plot(kind='pie', color=['C0','C1'], figsize=(3,2)) "
   ]
  },
  {
   "cell_type": "code",
   "execution_count": null,
   "id": "b8a4dd0f-9311-4a70-8f63-5991272d1cfd",
   "metadata": {},
   "outputs": [],
   "source": [
    "grouped = smoking.groupby(\"smoker\", observed=True).outcome.value_counts(normalize=True).unstack()\n",
    "grouped"
   ]
  },
  {
   "cell_type": "code",
   "execution_count": null,
   "id": "8cf05d8b-7a6e-409b-a49f-08f28eefa873",
   "metadata": {},
   "outputs": [],
   "source": [
    "axes = grouped.plot(kind='bar', figsize=(4,3))\n",
    "axes.legend(loc='upper right', bbox_to_anchor=(1.1, 1)); # fix legend location"
   ]
  },
  {
   "cell_type": "code",
   "execution_count": null,
   "id": "57d7bb5b-709b-4ecc-9ac9-61253ec35874",
   "metadata": {},
   "outputs": [],
   "source": [
    "axes = grouped.plot(kind='bar', figsize=(4,3), stacked=True)\n",
    "axes.legend(loc='upper right', bbox_to_anchor=(1.25, 1)); # fix legend location"
   ]
  },
  {
   "cell_type": "code",
   "execution_count": null,
   "id": "3481d78d-c32d-44ac-9229-1090f4efeaee",
   "metadata": {},
   "outputs": [],
   "source": [
    "regrouped = smoking.groupby(['agegroup', 'smoker'], observed=True).outcome.value_counts(normalize=True).unstack()\n",
    "regrouped"
   ]
  },
  {
   "cell_type": "code",
   "execution_count": null,
   "id": "cc1d7769-c1d6-4d2c-b0aa-570670cf2675",
   "metadata": {},
   "outputs": [],
   "source": [
    "regrouped.plot(kind='bar', figsize=(6,4));"
   ]
  },
  {
   "cell_type": "code",
   "execution_count": null,
   "id": "0e5847e3-902d-41ce-a928-46aa072e97c2",
   "metadata": {},
   "outputs": [],
   "source": [
    "regrouped = smoking.groupby(['agegroup', 'smoker'], observed=True) \\\n",
    "                   .outcome.value_counts(normalize=True).loc[:,:,'Alive'].unstack()\n",
    "regrouped"
   ]
  },
  {
   "cell_type": "code",
   "execution_count": null,
   "id": "b6704d64-e927-4502-af2e-2a6e0aed1da0",
   "metadata": {},
   "outputs": [],
   "source": [
    "regrouped.plot(kind='bar', color=['C2','C3'], figsize=(4,3));\n",
    "pp.ylabel('fraction alive after 20 years');"
   ]
  }
 ],
 "metadata": {
  "kernelspec": {
   "display_name": "Python 3 (ipykernel)",
   "language": "python",
   "name": "python3"
  },
  "language_info": {
   "codemirror_mode": {
    "name": "ipython",
    "version": 3
   },
   "file_extension": ".py",
   "mimetype": "text/x-python",
   "name": "python",
   "nbconvert_exporter": "python",
   "pygments_lexer": "ipython3",
   "version": "3.12.2"
  }
 },
 "nbformat": 4,
 "nbformat_minor": 5
}
