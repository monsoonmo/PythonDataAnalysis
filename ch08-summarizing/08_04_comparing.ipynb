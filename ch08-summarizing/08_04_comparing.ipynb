{
 "cells": [
  {
   "cell_type": "markdown",
   "id": "70dd162d-45a4-4867-bbe6-548baa5a9132",
   "metadata": {},
   "source": [
    "# 08_04: Comparing quantitative variables"
   ]
  },
  {
   "cell_type": "code",
   "execution_count": null,
   "id": "6b27a09f-a430-4080-bb00-8dde6d2e1fd1",
   "metadata": {},
   "outputs": [],
   "source": [
    "import math\n",
    "import collections\n",
    "import dataclasses\n",
    "import datetime\n",
    "\n",
    "import numpy as np\n",
    "import pandas as pd\n",
    "import matplotlib.pyplot as pp"
   ]
  },
  {
   "cell_type": "code",
   "execution_count": null,
   "id": "0063f451-59a2-4b96-b97b-d53db1f58fe3",
   "metadata": {},
   "outputs": [],
   "source": [
    "gm = pd.read_csv('gapminder.csv')"
   ]
  },
  {
   "cell_type": "code",
   "execution_count": null,
   "id": "2786f0ff-5544-416a-b811-5491c96def93",
   "metadata": {},
   "outputs": [],
   "source": [
    "gm.info()"
   ]
  },
  {
   "cell_type": "code",
   "execution_count": null,
   "id": "8ea347b1-17f5-46c1-8108-0394a1530ff0",
   "metadata": {},
   "outputs": [],
   "source": [
    "italy = gm.query('country == \"Italy\"')"
   ]
  },
  {
   "cell_type": "code",
   "execution_count": null,
   "id": "aacc1ad7-df8e-4de3-902f-05a1f801d018",
   "metadata": {},
   "outputs": [],
   "source": [
    "italy.plot.scatter(x='year', y='population', s=3, figsize=(4.5,3));"
   ]
  },
  {
   "cell_type": "code",
   "execution_count": null,
   "id": "6b55c6af-0c13-4c39-87ad-bde7ec598d7a",
   "metadata": {},
   "outputs": [],
   "source": [
    "axes = gm.query('country == \"China\"').plot.scatter(x='year', y='population', label='china', c='C0', s=3, figsize=(4.5,3))\n",
    "gm.query('country == \"India\"').plot.scatter(x='year', y='population', label='india', c='C1', s=3, ax=axes); # reuse axes"
   ]
  },
  {
   "cell_type": "code",
   "execution_count": null,
   "id": "7def8bdb-0fb9-4896-abed-fa56b8d842c5",
   "metadata": {},
   "outputs": [],
   "source": [
    "italy.plot.scatter('year', 'gdp_per_capita', logy=True, s=3, figsize=(4.5,3));"
   ]
  },
  {
   "cell_type": "code",
   "execution_count": null,
   "id": "a3f1f044-d402-48eb-a401-c578dceb1c88",
   "metadata": {},
   "outputs": [],
   "source": [
    "italy.plot.scatter(x='gdp_per_capita', y='life_expectancy', logx=True, s=3, figsize=(4.5,3));"
   ]
  },
  {
   "cell_type": "code",
   "execution_count": null,
   "id": "2a0ae8e8-8448-4b24-ba0c-9e065d4351cd",
   "metadata": {},
   "outputs": [],
   "source": [
    "italy.plot.scatter(x='gdp_per_capita', y='life_expectancy', logx=True, c=italy.year,\n",
    "                   colormap='viridis', s=5, figsize=(5.5,3));"
   ]
  },
  {
   "cell_type": "code",
   "execution_count": null,
   "id": "f5ae0620-c355-4dea-b636-59903885c413",
   "metadata": {},
   "outputs": [],
   "source": [
    "italy.plot.scatter('year', 'life_expectancy', logy=True, s=3, figsize=(4,3));"
   ]
  },
  {
   "cell_type": "code",
   "execution_count": null,
   "id": "1c440c1d-5887-4e48-80bf-4deab3cc66a3",
   "metadata": {},
   "outputs": [],
   "source": [
    "gm2015 = gm[gm.year == 2015]"
   ]
  },
  {
   "cell_type": "code",
   "execution_count": null,
   "id": "d7e6dc89-e9ae-46bf-8174-9468d72c4164",
   "metadata": {},
   "outputs": [],
   "source": [
    "gm2015.plot.scatter(x='gdp_per_capita', y='life_expectancy', logx=True, s=1e-6 * gm2015.population);"
   ]
  },
  {
   "cell_type": "code",
   "execution_count": null,
   "id": "86c09769-f08b-4951-be97-6cb3bfa8dda2",
   "metadata": {},
   "outputs": [],
   "source": [
    "gm2015.plot.scatter(x='gdp_per_capita', y='life_expectancy', logx=True, s=1e-6 * gm2015.population,\n",
    "                    edgecolor='w');"
   ]
  },
  {
   "cell_type": "code",
   "execution_count": null,
   "id": "02e66ce7-406e-4875-9a4d-273d19571ef9",
   "metadata": {},
   "outputs": [],
   "source": [
    "continent = gm2015.region.map({'Africa': 'skyblue', 'Europe': 'gold', 'America': 'palegreen', 'Asia': 'coral', 'Oceania': 'teal'})\n",
    "continent"
   ]
  },
  {
   "cell_type": "code",
   "execution_count": null,
   "id": "a28c4ef0-6e9e-4120-9d66-a5816b9edc17",
   "metadata": {},
   "outputs": [],
   "source": [
    "gm2015.plot.scatter(x='gdp_per_capita', y='life_expectancy', logx=True, s=1e-6 * gm2015.population,\n",
    "                    c=continent, edgecolor='gray');"
   ]
  },
  {
   "cell_type": "code",
   "execution_count": null,
   "id": "19238b99-b083-42ac-ad92-a85c5bc1f41e",
   "metadata": {},
   "outputs": [],
   "source": [
    "gm2015.plot.scatter(x='gdp_per_capita', y='life_expectancy', logx=True, s=1e-6 * gm2015.population,\n",
    "                    c=continent, edgecolor=np.where(gm2015.country == \"USA\", 'black', 'gray'));"
   ]
  },
  {
   "cell_type": "code",
   "execution_count": null,
   "id": "3530b96d-b99d-4351-8601-952a7aa4fccc",
   "metadata": {},
   "outputs": [],
   "source": [
    "def plotyear(year, country):\n",
    "    gm[gm.year == year].plot.scatter(x='gdp_per_capita', y='life_expectancy', logx=True, s=1e-6 * gm2015.population,\n",
    "                                     c=continent, edgecolor=np.where(gm2015.country == country, 'black', 'gray'));\n",
    "    pp.axis(xmin=200, xmax=200000, ymin=15, ymax=90); # fix the plotting ranges"
   ]
  },
  {
   "cell_type": "code",
   "execution_count": null,
   "id": "e60e3485-1d24-43a8-85b8-355ca6f41e0b",
   "metadata": {},
   "outputs": [],
   "source": [
    "from ipywidgets import interactive, widgets"
   ]
  },
  {
   "cell_type": "code",
   "execution_count": null,
   "id": "802c290d-906e-4c52-8646-e09688a3f198",
   "metadata": {},
   "outputs": [],
   "source": [
    "interactive_plot = interactive(plotyear,\n",
    "                               year=widgets.IntSlider(min=1950, max=2023, step=1, value=1950),\n",
    "                               country=widgets.Dropdown(options=['USA', 'China', 'India']))\n",
    "\n",
    "# some versions of Jupyter require workaround to keep the figure from jumping around\n",
    "# interactive_plot.children[-1].layout.height = '400px'\n",
    "interactive_plot"
   ]
  }
 ],
 "metadata": {
  "kernelspec": {
   "display_name": "Python 3 (ipykernel)",
   "language": "python",
   "name": "python3"
  },
  "language_info": {
   "codemirror_mode": {
    "name": "ipython",
    "version": 3
   },
   "file_extension": ".py",
   "mimetype": "text/x-python",
   "name": "python",
   "nbconvert_exporter": "python",
   "pygments_lexer": "ipython3",
   "version": "3.12.2"
  }
 },
 "nbformat": 4,
 "nbformat_minor": 5
}
