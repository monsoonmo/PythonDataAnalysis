{
 "cells": [
  {
   "cell_type": "markdown",
   "metadata": {},
   "source": [
    "# 00_04: Using GitHub CodeSpaces with this course"
   ]
  },
  {
   "cell_type": "code",
   "execution_count": null,
   "metadata": {},
   "outputs": [],
   "source": [
    "print(\"Hello world!\")"
   ]
  },
  {
   "cell_type": "code",
   "execution_count": null,
   "metadata": {},
   "outputs": [],
   "source": [
    "import numpy as np\n",
    "import matplotlib.pyplot as pp  "
   ]
  },
  {
   "cell_type": "code",
   "execution_count": null,
   "metadata": {},
   "outputs": [],
   "source": [
    "pp.figure(figsize=(6, 4))\n",
    "\n",
    "t = np.linspace(0, 30 * np.pi, 5000)\n",
    "fs = [1, (1 + np.sqrt(5)) / 2, np.sqrt(2)]\n",
    "\n",
    "x = np.sin(fs[0] * t) + np.sin(fs[1] * t)\n",
    "y = np.sin(fs[1] * t) + np.sin(fs[2] * t)\n",
    "\n",
    "pp.plot(x, y, color=\"k\", alpha=0.7, linewidth=0.8)\n",
    "pp.axis(\"off\");"
   ]
  }
 ],
 "metadata": {
  "kernelspec": {
   "display_name": "Python 3 (ipykernel)",
   "language": "python",
   "name": "python3"
  },
  "language_info": {
   "codemirror_mode": {
    "name": "ipython",
    "version": 3
   },
   "file_extension": ".py",
   "mimetype": "text/x-python",
   "name": "python",
   "nbconvert_exporter": "python",
   "pygments_lexer": "ipython3",
   "version": "3.11.8"
  }
 },
 "nbformat": 4,
 "nbformat_minor": 4
}
